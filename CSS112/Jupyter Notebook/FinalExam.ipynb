{
 "cells": [
  {
   "cell_type": "markdown",
   "id": "c30cce4a",
   "metadata": {},
   "source": [
    "# Final Exam Full mark is 100  พิมพ์ตอบในipynbนี้"
   ]
  },
  {
   "cell_type": "markdown",
   "id": "4b83711c",
   "metadata": {},
   "source": [
    "# 1. นายกอต้องการ sort ค่าตัวเลขในลิสต์  นายกอทำแบบนี้"
   ]
  },
  {
   "cell_type": "code",
   "execution_count": 4,
   "id": "4b681492",
   "metadata": {},
   "outputs": [
    {
     "data": {
      "text/plain": [
       "['1', '23', '8345', '923']"
      ]
     },
     "execution_count": 4,
     "metadata": {},
     "output_type": "execute_result"
    }
   ],
   "source": [
    "k = ['1','923','23','8345']\n",
    "sorted(k)"
   ]
  },
  {
   "cell_type": "markdown",
   "id": "3303a84e",
   "metadata": {},
   "source": [
    "# นายกอสงสัยว่า เขาควรจะได้ [1, 23, 923, 8345]  ทำไมนายกอถึงไม่ได้ดังที่ต้องการ   จงอธิบาย  "
   ]
  },
  {
   "cell_type": "code",
   "execution_count": null,
   "id": "a763a694",
   "metadata": {},
   "outputs": [],
   "source": []
  },
  {
   "cell_type": "markdown",
   "id": "504e4579",
   "metadata": {},
   "source": [
    "# จงแก้โค้ดแก้ไขตามความต้องการของนายกอ"
   ]
  },
  {
   "cell_type": "code",
   "execution_count": null,
   "id": "f31bcc9d",
   "metadata": {},
   "outputs": [],
   "source": []
  },
  {
   "cell_type": "markdown",
   "id": "157a702c",
   "metadata": {},
   "source": [
    "# 2. นายขอเขียน [print(k) for k in range(5)]  หลังจากลองรันดู มี\n",
    "[None, None, None, None, None]  เป็นผลลัพธ์   ถามว่าเกิดจากเหตุใด  จงอธิบาย\n"
   ]
  },
  {
   "cell_type": "code",
   "execution_count": 8,
   "id": "a86549fd",
   "metadata": {},
   "outputs": [
    {
     "name": "stdout",
     "output_type": "stream",
     "text": [
      "0\n",
      "1\n",
      "2\n",
      "3\n",
      "4\n"
     ]
    },
    {
     "data": {
      "text/plain": [
       "[None, None, None, None, None]"
      ]
     },
     "execution_count": 8,
     "metadata": {},
     "output_type": "execute_result"
    }
   ],
   "source": [
    "[print(k) for k in range(5)]"
   ]
  },
  {
   "cell_type": "markdown",
   "id": "f8594863",
   "metadata": {},
   "source": [
    "# นายขอ ต้องการพิมพ์ด้านบนอย่างเดียว ไม่ต้องการลิสต์ [None, None, None, None, None] จงแก้โค้ดแก้ไขตามความต้องการของนายขอ"
   ]
  },
  {
   "cell_type": "code",
   "execution_count": null,
   "id": "ba5cd2d9",
   "metadata": {},
   "outputs": [],
   "source": []
  },
  {
   "cell_type": "markdown",
   "id": "ba63054a",
   "metadata": {},
   "source": [
    "# 3. นายคอคาดว่า x จะไม่นิยามใน foo() จึงเตรียม exception เอาไว้  แต่ปรากฏว่าพิมพ์10  เพราะอะไร โปรดอธิบาย"
   ]
  },
  {
   "cell_type": "code",
   "execution_count": 5,
   "id": "205ce15a",
   "metadata": {},
   "outputs": [],
   "source": [
    "x = 10\n",
    "def foo():\n",
    "    try:\n",
    "        print(x)\n",
    "    except NameError:\n",
    "        print('Name Error')\n",
    "        "
   ]
  },
  {
   "cell_type": "code",
   "execution_count": 26,
   "id": "c7a5ddd9",
   "metadata": {},
   "outputs": [
    {
     "name": "stdout",
     "output_type": "stream",
     "text": [
      "10\n"
     ]
    }
   ],
   "source": [
    "foo()"
   ]
  },
  {
   "cell_type": "markdown",
   "id": "6c62ff89",
   "metadata": {},
   "source": [
    "# 4. จากข้อสาม  นายคอเลยทำแบบนี้  แต่กลับได้ UnboundLocalError เพราะอะไร"
   ]
  },
  {
   "cell_type": "code",
   "execution_count": 7,
   "id": "e2e469ad",
   "metadata": {},
   "outputs": [],
   "source": [
    "x = 10\n",
    "def foo():\n",
    "    x += 1\n",
    "    print(x)"
   ]
  },
  {
   "cell_type": "code",
   "execution_count": 8,
   "id": "04c23a7b",
   "metadata": {},
   "outputs": [
    {
     "ename": "UnboundLocalError",
     "evalue": "local variable 'x' referenced before assignment",
     "output_type": "error",
     "traceback": [
      "\u001b[0;31m---------------------------------------------------------------------------\u001b[0m",
      "\u001b[0;31mUnboundLocalError\u001b[0m                         Traceback (most recent call last)",
      "Cell \u001b[0;32mIn[8], line 1\u001b[0m\n\u001b[0;32m----> 1\u001b[0m foo()\n",
      "Cell \u001b[0;32mIn[7], line 3\u001b[0m, in \u001b[0;36mfoo\u001b[0;34m()\u001b[0m\n\u001b[1;32m      2\u001b[0m \u001b[39mdef\u001b[39;00m \u001b[39mfoo\u001b[39m():\n\u001b[0;32m----> 3\u001b[0m     x \u001b[39m+\u001b[39m\u001b[39m=\u001b[39m \u001b[39m1\u001b[39m\n\u001b[1;32m      4\u001b[0m     \u001b[39mprint\u001b[39m(x)\n",
      "\u001b[0;31mUnboundLocalError\u001b[0m: local variable 'x' referenced before assignment"
     ]
    }
   ],
   "source": [
    "foo()"
   ]
  },
  {
   "cell_type": "markdown",
   "id": "5401b52c",
   "metadata": {},
   "source": [
    "# 5. จงแก้ไขโค้ดข้อ4 ให้พิมพ์ 11  โดยใช้ global, nonlocal. ใส่ตรงคำว่า#Your code here"
   ]
  },
  {
   "cell_type": "code",
   "execution_count": 11,
   "id": "9fd063e5",
   "metadata": {},
   "outputs": [],
   "source": [
    "x = 10\n",
    "def foo():\n",
    "    global x\n",
    "    x += 1\n",
    "    print(x)"
   ]
  },
  {
   "cell_type": "code",
   "execution_count": 12,
   "id": "d56dfee5",
   "metadata": {},
   "outputs": [
    {
     "name": "stdout",
     "output_type": "stream",
     "text": [
      "11\n"
     ]
    }
   ],
   "source": [
    "foo()"
   ]
  },
  {
   "cell_type": "markdown",
   "id": "511828de",
   "metadata": {},
   "source": [
    "# 6. ทำไม lst ในfoo1ถึงถูก append , แต่ lst ใน foo2เกิด error?"
   ]
  },
  {
   "cell_type": "code",
   "execution_count": 43,
   "id": "f3f8a718",
   "metadata": {},
   "outputs": [
    {
     "name": "stdout",
     "output_type": "stream",
     "text": [
      "[1, 2, 3, 5]\n"
     ]
    }
   ],
   "source": [
    "lst = [1, 2, 3]\n",
    "def foo1():\n",
    "    lst.append(5)   # This works ok\n",
    "\n",
    "foo1()\n",
    "print(lst)\n"
   ]
  },
  {
   "cell_type": "code",
   "execution_count": 44,
   "id": "3e014218",
   "metadata": {},
   "outputs": [
    {
     "ename": "UnboundLocalError",
     "evalue": "local variable 'lst' referenced before assignment",
     "output_type": "error",
     "traceback": [
      "\u001b[1;31m---------------------------------------------------------------------------\u001b[0m",
      "\u001b[1;31mUnboundLocalError\u001b[0m                         Traceback (most recent call last)",
      "\u001b[1;32m~\\AppData\\Local\\Temp\\ipykernel_21640\\3774814017.py\u001b[0m in \u001b[0;36m<module>\u001b[1;34m\u001b[0m\n\u001b[0;32m      2\u001b[0m     \u001b[0mlst\u001b[0m \u001b[1;33m+=\u001b[0m \u001b[1;33m[\u001b[0m\u001b[1;36m5\u001b[0m\u001b[1;33m]\u001b[0m\u001b[1;33m\u001b[0m\u001b[1;33m\u001b[0m\u001b[0m\n\u001b[0;32m      3\u001b[0m \u001b[1;33m\u001b[0m\u001b[0m\n\u001b[1;32m----> 4\u001b[1;33m \u001b[0mfoo2\u001b[0m\u001b[1;33m(\u001b[0m\u001b[1;33m)\u001b[0m\u001b[1;33m\u001b[0m\u001b[1;33m\u001b[0m\u001b[0m\n\u001b[0m",
      "\u001b[1;32m~\\AppData\\Local\\Temp\\ipykernel_21640\\3774814017.py\u001b[0m in \u001b[0;36mfoo2\u001b[1;34m()\u001b[0m\n\u001b[0;32m      1\u001b[0m \u001b[1;32mdef\u001b[0m \u001b[0mfoo2\u001b[0m\u001b[1;33m(\u001b[0m\u001b[1;33m)\u001b[0m\u001b[1;33m:\u001b[0m\u001b[1;33m\u001b[0m\u001b[1;33m\u001b[0m\u001b[0m\n\u001b[1;32m----> 2\u001b[1;33m     \u001b[0mlst\u001b[0m \u001b[1;33m+=\u001b[0m \u001b[1;33m[\u001b[0m\u001b[1;36m5\u001b[0m\u001b[1;33m]\u001b[0m\u001b[1;33m\u001b[0m\u001b[1;33m\u001b[0m\u001b[0m\n\u001b[0m\u001b[0;32m      3\u001b[0m \u001b[1;33m\u001b[0m\u001b[0m\n\u001b[0;32m      4\u001b[0m \u001b[0mfoo2\u001b[0m\u001b[1;33m(\u001b[0m\u001b[1;33m)\u001b[0m\u001b[1;33m\u001b[0m\u001b[1;33m\u001b[0m\u001b[0m\n",
      "\u001b[1;31mUnboundLocalError\u001b[0m: local variable 'lst' referenced before assignment"
     ]
    }
   ],
   "source": [
    "def foo2():\n",
    "    lst += [5]   \n",
    "    \n",
    "foo2()"
   ]
  },
  {
   "cell_type": "markdown",
   "id": "5fb09576",
   "metadata": {},
   "source": [
    "# 7 ทำไมค่า b เปลี่ยน  เมื่อเราเปลี่ยนค่า a[1][1] ?"
   ]
  },
  {
   "cell_type": "code",
   "execution_count": 49,
   "id": "156acc53",
   "metadata": {},
   "outputs": [],
   "source": [
    "a=[1,[2,3],4]\n",
    "b=a[1]\n"
   ]
  },
  {
   "cell_type": "code",
   "execution_count": 50,
   "id": "f4e28937",
   "metadata": {},
   "outputs": [
    {
     "data": {
      "text/plain": [
       "[2, 3]"
      ]
     },
     "execution_count": 50,
     "metadata": {},
     "output_type": "execute_result"
    }
   ],
   "source": [
    "b"
   ]
  },
  {
   "cell_type": "code",
   "execution_count": 51,
   "id": "ddfa4bc1",
   "metadata": {},
   "outputs": [],
   "source": [
    "a[1][1] =100"
   ]
  },
  {
   "cell_type": "code",
   "execution_count": 52,
   "id": "68525a3d",
   "metadata": {},
   "outputs": [
    {
     "data": {
      "text/plain": [
       "[2, 100]"
      ]
     },
     "execution_count": 52,
     "metadata": {},
     "output_type": "execute_result"
    }
   ],
   "source": [
    "b"
   ]
  },
  {
   "cell_type": "markdown",
   "id": "0b93ae21",
   "metadata": {},
   "source": [
    "# 8. นักเรียนคิดว่าข้อนี้ ผู้เขียนโปรแกรมทำอะไรผิดจึงเกิด IndexError?"
   ]
  },
  {
   "cell_type": "code",
   "execution_count": 54,
   "id": "2fee38cd",
   "metadata": {},
   "outputs": [
    {
     "ename": "IndexError",
     "evalue": "list index out of range",
     "output_type": "error",
     "traceback": [
      "\u001b[1;31m---------------------------------------------------------------------------\u001b[0m",
      "\u001b[1;31mIndexError\u001b[0m                                Traceback (most recent call last)",
      "\u001b[1;32m~\\AppData\\Local\\Temp\\ipykernel_21640\\4160315385.py\u001b[0m in \u001b[0;36m<module>\u001b[1;34m\u001b[0m\n\u001b[0;32m      2\u001b[0m \u001b[0mnumbers\u001b[0m \u001b[1;33m=\u001b[0m \u001b[1;33m[\u001b[0m\u001b[0mn\u001b[0m \u001b[1;32mfor\u001b[0m \u001b[0mn\u001b[0m \u001b[1;32min\u001b[0m \u001b[0mrange\u001b[0m\u001b[1;33m(\u001b[0m\u001b[1;36m10\u001b[0m\u001b[1;33m)\u001b[0m\u001b[1;33m]\u001b[0m\u001b[1;33m\u001b[0m\u001b[1;33m\u001b[0m\u001b[0m\n\u001b[0;32m      3\u001b[0m \u001b[1;32mfor\u001b[0m \u001b[0mi\u001b[0m \u001b[1;32min\u001b[0m \u001b[0mrange\u001b[0m\u001b[1;33m(\u001b[0m\u001b[0mlen\u001b[0m\u001b[1;33m(\u001b[0m\u001b[0mnumbers\u001b[0m\u001b[1;33m)\u001b[0m\u001b[1;33m)\u001b[0m\u001b[1;33m:\u001b[0m\u001b[1;33m\u001b[0m\u001b[1;33m\u001b[0m\u001b[0m\n\u001b[1;32m----> 4\u001b[1;33m     \u001b[1;32mif\u001b[0m \u001b[0modd\u001b[0m\u001b[1;33m(\u001b[0m\u001b[0mnumbers\u001b[0m\u001b[1;33m[\u001b[0m\u001b[0mi\u001b[0m\u001b[1;33m]\u001b[0m\u001b[1;33m)\u001b[0m\u001b[1;33m:\u001b[0m\u001b[1;33m\u001b[0m\u001b[1;33m\u001b[0m\u001b[0m\n\u001b[0m\u001b[0;32m      5\u001b[0m         \u001b[1;32mdel\u001b[0m \u001b[0mnumbers\u001b[0m\u001b[1;33m[\u001b[0m\u001b[0mi\u001b[0m\u001b[1;33m]\u001b[0m\u001b[1;33m\u001b[0m\u001b[1;33m\u001b[0m\u001b[0m\n",
      "\u001b[1;31mIndexError\u001b[0m: list index out of range"
     ]
    }
   ],
   "source": [
    "odd = lambda x : bool(x % 2)\n",
    "numbers = [n for n in range(10)]\n",
    "for i in range(len(numbers)):\n",
    "    if odd(numbers[i]):\n",
    "        del numbers[i]  "
   ]
  },
  {
   "cell_type": "markdown",
   "id": "4f048782",
   "metadata": {},
   "source": [
    "# 9. จงแก้ไขให้ b ไม่เปลี่ยนตาม a"
   ]
  },
  {
   "cell_type": "code",
   "execution_count": 55,
   "id": "278cd807",
   "metadata": {},
   "outputs": [
    {
     "name": "stdout",
     "output_type": "stream",
     "text": [
      "[[100   3   4]\n",
      " [  1   4   5]]\n",
      "[[100   3   4]\n",
      " [  1   4   5]]\n"
     ]
    }
   ],
   "source": [
    "import numpy as np\n",
    "a =np.array([[2,3,4],[1,4,5]])\n",
    "b = a\n",
    "a[0][0]=100\n",
    "print(a)\n",
    "print(b)"
   ]
  },
  {
   "cell_type": "markdown",
   "id": "dba49191",
   "metadata": {},
   "source": [
    "# จะสังเกตุว่าเมื่อเราเปลี่ยนa[0][0], เราทำให้ b[0][0] เปลี่ยนตาม  จงแก้ไขให้มันไม่เปลี่ยนตาม"
   ]
  },
  {
   "cell_type": "code",
   "execution_count": 57,
   "id": "45c9aa63",
   "metadata": {},
   "outputs": [
    {
     "name": "stdout",
     "output_type": "stream",
     "text": [
      "[[100   3   4]\n",
      " [  1   4   5]]\n",
      "[[2 3 4]\n",
      " [1 4 5]]\n"
     ]
    }
   ],
   "source": []
  },
  {
   "cell_type": "markdown",
   "id": "1a0ecf62",
   "metadata": {},
   "source": [
    "# 10. โค้ดด้านล่างผิดตรงไหน? ทำไมเกิด type error"
   ]
  },
  {
   "cell_type": "code",
   "execution_count": 1,
   "id": "8b3db898",
   "metadata": {},
   "outputs": [],
   "source": [
    "class A:\n",
    "    def __init__():\n",
    "        pass\n",
    "    \n",
    "    def amethod():\n",
    "        pass\n",
    "        "
   ]
  },
  {
   "cell_type": "code",
   "execution_count": 2,
   "id": "a3e3904f",
   "metadata": {},
   "outputs": [
    {
     "ename": "TypeError",
     "evalue": "__init__() takes 0 positional arguments but 1 was given",
     "output_type": "error",
     "traceback": [
      "\u001b[1;31m---------------------------------------------------------------------------\u001b[0m",
      "\u001b[1;31mTypeError\u001b[0m                                 Traceback (most recent call last)",
      "\u001b[1;32m~\\AppData\\Local\\Temp\\ipykernel_5024\\2465787312.py\u001b[0m in \u001b[0;36m<module>\u001b[1;34m\u001b[0m\n\u001b[1;32m----> 1\u001b[1;33m \u001b[0manA\u001b[0m \u001b[1;33m=\u001b[0m \u001b[0mA\u001b[0m\u001b[1;33m(\u001b[0m\u001b[1;33m)\u001b[0m\u001b[1;33m\u001b[0m\u001b[1;33m\u001b[0m\u001b[0m\n\u001b[0m\u001b[0;32m      2\u001b[0m \u001b[0manA\u001b[0m\u001b[1;33m.\u001b[0m\u001b[0mamethod\u001b[0m\u001b[1;33m(\u001b[0m\u001b[1;33m)\u001b[0m\u001b[1;33m\u001b[0m\u001b[1;33m\u001b[0m\u001b[0m\n",
      "\u001b[1;31mTypeError\u001b[0m: __init__() takes 0 positional arguments but 1 was given"
     ]
    }
   ],
   "source": [
    "anA = A()\n",
    "anA.amethod()"
   ]
  },
  {
   "cell_type": "code",
   "execution_count": null,
   "id": "6776ddf9",
   "metadata": {},
   "outputs": [],
   "source": []
  },
  {
   "cell_type": "markdown",
   "id": "edb8c960",
   "metadata": {},
   "source": [
    "# 11. จงอธิบายว่า with ในการทำงานกับไฟล์"
   ]
  },
  {
   "cell_type": "code",
   "execution_count": 79,
   "id": "b13c901c",
   "metadata": {},
   "outputs": [],
   "source": [
    "with open(\"test.txt\",'w',encoding = 'utf-8') as f:\n",
    "    f.write(\"This file ------\\n\\n\")\n",
    "    f.write(\"11 22\\n\\n\")"
   ]
  },
  {
   "cell_type": "markdown",
   "id": "3b861274",
   "metadata": {},
   "source": [
    "# ต่างกับ"
   ]
  },
  {
   "cell_type": "code",
   "execution_count": 80,
   "id": "af024dec",
   "metadata": {},
   "outputs": [
    {
     "data": {
      "text/plain": [
       "7"
      ]
     },
     "execution_count": 80,
     "metadata": {},
     "output_type": "execute_result"
    }
   ],
   "source": [
    "f2 = open('test.txt','w')\n",
    "f2.write(\"This file ------\\n\\n\")\n",
    "f2.write(\"11 22\\n\\n\")"
   ]
  },
  {
   "cell_type": "markdown",
   "id": "351e90ba",
   "metadata": {},
   "source": [
    "# อย่างไร?"
   ]
  },
  {
   "cell_type": "code",
   "execution_count": null,
   "id": "04330701",
   "metadata": {},
   "outputs": [],
   "source": []
  },
  {
   "cell_type": "markdown",
   "id": "b39a4278",
   "metadata": {},
   "source": [
    "# 12. ทำไมหลังบรรทัด del p.x , ค่าของ p.xยังอยู่และมีค่าเท่ากับ10?"
   ]
  },
  {
   "cell_type": "code",
   "execution_count": 83,
   "id": "2da408e9",
   "metadata": {},
   "outputs": [
    {
     "name": "stdout",
     "output_type": "stream",
     "text": [
      "p.x 10\n",
      "p.y 7\n",
      "p.x 12\n",
      "p.x aftr del 10\n"
     ]
    }
   ],
   "source": [
    "class TV:\n",
    "    x = 10\n",
    "    y = 7\n",
    "    \n",
    "p = TV()\n",
    "print('p.x',p.x) \n",
    "print('p.y',p.y)  \n",
    "p.x = 12 \n",
    "print('p.x',p.x) \n",
    "del p.x \n",
    "print('p.x aftr del',p.x) "
   ]
  },
  {
   "cell_type": "markdown",
   "id": "810a2d3d",
   "metadata": {},
   "source": [
    "# 13. Code นี้ผิดอย่างไร"
   ]
  },
  {
   "cell_type": "code",
   "execution_count": 84,
   "id": "edc970a1",
   "metadata": {},
   "outputs": [
    {
     "ename": "TypeError",
     "evalue": "'tuple' object does not support item assignment",
     "output_type": "error",
     "traceback": [
      "\u001b[1;31m---------------------------------------------------------------------------\u001b[0m",
      "\u001b[1;31mTypeError\u001b[0m                                 Traceback (most recent call last)",
      "\u001b[1;32m~\\AppData\\Local\\Temp\\ipykernel_21640\\4193878159.py\u001b[0m in \u001b[0;36m<module>\u001b[1;34m\u001b[0m\n\u001b[0;32m      1\u001b[0m \u001b[0mt\u001b[0m \u001b[1;33m=\u001b[0m \u001b[1;33m(\u001b[0m\u001b[1;36m1\u001b[0m\u001b[1;33m,\u001b[0m\u001b[1;36m2\u001b[0m\u001b[1;33m,\u001b[0m\u001b[1;36m3\u001b[0m\u001b[1;33m)\u001b[0m\u001b[1;33m\u001b[0m\u001b[1;33m\u001b[0m\u001b[0m\n\u001b[1;32m----> 2\u001b[1;33m \u001b[0mt\u001b[0m\u001b[1;33m[\u001b[0m\u001b[1;36m1\u001b[0m\u001b[1;33m]\u001b[0m \u001b[1;33m=\u001b[0m \u001b[1;36m9\u001b[0m\u001b[1;33m\u001b[0m\u001b[1;33m\u001b[0m\u001b[0m\n\u001b[0m",
      "\u001b[1;31mTypeError\u001b[0m: 'tuple' object does not support item assignment"
     ]
    }
   ],
   "source": [
    "t = (1,2,3)\n",
    "t[1] = 9"
   ]
  },
  {
   "cell_type": "markdown",
   "id": "e849ca84",
   "metadata": {},
   "source": [
    "# 14. ทำไม y ถึงเปลี่ยนค่าตาม x ด้วย"
   ]
  },
  {
   "cell_type": "code",
   "execution_count": 86,
   "id": "e851755f",
   "metadata": {},
   "outputs": [
    {
     "name": "stdout",
     "output_type": "stream",
     "text": [
      "[-100, 2, 3, 4]\n"
     ]
    }
   ],
   "source": [
    "y = [1,2,3]\n",
    "\n",
    "def func(x):\n",
    "    x.append(4)\n",
    "    x[0] = -100\n",
    "\n",
    "func(y)\n",
    "\n",
    "print(y)"
   ]
  },
  {
   "cell_type": "markdown",
   "id": "aff86f11",
   "metadata": {},
   "source": [
    "# จงแก้ไขโค้ดให้ y ไม่เปลี่ยนตาม x"
   ]
  },
  {
   "cell_type": "code",
   "execution_count": null,
   "id": "66b0e2a7",
   "metadata": {},
   "outputs": [],
   "source": []
  },
  {
   "cell_type": "markdown",
   "id": "e30865d7",
   "metadata": {},
   "source": [
    "# 15. ทำไมถึงเกิด error"
   ]
  },
  {
   "cell_type": "code",
   "execution_count": 87,
   "id": "cad18825",
   "metadata": {},
   "outputs": [
    {
     "ename": "TypeError",
     "evalue": "kwo() missing 1 required keyword-only argument: 'c'",
     "output_type": "error",
     "traceback": [
      "\u001b[1;31m---------------------------------------------------------------------------\u001b[0m",
      "\u001b[1;31mTypeError\u001b[0m                                 Traceback (most recent call last)",
      "\u001b[1;32m~\\AppData\\Local\\Temp\\ipykernel_21640\\3393919092.py\u001b[0m in \u001b[0;36m<module>\u001b[1;34m\u001b[0m\n\u001b[0;32m      2\u001b[0m     \u001b[0mprint\u001b[0m\u001b[1;33m(\u001b[0m\u001b[0ma\u001b[0m\u001b[1;33m,\u001b[0m \u001b[0mc\u001b[0m\u001b[1;33m)\u001b[0m\u001b[1;33m\u001b[0m\u001b[1;33m\u001b[0m\u001b[0m\n\u001b[0;32m      3\u001b[0m \u001b[1;33m\u001b[0m\u001b[0m\n\u001b[1;32m----> 4\u001b[1;33m \u001b[0mkwo\u001b[0m\u001b[1;33m(\u001b[0m\u001b[1;36m1\u001b[0m\u001b[1;33m,\u001b[0m \u001b[1;36m2\u001b[0m\u001b[1;33m)\u001b[0m\u001b[1;33m\u001b[0m\u001b[1;33m\u001b[0m\u001b[0m\n\u001b[0m",
      "\u001b[1;31mTypeError\u001b[0m: kwo() missing 1 required keyword-only argument: 'c'"
     ]
    }
   ],
   "source": [
    "def kwo(*a, c):\n",
    "    print(a, c)\n",
    "\n",
    "kwo(1, 2) "
   ]
  },
  {
   "cell_type": "markdown",
   "id": "c9ea8dc9",
   "metadata": {},
   "source": [
    "# จงแก้ไข เรียกฟังก์ชั่นนี้ไม่ให้เกิด error "
   ]
  },
  {
   "cell_type": "code",
   "execution_count": null,
   "id": "59706d5b",
   "metadata": {},
   "outputs": [],
   "source": []
  },
  {
   "cell_type": "markdown",
   "id": "a089d059",
   "metadata": {},
   "source": [
    "# 16. นายบีต้องการสร้างaให้มีค่าเริ่มต้น listว่าง แต่ไม่ได้ต้องการให้เกิดปัญหาที่พอเรียกครั้งที่สอง a ไม่ใช่ลิสต์ว่างแล้วเพิ่มelementจากการเรียกครั้งแรกอีกด้วย  ปัญหานี้จะแก้ไขอย่างไร"
   ]
  },
  {
   "cell_type": "code",
   "execution_count": 3,
   "id": "d279ff6e",
   "metadata": {},
   "outputs": [
    {
     "name": "stdout",
     "output_type": "stream",
     "text": [
      "[]\n",
      "1\n",
      "############\n",
      "[1]\n",
      "2\n",
      "############\n",
      "[1, 2]\n",
      "3\n",
      "############\n"
     ]
    }
   ],
   "source": [
    "def func(b,a=[]):\n",
    "    print(a)\n",
    "    print(b)\n",
    "    print('#' * 12)\n",
    "    a.append(b) \n",
    "\n",
    "func(1)\n",
    "func(2)\n",
    "func(3)\n",
    "\n",
    "'''\n",
    "ไม่ได้ต้องการแบบนี้  แบบที่เพิ่มelementจากการเรียกครั้งที่แล้ว\n",
    "############\n",
    "[1]\n",
    "2\n",
    "############\n",
    "[1, 2]\n",
    "3\n",
    "############\n",
    "'''"
   ]
  },
  {
   "cell_type": "code",
   "execution_count": null,
   "id": "60003133",
   "metadata": {},
   "outputs": [],
   "source": []
  },
  {
   "cell_type": "markdown",
   "id": "83fa93ae",
   "metadata": {},
   "source": [
    "# 17. จงเขียนโค้ดให้ \n",
    "cnp=[[ 2  6 10],\n",
    " [ 3  7 11]]\n",
    " โดยการบวกระหว่างanpกับbnpแบบbroadcasting \n",
    " # ตรง  Your code here"
   ]
  },
  {
   "cell_type": "code",
   "execution_count": 91,
   "id": "d37ad0d2",
   "metadata": {},
   "outputs": [
    {
     "name": "stdout",
     "output_type": "stream",
     "text": [
      "[[ 2  6 10]\n",
      " [ 3  7 11]]\n"
     ]
    }
   ],
   "source": [
    "anp = np.array([[1 ,2],[3,4],[5,6]])\n",
    "bnp = np.array([1,3,5])\n",
    "cnp = #Your code here\n",
    "print(cnp)"
   ]
  },
  {
   "cell_type": "markdown",
   "id": "0c46a34e",
   "metadata": {},
   "source": [
    "# 18. นายกอต้องการ nested list โดยมีลิสต์ข้างในเหมือนกันสี่ชุดจึงสร้างลิสต์ดังนี้"
   ]
  },
  {
   "cell_type": "code",
   "execution_count": 94,
   "id": "73710793",
   "metadata": {},
   "outputs": [
    {
     "name": "stdout",
     "output_type": "stream",
     "text": [
      "[[1, 2, 3], [1, 2, 3], [1, 2, 3], [1, 2, 3]]\n"
     ]
    }
   ],
   "source": [
    "x = [[1,2,3]]*4\n",
    "print(x)"
   ]
  },
  {
   "cell_type": "markdown",
   "id": "eea8c605",
   "metadata": {},
   "source": [
    "# ถ้านายกอต้องการเปลี่ยน x[1][1] แค่ค่าเดียว จะเกิดบั๊คอะไรขึ้น?  "
   ]
  },
  {
   "cell_type": "code",
   "execution_count": 95,
   "id": "5ba97d7d",
   "metadata": {},
   "outputs": [
    {
     "name": "stdout",
     "output_type": "stream",
     "text": [
      "[[1, 100, 3], [1, 100, 3], [1, 100, 3], [1, 100, 3]]\n"
     ]
    }
   ],
   "source": []
  },
  {
   "cell_type": "markdown",
   "id": "6e0bf7d1",
   "metadata": {},
   "source": [
    "# นายกอควรแก้ไขโดยการสร้างลิสต์ใหม่อย่างไร?"
   ]
  },
  {
   "cell_type": "code",
   "execution_count": null,
   "id": "46be9701",
   "metadata": {},
   "outputs": [],
   "source": []
  },
  {
   "cell_type": "markdown",
   "id": "b8f6f88e",
   "metadata": {},
   "source": [
    "# 19. จงเรียงลำดับลิสต์ของทูเปิลจากมากไปน้อย  โดยการนำค่าที่มากที่สุดในtupeมาเป็นตัววัดว่า tupeใดมากกว่า เช่น\n",
    "(2,3) vs (0,5) vs (1,2) <br>\n",
    "max(2,3) =3<br>\n",
    "max (0,5) = 5<br>\n",
    "เพราะฉะนั้น (0,5) > (2,3)<br>\n",
    "\n",
    "\n",
    "# บอกใบ้: ใช้ sorted โดยมี key เป็น lambda function ที่คำนวน max ของ tuple"
   ]
  },
  {
   "cell_type": "markdown",
   "id": "6aadc7ad",
   "metadata": {},
   "source": [
    "a = [(2,3),(5,9),(-2,4),(0,8)] <br>\n",
    "หลังเรียง ได้คำตอบ asort = [(5, 9), (0, 8), (-2, 4), (2, 3)]"
   ]
  },
  {
   "cell_type": "code",
   "execution_count": 5,
   "id": "c84e9796",
   "metadata": {},
   "outputs": [
    {
     "name": "stdout",
     "output_type": "stream",
     "text": [
      "[(9, 5), (0, 8), (4, -2), (2, 3)]\n"
     ]
    }
   ],
   "source": [
    "a = [(2,3),(9,5),(4,-2),(0,8)]\n",
    "asort = sorted(#Your Code Here\n",
    "print(asort)"
   ]
  },
  {
   "cell_type": "markdown",
   "id": "d2dffacd",
   "metadata": {},
   "source": [
    "# 20 จงเรียงลำดับลิสต์ของObjectจากมากไปน้อย  โดยการนำค่าที่มากที่สุดในObjectมาเป็นตัววัดว่า Object ใดมากกว่า เช่น\n",
    "Object1(2,3) vs Object1(0,5) vs Object1(1,2) <br>\n",
    "max(2,3) =3<br>\n",
    "max (0,5) = 5<br>\n",
    "เพราะฉะนั้น Object1(0,5) > Object1(2,3)<br>\n",
    "\n",
    "\n",
    "# บอกใบ้: Define __gt__ แล้วใช้sorted โดยไม่ต้องใช้key"
   ]
  },
  {
   "cell_type": "code",
   "execution_count": 6,
   "id": "3b2a5b60",
   "metadata": {},
   "outputs": [],
   "source": [
    "class Object1:\n",
    "    def __init__(self,a):\n",
    "        self.a = a[0]\n",
    "        self.b = a[1]\n",
    "        \n",
    "    def __str__(self):\n",
    "        return f\"Object1({self.a},{self.b})\"\n",
    "        \n",
    "    def __gt__(self,other):\n",
    "        return #Your Code Here"
   ]
  },
  {
   "cell_type": "code",
   "execution_count": 7,
   "id": "2ce128aa",
   "metadata": {},
   "outputs": [
    {
     "name": "stdout",
     "output_type": "stream",
     "text": [
      "Object1(2,3)\n",
      "Object1(9,5)\n",
      "Object1(4,-2)\n",
      "Object1(0,8)\n"
     ]
    }
   ],
   "source": [
    "a = [(2,3),(9,5),(4,-2),(0,8)]\n",
    "aObj1s = [Object1(i) for i in a]\n",
    "for i in aObj1s:\n",
    "    print(i)"
   ]
  },
  {
   "cell_type": "code",
   "execution_count": 8,
   "id": "7a120dab",
   "metadata": {},
   "outputs": [],
   "source": [
    "aObj1sSorted = sorted(#Your Code Here"
   ]
  },
  {
   "cell_type": "code",
   "execution_count": 9,
   "id": "c346f54d",
   "metadata": {},
   "outputs": [
    {
     "name": "stdout",
     "output_type": "stream",
     "text": [
      "Object1(9,5)\n",
      "Object1(0,8)\n",
      "Object1(4,-2)\n",
      "Object1(2,3)\n"
     ]
    }
   ],
   "source": [
    "for i in aObj1sSorted:\n",
    "    print(i)"
   ]
  },
  {
   "cell_type": "code",
   "execution_count": null,
   "id": "5de6a034",
   "metadata": {},
   "outputs": [],
   "source": []
  }
 ],
 "metadata": {
  "kernelspec": {
   "display_name": "Python 3",
   "language": "python",
   "name": "python3"
  },
  "language_info": {
   "codemirror_mode": {
    "name": "ipython",
    "version": 3
   },
   "file_extension": ".py",
   "mimetype": "text/x-python",
   "name": "python",
   "nbconvert_exporter": "python",
   "pygments_lexer": "ipython3",
   "version": "3.10.8"
  },
  "vscode": {
   "interpreter": {
    "hash": "b0fa6594d8f4cbf19f97940f81e996739fb7646882a419484c72d19e05852a7e"
   }
  }
 },
 "nbformat": 4,
 "nbformat_minor": 5
}
