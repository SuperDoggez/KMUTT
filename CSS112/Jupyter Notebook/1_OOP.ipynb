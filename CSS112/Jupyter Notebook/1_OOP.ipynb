{
 "cells": [
  {
   "cell_type": "markdown",
   "id": "63d6203a",
   "metadata": {},
   "source": [
    "# Chapter 6: Python Object Oriented Programming"
   ]
  },
  {
   "cell_type": "markdown",
   "id": "add5600d",
   "metadata": {},
   "source": [
    "ทุกอย่างในไพธอนเป็น object (วัตถุ). ดังนั้น OOP จึงเป็นคุณลักษณะหลักของไพธอน\n",
    "สองสิ่งหลักในOOP คือ object และ class. Class เปรียบเสมือนแบบแปลนพิมพ์เขียวสำหรับการสร้างวัตถุ\n",
    "เมื่อวัตถุถูกสร้างขึ้นโดยclass, มันจะสืบคุณสมบัติ class attributes และ methods "
   ]
  },
  {
   "cell_type": "code",
   "execution_count": 1,
   "id": "31eb1ea5",
   "metadata": {},
   "outputs": [
    {
     "name": "stdout",
     "output_type": "stream",
     "text": [
      "<class 'type'>\n",
      "<class '__main__.Simplest'>\n",
      "True\n"
     ]
    }
   ],
   "source": [
    "# oop/simplest.class.py\n",
    "class Simplest():  # when empty, the braces are optional\n",
    "    pass\n",
    "print(type(Simplest))  # what type is this object?\n",
    "simp = Simplest()  # we create an instance of Simplest: simp\n",
    "print(type(simp))  # what type is simp?\n",
    "# is simp an instance of Simplest?\n",
    "print(type(simp) is Simplest)  # There's a better way to do this\n"
   ]
  },
  {
   "cell_type": "markdown",
   "id": "fb38c4db",
   "metadata": {},
   "source": [
    "อธิบายนักเรียนเป็นภาษาไทย\n",
    "Class Simplest ที่เราสร้างขึ้นทำงานแค่ผ่านคำสั่งอย่างเดียว  นั่นคือมันไม่มีattributesหรือmethodเฉพาะสำหรับตัวมัน. วงเล็บหลังตัวมันแสดงถึงการสืบทอดต่อจากคลาสบรรพบุรุษซึ่งในกรณีนี้ไม่มี ถ้าภายในวงเล็บว่างสามารถละทิ้งได้  เราพิมพ์ typeของมันออกมาดู  ซึ่งก็พบคำว่า __main__ ซึ่งเป็นชื่อของสโคปซึ่งอยู่สูงสุดของชั้นของการexecute โค้ด\n",
    "สิ่งที่เราเห็น <class '__main__.Simplest'> คือวัตถุไม่ใช่คลาส  \n",
    "ให้นักเรียนสนใจศัพท์คำว่า วัตถุ กับ instanceของคลาส  คำว่า instance นั้นคงเปรียบได้กับชีวิต  เพราะinstance ต้องการหน่วยความจำของคำพิวเตอร์และเวลาของการทำงานของซีพียู\n"
   ]
  },
  {
   "cell_type": "markdown",
   "id": "72ca2f8f",
   "metadata": {},
   "source": [
    "# Class and object namespaces\n",
    "\n",
    "ภายในคลาสเป็นname space(ช่องชื่อ)เป็นของตัวเอง  เราสามารถสร้างวัตถุของคลาสขึ้นมา แต่ละ instance สืบทอดคุณลักษณะของคลาส (class attriubutes) และวิธีการ (methods)ทั้งหลายและมีช่องชื่อ (namespace)เป็นของตัวเอง  เราใช้ Operator จุด (.) เพื่อเดินเข้าสู่namespace ของคลาส\n",
    "\n"
   ]
  },
  {
   "cell_type": "code",
   "execution_count": 2,
   "id": "a791ad67",
   "metadata": {},
   "outputs": [
    {
     "name": "stdout",
     "output_type": "stream",
     "text": [
      "Human\n",
      "class attr: Android\n",
      "True\n",
      "obj attr: Android\n",
      "True\n",
      "man.alive False\n",
      "Darth Vader\n",
      "จงใจผิด เพื่อแสดงว่า manมีnameจากการเพิ่มในobjectไม่ทำให้เป็น attr ของคลาส\n"
     ]
    },
    {
     "ename": "AttributeError",
     "evalue": "'Person' object has no attribute 'name'",
     "output_type": "error",
     "traceback": [
      "\u001b[0;31m---------------------------------------------------------------------------\u001b[0m",
      "\u001b[0;31mAttributeError\u001b[0m                            Traceback (most recent call last)",
      "Input \u001b[0;32mIn [2]\u001b[0m, in \u001b[0;36m<cell line: 21>\u001b[0;34m()\u001b[0m\n\u001b[1;32m     19\u001b[0m \u001b[38;5;66;03m#print(Person.name)\u001b[39;00m\n\u001b[1;32m     20\u001b[0m \u001b[38;5;28mprint\u001b[39m(\u001b[38;5;124m\"\u001b[39m\u001b[38;5;124mจงใจผิด เพื่อแสดงว่า manมีnameจากการเพิ่มในobjectไม่ทำให้เป็น attr ของคลาส\u001b[39m\u001b[38;5;124m\"\u001b[39m)\n\u001b[0;32m---> 21\u001b[0m \u001b[38;5;28mprint\u001b[39m(\u001b[43mman2\u001b[49m\u001b[38;5;241;43m.\u001b[39;49m\u001b[43mname\u001b[49m, man2\u001b[38;5;241m.\u001b[39msurname)\n",
      "\u001b[0;31mAttributeError\u001b[0m: 'Person' object has no attribute 'name'"
     ]
    }
   ],
   "source": [
    "# oop/class.namespaces.py\n",
    "class Person:\n",
    "    species = 'Human'\n",
    "    \n",
    "print(Person.species)  # Human\n",
    "Person.alive = True  # Added dynamically!\n",
    "Person.species = 'Android'\n",
    "print('class attr:',Person.species) \n",
    "print(Person.alive)  # True\n",
    "man = Person()\n",
    "print('obj attr:',man.species)\n",
    "print(man.alive)  # True (inherited)\n",
    "Person.alive = False\n",
    "print('man.alive', man.alive)  # False (inherited)\n",
    "man.name = 'Darth'\n",
    "man.surname = 'Vader'\n",
    "print(man.name, man.surname)  # Darth Vader\n",
    "man2 = Person()\n",
    "#print(Person.name)\n",
    "print(\"จงใจผิด เพื่อแสดงว่า manมีnameจากการเพิ่มในobjectไม่ทำให้เป็น attr ของคลาส\")\n",
    "print(man2.name, man2.surname)\n"
   ]
  },
  {
   "cell_type": "markdown",
   "id": "0f4d404c",
   "metadata": {},
   "source": [
    "ตัวอย่างด้านบนแสดงการนิยามclass attribute ชื่อว่า Species. ชื่อใดๆที่ถูกเขียนในตัวของคลาสจะกลายเป็นattributeของคลาสนั้น. ในโค้ด เราได้นิยาม Person.alive ซึ่งเป็นclass attributeอันหนึ่ง เรานิยามattributeตัวที่สองคือ alive แบบ dynamic เราสามารถเห็นได้ว่ามันไม่มีข้อห้ามในการเข้าถึงattributeจากคลาสโดยตรง  เราสามารถเห็นได้ว่า man ซึ่งเป็น instance ของคลาส Person สืบทอดattribute speicies, และ alive.\n",
    "\n",
    "มีการเพิ่มattribute 2 ตัวให้เฉพาะinstanceที่ชื่อ man คือ name, surname. ถ้าเราสร้างman2 จะไม่มีattribute2ชื่อนี้ ถ้าเราหาจากคลาสPersonก็จะไม่มีattributes2ชื่อนี้\n"
   ]
  },
  {
   "cell_type": "markdown",
   "id": "2ac14ce6",
   "metadata": {},
   "source": [
    "Class attributes are shared among all instances, while instance attributes are not; therefore, you should use class attributes to provide the states and behaviors to be shared by all instances and use instance attributes for data that will be specific to each individual object."
   ]
  },
  {
   "cell_type": "markdown",
   "id": "f3f419f0",
   "metadata": {},
   "source": [
    "## Attribute shadowing\n",
    "\n",
    "เมื่อเราหาattributeของobject ถ้าไม่พบ  ไพธอนจะหาเพิ่มเติมไปที่attributesของคลาสที่สร้างวัตถุนี้ขึ้นมา และจะหาจนกว่าจะเจอหรือจนว่าโซ่แห่งการสืบทอดจะสิ้นสุด  สิ่งนี้ก่อให้เกิดปรากฏการณ์\"เงา\"ของattribute\n"
   ]
  },
  {
   "cell_type": "code",
   "execution_count": 3,
   "id": "9fe80359",
   "metadata": {},
   "outputs": [
    {
     "name": "stdout",
     "output_type": "stream",
     "text": [
      "p.x 10\n",
      "p.y 7\n",
      "p.x 12\n",
      "Point.x 10\n",
      "p.x aftr del 10\n",
      "p.z 3\n",
      "จงใจผิด เพื่อแสดงว่า manมีnameจากการเพิ่มในobjectไม่ทำให้เป็น attr ของคลาส\n"
     ]
    },
    {
     "ename": "AttributeError",
     "evalue": "type object 'Point' has no attribute 'z'",
     "output_type": "error",
     "traceback": [
      "\u001b[0;31m---------------------------------------------------------------------------\u001b[0m",
      "\u001b[0;31mAttributeError\u001b[0m                            Traceback (most recent call last)",
      "Input \u001b[0;32mIn [3]\u001b[0m, in \u001b[0;36m<cell line: 15>\u001b[0;34m()\u001b[0m\n\u001b[1;32m     13\u001b[0m \u001b[38;5;28mprint\u001b[39m(\u001b[38;5;124m'\u001b[39m\u001b[38;5;124mp.z\u001b[39m\u001b[38;5;124m'\u001b[39m,p\u001b[38;5;241m.\u001b[39mz)  \u001b[38;5;66;03m# 3\u001b[39;00m\n\u001b[1;32m     14\u001b[0m \u001b[38;5;28mprint\u001b[39m(\u001b[38;5;124m\"\u001b[39m\u001b[38;5;124mจงใจผิด เพื่อแสดงว่า manมีnameจากการเพิ่มในobjectไม่ทำให้เป็น attr ของคลาส\u001b[39m\u001b[38;5;124m\"\u001b[39m)\n\u001b[0;32m---> 15\u001b[0m \u001b[38;5;28mprint\u001b[39m(\u001b[43mPoint\u001b[49m\u001b[38;5;241;43m.\u001b[39;49m\u001b[43mz\u001b[49m)\n",
      "\u001b[0;31mAttributeError\u001b[0m: type object 'Point' has no attribute 'z'"
     ]
    }
   ],
   "source": [
    "class Point:\n",
    "    x = 10\n",
    "    y = 7\n",
    "p = Point()\n",
    "print('p.x',p.x)  # 10 (from class attribute)\n",
    "print('p.y',p.y)  # 7 (from class attribute)\n",
    "p.x = 12  # p gets its own `x` attribute\n",
    "print('p.x',p.x)  # 12 (now found on the instance)\n",
    "print('Point.x',Point.x)  # 10 (class attribute still the same)\n",
    "del p.x  # we delete instance attribute\n",
    "print('p.x aftr del',p.x)  # 10 (now search has to go again to find class attr)\n",
    "p.z = 3  # let's make it a 3D point\n",
    "print('p.z',p.z)  # 3\n",
    "print(\"จงใจผิด เพื่อแสดงว่า manมีnameจากการเพิ่มในobjectไม่ทำให้เป็น attr ของคลาส\")\n",
    "print(Point.z) \n",
    "# AttributeError: type object 'Point' has no attribute 'z'"
   ]
  },
  {
   "cell_type": "markdown",
   "id": "1e21ea41",
   "metadata": {},
   "source": [
    "เรานิยามคลาสชื่อ Pointที่มีattributes2ตัวคือx,y เมื่อเราพิมพ์ p.x ไพธอนหาค่าxในวัตถุไม่เจอก็ย้อนกลับไปหาในคลาส \n",
    "\n",
    "จากนั้นเราให้ค่าattribute xโดยการให้ค่า p.x=12. สิ่งที่เกิดขึ้นคล้ายกับ namespace ของ global กับในฟังก์ชั่นในบทที่4  การเปลี่ยนค่าในnamespaceของฟังก์ชั่นไม่เปลี่ยนค่าในglobal  สิ่งนี้คือสิ่งเดียวกัน   การเปลี่ยนค่าattributeในช่องชื่อของวัตถุไม่เปลี่ยนแปลงค่าattributeในช่องชื่อของคลาส \n",
    "\n",
    "หลังจากการให้ค่าp.x=12, เมื่อเราสั่งพิมพ์  โซ่ของการสืบทอดแรกคือattribute xของ object p.เมื่อเจอ ไพธอนก็หยุดหาและนำค่ามาตอบ เราจึงได้12.\n",
    "\n",
    "และเมื่อเราสั่งลบxออกจาก namespace ของp  นั่นหมายความว่า ไพธอนเวลาหาค่าจะหาค่าในช่องชื่อของpไม่เจอ แล้วก็สืบย้อนไปหาในช่องชื่อของคลาสแล้วเจอ จึงพิมพ์10อีกครั้ง\n",
    "\n",
    "สามบรรทัดสุดท้ายแสดงถึงว่าการassignค่าattributeให้instanceไม่ได้ทำให้มันนิยามในคลาส.\n",
    "\n"
   ]
  },
  {
   "cell_type": "markdown",
   "id": "88ea0ee8",
   "metadata": {},
   "source": [
    "# The self argument\n",
    "\n",
    "ถ้าเราต้องการเรียกattributeของคลาสเองภายในคลาส เราใช้ข้อตกลงที่เรียกว่า self. Selfจะเป็น attributeตัวแรกของฟังก์ชั่นในคลาส  เราเรียกฟังก์ชั่นของคลาส(ฟังก์ชั่นในคลาส)ว่า Methods. Selfจะเป็น attributeตัวแรกของMethods.\n"
   ]
  },
  {
   "cell_type": "code",
   "execution_count": 4,
   "id": "7eac80aa",
   "metadata": {},
   "outputs": [
    {
     "name": "stdout",
     "output_type": "stream",
     "text": [
      "64\n",
      "64\n",
      "100\n"
     ]
    }
   ],
   "source": [
    "# oop/class.self.py\n",
    "class Square:\n",
    "    side = 8\n",
    "    def area(self):  # self is a reference to an instance\n",
    "        return self.side ** 2\n",
    "sq = Square()\n",
    "print(sq.area())  # 64 (side is found on the class)\n",
    "print(Square.area(sq))  # 64 (equivalent to sq.area())\n",
    "sq.side = 10\n",
    "print(sq.area())  # 100 (side is found on the instance)\n"
   ]
  },
  {
   "cell_type": "markdown",
   "id": "b03b14f3",
   "metadata": {},
   "source": [
    "selfจะเป็น argumentแรกของmethodเสมอ  เราใช้methodของobject ก็เหมือนการที่เราเรียกmethodของคลาสมาใส่ตัวเองลงไป "
   ]
  },
  {
   "cell_type": "markdown",
   "id": "36bfd4c9",
   "metadata": {},
   "source": [
    "# Initializing an instance\n",
    "# การเกิดเริ่มต้นของinstance\n",
    "\n",
    "สมมุติเราต้องการคำนวนราคาหลังภาษีและหลังลดราคา  ถ้าเราสร้างคลาสขี้นมาคำนวนสิ่งี้นี้  เราต้องมีการให้ค่าเริ่มต้น p1.net_price = 100 การให้ค่าเริ่มต้นในลักษณะนี้มันไม่สวย เข้าใจไม่ง่าย บางทีมันอาจจะสวยกว่าถ้าเราเขียนว่า p1 = Prince(100) ในภาษาอื่นจะมีสิ่งที่เรียกว่า constructor method แต่ในไพธอน เราเรียกว่า initializer แต่การทำงานคือสิ่งเดียวกัน  \n",
    "\n",
    "Initializer method ในไพธอนจะใช้ชื่อพิเศษที่ชื่อว่า __init__ . วัตถุของไพธอนมีmethod ชื่อ __new__ ซึ่งเป็น constructor ตัวจริง แต่ในทางปฎิบัติ เราให้ค่าเริ่มต้นของobjectของไพธอนจากคลาสattributeด้วย __init__ method."
   ]
  },
  {
   "cell_type": "code",
   "execution_count": 5,
   "id": "a095c17d",
   "metadata": {},
   "outputs": [
    {
     "name": "stdout",
     "output_type": "stream",
     "text": [
      "110.0\n",
      "110.0\n"
     ]
    }
   ],
   "source": [
    "# oop/class.price.py\n",
    "class Price:\n",
    "    \n",
    "    def final_price(self, vat, discount=0):\n",
    "        \"\"\"Returns price after applying vat and fixed discount.\"\"\"\n",
    "        return (self.net_price * (100 + vat) / 100) - discount\n",
    "p1 = Price()\n",
    "p1.net_price = 100\n",
    "print(Price.final_price(p1, 20, 10))  # 110 (100 * 1.2 - 10)\n",
    "print(p1.final_price(20, 10))  # equivalent\n"
   ]
  },
  {
   "cell_type": "code",
   "execution_count": 6,
   "id": "f79d05e0",
   "metadata": {},
   "outputs": [
    {
     "name": "stdout",
     "output_type": "stream",
     "text": [
      "10 4\n",
      "40\n",
      "21\n"
     ]
    }
   ],
   "source": [
    "# oop/class.init.py\n",
    "class Rectangle:\n",
    "    def __init__(self, side_a, side_b):\n",
    "        self.side_a = side_a\n",
    "        self.side_b = side_b\n",
    "    def area(self):\n",
    "        return self.side_a * self.side_b\n",
    "r1 = Rectangle(10, 4)\n",
    "print(r1.side_a, r1.side_b)  # 10 4\n",
    "print(r1.area())  # 40\n",
    "r2 = Rectangle(7, 3)\n",
    "print(r2.area())  # 21\n"
   ]
  },
  {
   "cell_type": "markdown",
   "id": "32d7285a",
   "metadata": {},
   "source": [
    "## OOP is about code reuse\n",
    "# หลักการOOPมีเพื่อการนำโค้ดมาใช้ซ้ำ\n",
    "\n",
    "ตอนนี้มันก็ชัดเจนว่าหลักการOOP มีเพื่อนำโค้ดมาใช้ซ้ำ  เราสร้างคลาส เราสร้างวัตถุ เราสร้างinstance. Instances เหล่านั้นใช้ methods ซึ่งถูกนิยามในคลาสเท่านั้น  มันทำงานต่างกันออกไปขึ้นกับการถูกinitializeอย่างไร\n",
    "\n",
    "\n",
    "# Inheritance and composition\n",
    "OOP ยังมีความสามารถอีกสองอย่างคือการสืบทอดบรรพบุรุษของคลาส (inheritance) และการประกอบกัน (composition).\n",
    "\n",
    "การสืบทอดจากบรรพบุรุษหมายถึงว่าวัตถุสองคลาสมีความสำพันธ์กันแบบis-aหรือ\"เป็น\"  วัตถุชนิดหนึ่งเป็นวัตถุอีกชนิดหนึ่ง (แต่กลับกันอาจจะไม่จริง)  ส่วน "
   ]
  },
  {
   "cell_type": "code",
   "execution_count": 7,
   "id": "b1618e0c",
   "metadata": {},
   "outputs": [],
   "source": [
    "# oop/class_inheritance.py\n",
    "class Engine:\n",
    "    def start(self):\n",
    "        pass\n",
    "    def stop(self):\n",
    "        pass\n",
    "class ElectricEngine(Engine):  # Is-A Engine\n",
    "    pass\n",
    "class V8Engine(Engine):  # Is-A Engine\n",
    "    pass\n"
   ]
  },
  {
   "cell_type": "code",
   "execution_count": 8,
   "id": "a8af81d0",
   "metadata": {},
   "outputs": [
    {
     "name": "stdout",
     "output_type": "stream",
     "text": [
      "Starting engine Engine for car Car... Wroom, wroom!\n",
      "Starting engine V8Engine for car RaceCar... Wroom, wroom!\n",
      "Starting engine ElectricEngine for car CityCar... Wroom, wroom!\n",
      "Starting engine V8Engine for car F1Car... Wroom, wroom!\n"
     ]
    }
   ],
   "source": [
    "class Car:\n",
    "    engine_cls = Engine\n",
    "    def __init__(self):\n",
    "        self.engine = self.engine_cls()  # Has-A Engine\n",
    "    def start(self):\n",
    "        print(\n",
    "            'Starting engine {0} for car {1}... Wroom, wroom!'\n",
    "            .format(\n",
    "                self.engine.__class__.__name__,\n",
    "                self.__class__.__name__)\n",
    "        )\n",
    "        self.engine.start()\n",
    "    def stop(self):\n",
    "        self.engine.stop()\n",
    "class RaceCar(Car):  # Is-A Car\n",
    "    engine_cls = V8Engine\n",
    "class CityCar(Car):  # Is-A Car\n",
    "    engine_cls = ElectricEngine\n",
    "class F1Car(RaceCar):  # Is-A RaceCar and also Is-A Car\n",
    "    pass  # engine_cls same as parent\n",
    "car = Car()\n",
    "racecar = RaceCar()\n",
    "citycar = CityCar()\n",
    "f1car = F1Car()\n",
    "cars = [car, racecar, citycar, f1car]\n",
    "for car in cars:\n",
    "    car.start()\n"
   ]
  },
  {
   "cell_type": "markdown",
   "id": "4d603cca",
   "metadata": {},
   "source": [
    "Electrical engine เป็น Engine. RaceCar, CitiyCar เป็น Car. Car มี engine.\n",
    "\n",
    "เมื่อเราเขียนว่า class A(B)  ในนิยามของคลาสA. เราได้นิยามคลาสAให้เป็นลูกของคลาสB และ B เป็นพ่อแม่ของคลาสA. เราสามารถเรียกว่าคลาสparentหรือเบสคลาส(Base Class) คือคสองคำที่มีความหมายเดียวกัน  เราเรียกว่า คลาสA extend จากคลาสB หรือ คลาสA สืบทอด(inherite)จาก คลาสB\n",
    "\n",
    "รถล้วมีเครื่องยนต์ แต่ถ้าเป็นรถแข่ง ก็ใช้เครื่องV8. ถ้าเป็นรถในเมืองก็ใช้เครื่องยนต์ไฟฟ้า\n",
    "\n",
    "เราควรนิยาม engine_cls ในฐานะ attributeของคลาสเพราะว่ามันมีแนวโน้มว่ารถทุกชนิดต้องมีengine\n",
    "\n",
    "ความสำพันธ์แบบวัตถุหนึ่งมีอีกวัตถุหนึ่งเราเรียกว่าความสำพันธ์แบบ composition. ความสำพันธ์แบบวัตถุหนึ่งเป็นอีกวัตถุหนึ่งเราเรียกว่าเป็นความสำพันธ์แบบ inheritance.\n"
   ]
  },
  {
   "cell_type": "code",
   "execution_count": 9,
   "id": "4b9b0596",
   "metadata": {},
   "outputs": [
    {
     "name": "stdout",
     "output_type": "stream",
     "text": [
      "car is a Car\n",
      "car is not a RaceCar\n",
      "car is not a F1Car\n",
      "racecar is a Car\n",
      "racecar is a RaceCar\n",
      "racecar is not a F1Car\n",
      "f1car is a Car\n",
      "f1car is a RaceCar\n",
      "f1car is a F1Car\n"
     ]
    },
    {
     "data": {
      "text/plain": [
       "' Prints:\\ncar is a Car\\ncar is not a RaceCar\\ncar is not a F1Car\\nracecar is a Car\\nracecar is a RaceCar\\nracecar is not a F1Car\\nf1car is a Car\\nf1car is a RaceCar\\nf1car is a F1Car\\n'"
      ]
     },
     "execution_count": 9,
     "metadata": {},
     "output_type": "execute_result"
    }
   ],
   "source": [
    "car = Car()\n",
    "racecar = RaceCar()\n",
    "f1car = F1Car()\n",
    "cars = [(car, 'car'), (racecar, 'racecar'), (f1car, 'f1car')]\n",
    "car_classes = [Car, RaceCar, F1Car]\n",
    "for car, car_name in cars:\n",
    "    for class_ in car_classes:\n",
    "        belongs = isinstance(car, class_)\n",
    "        msg = 'is a' if belongs else 'is not a'\n",
    "        print(car_name, msg, class_.__name__)\n",
    "\"\"\" Prints:\n",
    "car is a Car\n",
    "car is not a RaceCar\n",
    "car is not a F1Car\n",
    "racecar is a Car\n",
    "racecar is a RaceCar\n",
    "racecar is not a F1Car\n",
    "f1car is a Car\n",
    "f1car is a RaceCar\n",
    "f1car is a F1Car\n",
    "\"\"\"\n"
   ]
  },
  {
   "cell_type": "code",
   "execution_count": 10,
   "id": "dee7ed32",
   "metadata": {},
   "outputs": [
    {
     "name": "stdout",
     "output_type": "stream",
     "text": [
      "Car is a subclass of Car\n",
      "Car is not a subclass of RaceCar\n",
      "Car is not a subclass of F1Car\n",
      "RaceCar is a subclass of Car\n",
      "RaceCar is a subclass of RaceCar\n",
      "RaceCar is not a subclass of F1Car\n",
      "F1Car is a subclass of Car\n",
      "F1Car is a subclass of RaceCar\n",
      "F1Car is a subclass of F1Car\n"
     ]
    },
    {
     "data": {
      "text/plain": [
       "' Prints:\\nCar is a subclass of Car\\nCar is not a subclass of RaceCar\\nCar is not a subclass of F1Car\\nRaceCar is a subclass of Car\\nRaceCar is a subclass of RaceCar\\nRaceCar is not a subclass of F1Car\\nF1Car is a subclass of Car\\nF1Car is a subclass of RaceCar\\nF1Car is a subclass of F1Car\\n'"
      ]
     },
     "execution_count": 10,
     "metadata": {},
     "output_type": "execute_result"
    }
   ],
   "source": [
    "# oop/class.issubclass.isinstance.py\n",
    "for class1 in car_classes:\n",
    "    for class2 in car_classes:\n",
    "        is_subclass = issubclass(class1, class2)\n",
    "        msg = '{0} a subclass of'.format(\n",
    "            'is' if is_subclass else 'is not')\n",
    "        print(class1.__name__, msg, class2.__name__)\n",
    "\"\"\" Prints:\n",
    "Car is a subclass of Car\n",
    "Car is not a subclass of RaceCar\n",
    "Car is not a subclass of F1Car\n",
    "RaceCar is a subclass of Car\n",
    "RaceCar is a subclass of RaceCar\n",
    "RaceCar is not a subclass of F1Car\n",
    "F1Car is a subclass of Car\n",
    "F1Car is a subclass of RaceCar\n",
    "F1Car is a subclass of F1Car\n",
    "\"\"\"\n"
   ]
  },
  {
   "cell_type": "markdown",
   "id": "84eb615a",
   "metadata": {},
   "source": [
    "คลาสถือว่าเป็นsubclassของตัวเอง"
   ]
  },
  {
   "attachments": {
    "OOP_is_a_has_a.png": {
     "image/png": "[encoded data removed]"
    }
   },
   "cell_type": "markdown",
   "id": "754028b0",
   "metadata": {},
   "source": [
    "![OOP_is_a_has_a.png](attachment:OOP_is_a_has_a.png)"
   ]
  },
  {
   "cell_type": "markdown",
   "id": "3f48ce36",
   "metadata": {},
   "source": [
    "# Accessing a base class\n",
    "We've already seen class declarations, such as class ClassA: pass and class ClassB(BaseClassName): pass. When we don't specify a base class explicitly, Python will set the special object class as the base class for the one we're defining. Ultimately, all classes derive from object. Please remember that, if you don't specify a base class, brackets are optional and in practice are never used.\n",
    "\n",
    "ถ้าเราไม่นิยามbase classอย่างชัดเจน  Python จะให้คลาสน้้นเป็นลูกของ object class. ถ้าคุณไม่มีเบสคลาส จะใส่หรือไม่ใส่วงเล็บหลังชื่อคลาสก็ได้ แต่โดยทั่วไปไม่ใส่\n",
    "\n"
   ]
  },
  {
   "cell_type": "code",
   "execution_count": 11,
   "id": "e9555b14",
   "metadata": {},
   "outputs": [],
   "source": [
    "# oop/super.duplication.py\n",
    "class Book:\n",
    "    def __init__(self, title, publisher, pages):\n",
    "        self.title = title\n",
    "        self.publisher = publisher\n",
    "        self.pages = pages\n",
    "class Ebook(Book):\n",
    "    def __init__(self, title, publisher, pages, format_):\n",
    "        self.title = title\n",
    "        self.publisher = publisher\n",
    "        self.pages = pages\n",
    "        self.format_ = format_\n"
   ]
  },
  {
   "cell_type": "markdown",
   "id": "db9194b8",
   "metadata": {},
   "source": [
    "ตัวอย่างด้านบนคือตัวอย่างการสืบทอดที่ไม่ดี  เมื่อBase class มีattributeอยู่แล้ว  การสร้างattributeชื่อเดียวกับbase class ก่อให้เกิดสองชุดของattributes วิธีการที่ดีกว่าคือควรใช้ attributeของเบสคลาส ซึ่งทำได้ด้วยตัวอย่างด้านล่าง\n"
   ]
  },
  {
   "cell_type": "code",
   "execution_count": 12,
   "id": "21031aaa",
   "metadata": {},
   "outputs": [
    {
     "name": "stdout",
     "output_type": "stream",
     "text": [
      "Learn Python Programming\n",
      "Packt Publishing\n",
      "500\n",
      "PDF\n"
     ]
    }
   ],
   "source": [
    "# oop/super.implicit.py\n",
    "class Book:\n",
    "    def __init__(self, title, publisher, pages):\n",
    "        self.title = title\n",
    "        self.publisher = publisher\n",
    "        self.pages = pages\n",
    "class Ebook(Book):\n",
    "    def __init__(self, title, publisher, pages, format_):\n",
    "        super().__init__(title, publisher, pages)\n",
    "        self.format_ = format_\n",
    "        \n",
    "ebook = Ebook(\n",
    "    'Learn Python Programming', 'Packt Publishing', 500, 'PDF')\n",
    "print(ebook.title) # Learn Python Programming\n",
    "print(ebook.publisher) # Packt Publishing\n",
    "print(ebook.pages) # 500\n",
    "print(ebook.format_) # PDF\n"
   ]
  },
  {
   "cell_type": "markdown",
   "id": "c47eca30",
   "metadata": {},
   "source": [
    "super() เรียกตัวเองในเบสคลาส"
   ]
  },
  {
   "cell_type": "markdown",
   "id": "8e37a8a7",
   "metadata": {},
   "source": [
    "เราเรียกคลาสที่มีพ่อแม่เดียวกันว่า sibling classes คือคลาสพี่น้อง"
   ]
  },
  {
   "attachments": {
    "MultipleInheritancePython.png": {
     "image/png": "[encoded data removed]"
    }
   },
   "cell_type": "markdown",
   "id": "6838ba82",
   "metadata": {},
   "source": [
    "# Multiple inheritance\n",
    "# การสืบทอดที่มีเบสคลาสหลายแห่ง\n",
    "\n",
    "เราสามารถสืบทอดคลาสจากพ่อแม่มากกว่าหนึ่งคลาสได้ สิ่งที่เราต้องสนใจก็คือแล้วการหาชื่อattribute,methodในห่วงโซ่ของการสืบทอดจะทำอย่างไร\n",
    "\n",
    "![MultipleInheritancePython.png](attachment:MultipleInheritancePython.png)"
   ]
  },
  {
   "cell_type": "markdown",
   "id": "a84e2ed7",
   "metadata": {},
   "source": [
    "ตามรูปด้านบนแสดงคลาส shape, Plotter เป็นเบสคลาสให้กับทุกคลาสอื่นๆ คลาสPolygonสืบทอดโดยตรงจากทั้งสองคลาส  RegularPolygonสืบทอดจากPolygonที่ซึ่ง RegularHexagon, Square สืบทอดจากRegularPolygon. อย่างที่เคยอธิบาย Shape, Plotter สืบทอดจาก object โดยไม่ได้ประกาศอย่างชัดเจน\n"
   ]
  },
  {
   "cell_type": "code",
   "execution_count": 13,
   "id": "f1f92f34",
   "metadata": {},
   "outputs": [
    {
     "name": "stdout",
     "output_type": "stream",
     "text": [
      "259.8076211353316\n",
      "RegularHexagon\n",
      "Plotting at (75, 77), ratio 0.8.\n",
      "144\n",
      "Square\n",
      "Plotting at (74, 75), ratio 0.93.\n"
     ]
    }
   ],
   "source": [
    "# oop/multiple.inheritance.py\n",
    "class Shape:\n",
    "    geometric_type = 'Generic Shape'\n",
    "    def area(self):  # This acts as placeholder for the interface\n",
    "        raise NotImplementedError\n",
    "    def get_geometric_type(self):\n",
    "        return self.geometric_type\n",
    "class Plotter:\n",
    "    def plot(self, ratio, topleft):\n",
    "        # Imagine some nice plotting logic here...\n",
    "        print('Plotting at {}, ratio {}.'.format(\n",
    "            topleft, ratio))\n",
    "class Polygon(Shape, Plotter):  # base class for polygons\n",
    "    geometric_type = 'Polygon'\n",
    "class RegularPolygon(Polygon):  # Is-A Polygon\n",
    "    geometric_type = 'Regular Polygon'\n",
    "    def __init__(self, side):\n",
    "        self.side = side\n",
    "class RegularHexagon(RegularPolygon):  # Is-A RegularPolygon\n",
    "    geometric_type = 'RegularHexagon'\n",
    "    def area(self):\n",
    "        return 1.5 * (3 ** .5 * self.side ** 2)\n",
    "class Square(RegularPolygon):  # Is-A RegularPolygon\n",
    "    geometric_type = 'Square'\n",
    "    def area(self):\n",
    "        return self.side * self.side\n",
    "hexagon = RegularHexagon(10)\n",
    "print(hexagon.area())  # 259.8076211353316\n",
    "print(hexagon.get_geometric_type())  # RegularHexagon\n",
    "hexagon.plot(0.8, (75, 77))  # Plotting at (75, 77), ratio 0.8.\n",
    "square = Square(12)\n",
    "print(square.area())  # 144\n",
    "print(square.get_geometric_type())  # Square\n",
    "square.plot(0.93, (74, 75))  # Plotting at (74, 75), ratio 0.93.\n"
   ]
  },
  {
   "cell_type": "markdown",
   "id": "c53932cf",
   "metadata": {},
   "source": [
    "\n",
    "นี่คือลักษณะการใช้งานMultiple inheritanceทั่วไป    ในคลาสPlotteมีmethodชื่อplot() ซึ่งให้ความสามารถในการพล็อตแก่คลาสใดก็ตามที่สืบทอดจากมัน \n",
    "คลาสที่น่าสนใจคลาสแรกคือ Polygon ซึ่งสืบทอดจากทั้งShape และ Plotter.\n",
    "\n",
    "Polygonก็ยังมีหลายชนิด  เราสนใจชนิดregular ซึ่งเป็นชนิดที่มีมุมเท่ากันและขนาดด้านเท่ากัน ดังน้้นเราจึงสร้างคลาส RegularPolygon ซึ่งสืบทอดจาก Polygon ข้างในเราสร้างmethod __init__() ซึ่งต้องการทราบความยาวของด้าน  เราสร้างRegularHexagon(ห้าเหลี่ยมด้านเท่า)กับSqare(สี่เหลี่ยมจัตุรัส) ทั้งสองสืบทอดจากRegularPolygon.\n",
    "\n",
    "ภายในคลาสSquare, RegularHexagon มีarea() เราสามารถเรียก get_geometric_type() เพื่อดูชื่อชนิดจากทั้งสองคลาส แม้ว่ามันจะไม่ได้ถูกนิยามในตัวคลาสของทั้งสองคลาส  ไพธอนรู้ที่จะวิ่งย้อนกลับไปตามโซ่ของการสืบทอดจนกระทั้งถึงคลาสShapeที่นิยามmethodนี้\n",
    "\n",
    "เมทอด Plot ทำให้เราสามารถนิยามการพล็อตของแต่ละคลาสลูกได้ต่างกันออกไป\n",
    "\n",
    "การจะใช้Multiple inheritance มีประโยชน์มาก เราจะต้องเข้าใจและคาดได้ว่าจะเกิดอะไรขึ้นเวลาที่เราจะใช้\n",
    "\n"
   ]
  },
  {
   "cell_type": "markdown",
   "id": "00982c40",
   "metadata": {},
   "source": [
    "# Method resolution order\n",
    "\n",
    "โซ่แห่งการสืบทอดที่เราเคยเรียก การหาชื่อในโซ่แห่งการสืบทอดมีชื่อเรียก  มันเรียกว่า Method Resolution Order (MRO) \n"
   ]
  },
  {
   "cell_type": "code",
   "execution_count": 14,
   "id": "eb70c7f7",
   "metadata": {},
   "outputs": [
    {
     "name": "stdout",
     "output_type": "stream",
     "text": [
      "(<class '__main__.Square'>, <class '__main__.RegularPolygon'>, <class '__main__.Polygon'>, <class '__main__.Shape'>, <class '__main__.Plotter'>, <class 'object'>)\n",
      "[<class '__main__.Square'>, <class '__main__.RegularPolygon'>, <class '__main__.Polygon'>, <class '__main__.Shape'>, <class '__main__.Plotter'>, <class 'object'>]\n"
     ]
    }
   ],
   "source": [
    "# oop/multiple.inheritance.py\n",
    "print(square.__class__.__mro__)\n",
    "# prints:\n",
    "# (<class '__main__.Square'>, <class '__main__.RegularPolygon'>,\n",
    "# <class '__main__.Polygon'>, <class '__main__.Shape'>,\n",
    "# <class '__main__.Plotter'>, <class 'object'>)\n",
    "print(Square.mro())\n"
   ]
  },
  {
   "cell_type": "markdown",
   "id": "a34a48d3",
   "metadata": {},
   "source": [
    "เรามีวิธีในการเรียกหา mro. ถ้าเราเรียกจาก Square.__mro__, or Square.mro() เราจะได้คำตอบจากคลาส คือพิมพ์เขียว  แต่ถ้าเราเลือกจะเรียก square.__class__.__mro__ ซึ่ง square เป็น instance เราจะได้คำตอบที่มาจากชีวิตของวัตถุจริงๆในขณะที่กำลังทำงาน (dynamically)\n",
    "\n",
    "นักเรียนคงจะเห็นปัญหาของการหาชื่อในโซ๋แห่งการสืบทอด  ถ้าชื่อไม่ซ้ำ การหาคงไม่มีปัญหา  ถ้าชื่อซ้ำแต่การหามีโซ่ที่ไม่มีทางแยก การหาก็ไม่ใช่ปัญหาอีก   การหาจะมีปัญหาก็เมื่อชื่อมันซ้ำบนทางแยก  เพื่อจะดูปัญหานี้ ลองทดลองดังข้างล่าง"
   ]
  },
  {
   "cell_type": "code",
   "execution_count": 15,
   "id": "f9ce56a0",
   "metadata": {},
   "outputs": [
    {
     "name": "stdout",
     "output_type": "stream",
     "text": [
      "b\n"
     ]
    }
   ],
   "source": [
    "# oop/mro.simple.py\n",
    "class A:\n",
    "    label = 'a'\n",
    "class B(A):\n",
    "    label = 'b'\n",
    "class C(A):\n",
    "    label = 'c'\n",
    "class D(B, C):\n",
    "    pass\n",
    "d = D()\n",
    "print(d.label)  # Hypothetically this could be either 'b' or 'c'\n"
   ]
  },
  {
   "cell_type": "markdown",
   "id": "030a39f4",
   "metadata": {},
   "source": [
    "ทั้ง BและC ล้วนสืบทอดจาก A, และ D สืบทอดจากทั้ง BและC. นั่นคือการหาattributeที่ชื่อ label สามารถไปถึงบนสุดคือAผ่านBหรือC. ทางไหนถึงก่อน จะก่อให้เกิดผลที่ต่างกันออกไป\n",
    "\n",
    "จากการทดลอง เราได้ผล 'b' เพราะว่าคลาสB อยู่ทางซ้ายสุดของเบสคลาสของD. \n",
    "ถ้าเราไม่นิยามlabel ที่คลาสBล่ะ จะเกิดอะไรขึ้น?  MRO จะหาถึงคลาสAก่อนหรือถึงคลาสCก่อน?\n"
   ]
  },
  {
   "cell_type": "code",
   "execution_count": 16,
   "id": "c7c7ff27",
   "metadata": {},
   "outputs": [
    {
     "name": "stdout",
     "output_type": "stream",
     "text": [
      "c\n",
      "[<class '__main__.D'>, <class '__main__.B'>, <class '__main__.C'>, <class '__main__.A'>, <class 'object'>]\n"
     ]
    }
   ],
   "source": [
    "# oop/mro.py\n",
    "class A:\n",
    "    label = 'a'\n",
    "class B(A):\n",
    "    pass  # was: label = 'b'\n",
    "class C(A):\n",
    "    label = 'c'\n",
    "class D(B, C):\n",
    "    pass\n",
    "d = D()\n",
    "print(d.label)  # 'c'\n",
    "print(d.__class__.mro())  # notice another way to get the MRO\n",
    "# prints:\n",
    "# [<class '__main__.D'>, <class '__main__.B'>,\n",
    "# <class '__main__.C'>, <class '__main__.A'>, <class 'object'>]\n"
   ]
  },
  {
   "cell_type": "markdown",
   "id": "627e0b46",
   "metadata": {},
   "source": [
    "คำตอบคือคลาสCก่อน  ซึ่งเมื่อดูMROเราก็จะเข้าใจ  ออร์เดอร์ของการหาคือ D-B-C-A\n"
   ]
  },
  {
   "cell_type": "markdown",
   "id": "5a16a5da",
   "metadata": {},
   "source": [
    "## Class and static methods\n",
    "่มันมี method พิเศษอีกสองชนิดต้องอธิบาย"
   ]
  },
  {
   "cell_type": "markdown",
   "id": "284102a4",
   "metadata": {},
   "source": [
    "# Class and static methods\n",
    "ที่มา https://www.programiz.com/python-programming/methods"
   ]
  },
  {
   "cell_type": "markdown",
   "id": "d8f568cf",
   "metadata": {},
   "source": [
    "# Static methods\n",
    "- ใช้ในการรวมฟังก์ชั่นหลายๆฟังก์ชั่นไว้ในคลาสเฉยๆ  ไม่เกี่ยวกับคลาสใดๆ  มักเป็นพวกutility functions\n",
    "- เป็น function ของคลาส ที่ไม่อนุญาติให้สืบทอด\n",
    "- ไม่มีคำว่า self ใน method declaration และ ไม่สามารถเข้าถึง class attribute\n",
    "- มี Decorator @staticmethod อยู่บน function definition  เราจะเรียนDecorator ครั้งถัดไป\n",
    "- หรือใช้ฟังก์ชั่น staticmethod() ในการเปลี่ยนให้กลายเป็น static method"
   ]
  },
  {
   "cell_type": "code",
   "execution_count": null,
   "id": "ef4937dd",
   "metadata": {},
   "outputs": [],
   "source": [
    "class Mathematics:\n",
    "\n",
    "    @staticmethod\n",
    "    def addNumbers(x, y):\n",
    "        return x + y\n",
    "\n",
    "\n",
    "\n",
    "print('The sum is:', Mathematics.addNumbers(5, 10))\n",
    "   \n"
   ]
  },
  {
   "cell_type": "code",
   "execution_count": null,
   "id": "899b2397",
   "metadata": {},
   "outputs": [],
   "source": [
    "class Mathematics:\n",
    "\n",
    "    def addNumbers(x, y):\n",
    "        return x + y\n",
    "\n",
    "# create addNumbers static method\n",
    "Mathematics.addNumbers = staticmethod(Mathematics.addNumbers)\n",
    "\n",
    "print('The sum is:', Mathematics.addNumbers(5, 10))"
   ]
  },
  {
   "cell_type": "code",
   "execution_count": null,
   "id": "3b44ca3f",
   "metadata": {},
   "outputs": [],
   "source": [
    "print(\"จงใจผิด  static method ไม่สามารถเรียก class attribute\")\n",
    "class Mathematics2:\n",
    "    k=3\n",
    "    \n",
    "    @staticmethod\n",
    "    def addAttribute(x):\n",
    "        return x + k\n",
    "\n",
    "\n",
    "\n",
    "print('The sum is:', Mathematics2.addAttribute(10))"
   ]
  },
  {
   "cell_type": "markdown",
   "id": "31359957",
   "metadata": {},
   "source": [
    "# Class methods\n",
    "- ใช้เป็นฟังก์ชั่น(method)ของคลาส  มักจะเป็นFactory method\n",
    "- การเรียกคลาสเมทอดจะต้องเรียกด้วยชื่อคลาส คลาสลูกสามารถเรียกใช้คลาสเมทอดของคลาสแม่ได้\n",
    "- ใช้คำว่า cls ใน method declaration และ สามารถเข้าถึง class attribute\n",
    "- มี Decorator @classmethod อยู่บน function definition  เราจะเรียนDecorator ครั้งถัดไป\n",
    "- หรือใช้ฟังก์ชั่น classmethod() ในการเปลี่ยนให้กลายเป็น class method"
   ]
  },
  {
   "cell_type": "code",
   "execution_count": null,
   "id": "f04c65eb",
   "metadata": {},
   "outputs": [],
   "source": [
    "class Person:\n",
    "    age = 25\n",
    "\n",
    "    def printAge(cls):\n",
    "        print('The age is:', cls.age)\n",
    "\n",
    "# create printAge class method\n",
    "Person.printAge = classmethod(Person.printAge) #แสดงการใช้fn classmethod\n",
    "\n",
    "Person.printAge()"
   ]
  },
  {
   "cell_type": "code",
   "execution_count": null,
   "id": "b3a1e0f1",
   "metadata": {},
   "outputs": [],
   "source": [
    "from datetime import date\n",
    "\n",
    "# random Person\n",
    "class Person:\n",
    "    def __init__(self, name, age):\n",
    "        self.name = name\n",
    "        self.age = age\n",
    "\n",
    "    @classmethod\n",
    "    def fromBirthYear(cls, name, birthYear):\n",
    "        return cls(name, date.today().year - birthYear)\n",
    "\n",
    "    def display(self):\n",
    "        print(self.name + \"'s age is: \" + str(self.age))\n",
    "\n",
    "person = Person('Adam', 19)\n",
    "person.display()\n",
    "\n",
    "person1 = Person.fromBirthYear('John',  1985)\n",
    "person1.display()\n"
   ]
  },
  {
   "cell_type": "markdown",
   "id": "e1451630",
   "metadata": {},
   "source": [
    "การเรียกคลาสเมทอดจะต้องเรียกด้วยชื่อคลาส คลาสลูกสามารถเรียกใช้คลาสเมทอดของคลาสแม่ได้"
   ]
  },
  {
   "cell_type": "code",
   "execution_count": null,
   "id": "173ad8f2",
   "metadata": {},
   "outputs": [],
   "source": [
    "from datetime import date\n",
    "\n",
    "# random Person\n",
    "class Person:\n",
    "    def __init__(self, name, age):\n",
    "        self.name = name\n",
    "        self.age = age\n",
    "\n",
    "    @staticmethod\n",
    "    def fromFathersAge(name, fatherAge, fatherPersonAgeDiff):\n",
    "        return Person(name, date.today().year - fatherAge + fatherPersonAgeDiff)\n",
    "\n",
    "    @classmethod\n",
    "    def fromBirthYear(cls, name, birthYear):\n",
    "        return cls(name, date.today().year - birthYear)\n",
    "\n",
    "    def display(self):\n",
    "        print(self.name + \"'s age is: \" + str(self.age))\n",
    "\n",
    "class Man(Person):\n",
    "    sex = 'Male'\n",
    "\n",
    "man = Man.fromBirthYear('John', 1985)\n",
    "print(isinstance(man, Man))\n",
    "print(man.name)\n",
    "\n",
    "man1 = Man.fromFathersAge('John', 1965, 20)\n",
    "print(isinstance(man1, Man))\n",
    "print(type(man1))"
   ]
  },
  {
   "cell_type": "markdown",
   "id": "6666b92c",
   "metadata": {},
   "source": [
    "ข้างล่างแสดงคลาสเมทอด กับการinheritance และการเข้าถึงclass attribute"
   ]
  },
  {
   "cell_type": "code",
   "execution_count": null,
   "id": "80ee905a",
   "metadata": {},
   "outputs": [],
   "source": [
    "from datetime import date\n",
    "\n",
    "# random Person\n",
    "class Person:\n",
    "    def __init__(self, name, age):\n",
    "        self.name = name\n",
    "        self.age = age\n",
    "\n",
    "    @staticmethod\n",
    "    def fromFathersAge(name, fatherAge, fatherPersonAgeDiff):\n",
    "        return Person(name, date.today().year - fatherAge + fatherPersonAgeDiff)\n",
    "\n",
    "    @classmethod\n",
    "    def fromBirthYear(cls, name, birthYear):\n",
    "        return cls(name, date.today().year - birthYear)\n",
    "\n",
    "    def display(self):\n",
    "        print(self.name + \"'s age is: \" + str(self.age))\n",
    "\n",
    "class Man(Person):    \n",
    "    malePrefix = \"Mr. \"\n",
    "    sex = 'Male'\n",
    "    \n",
    "    @classmethod\n",
    "    def fromBirthYear(cls, name, birthYear):\n",
    "        return cls(cls.malePrefix+ name, date.today().year - birthYear)\n",
    "    \n",
    "\n",
    "man = Man.fromBirthYear('John', 1985)\n",
    "print(isinstance(man, Man))\n",
    "print(man.name)\n",
    "\n"
   ]
  },
  {
   "cell_type": "markdown",
   "id": "f4b859aa",
   "metadata": {},
   "source": [
    "## Name mangling\n",
    "บางครั้งเรามีตัวแปรชื่อเดียวกันในคลาสลูกกับคลาสพ่อแม่  ก่อให้เกิดความสับสนว่าใช้ตัวแปรของคลาสไหนอยู่  ไพธอนมีวิธีแก้ไขโดยการใส่underscoreสองครั้ง มันจะเติมชื่อคลาสให้เอง\n",
    "ถ้าไม่มีสิ่งนี้อาจจะก่อให้เกิดbugได้ เช่น"
   ]
  },
  {
   "cell_type": "code",
   "execution_count": null,
   "id": "5b63db90",
   "metadata": {},
   "outputs": [],
   "source": [
    "# oop/private.attrs.py\n",
    "class A:\n",
    "    def __init__(self, factor):\n",
    "        self._factor = factor\n",
    "    def op1(self):\n",
    "        print('Op1 with factor {}...'.format(self._factor))\n",
    "class B(A):\n",
    "    def op2(self, factor):\n",
    "        self._factor = factor\n",
    "        print('Op2 with factor {}...'.format(self._factor))\n",
    "obj = B(100)\n",
    "obj.op1()    # Op1 with factor 100...\n",
    "obj.op2(42)  # Op2 with factor 42...\n",
    "obj.op1()    # Op1 with factor 42... <- This is BAD\n",
    "print(\"Op1 with factor 42... <- This is BAD\")"
   ]
  },
  {
   "cell_type": "code",
   "execution_count": null,
   "id": "f5c2fc65",
   "metadata": {},
   "outputs": [],
   "source": [
    "objA = A(11)\n",
    "print(objA._factor)"
   ]
  },
  {
   "cell_type": "markdown",
   "id": "773c544c",
   "metadata": {},
   "source": [
    "The underscore prefix 1 ครั้ง  เป็นการบอกโปรแกรมเมอร์คนอื่นว่าเป็นclass attributeที่ใช้ภายในคลาส"
   ]
  },
  {
   "cell_type": "code",
   "execution_count": null,
   "id": "3b1b3b12",
   "metadata": {},
   "outputs": [],
   "source": [
    "# oop/private.attrs.py\n",
    "print(obj.__dict__.keys())\n",
    "# dict_keys(['_factor'])\n",
    "\n"
   ]
  },
  {
   "cell_type": "code",
   "execution_count": null,
   "id": "c868c0f5",
   "metadata": {},
   "outputs": [],
   "source": [
    "dir(obj)"
   ]
  },
  {
   "cell_type": "markdown",
   "id": "1a39e153",
   "metadata": {},
   "source": [
    "เราจะเห็นชื่อ '_factor' ใน dir() แค่ชื่อเดียว"
   ]
  },
  {
   "cell_type": "code",
   "execution_count": null,
   "id": "f8fafe6e",
   "metadata": {},
   "outputs": [],
   "source": [
    "# oop/private.attrs.fixed.py\n",
    "class A:\n",
    "    def __init__(self, factor):\n",
    "        self.__factor = factor\n",
    "    def op1(self):\n",
    "        print('Op1 with factor {}...'.format(self.__factor))\n",
    "class B(A):\n",
    "    def op2(self, factor):\n",
    "        self.__factor = factor\n",
    "        print('Op2 with factor {}...'.format(self.__factor))\n",
    "obj = B(100)\n",
    "obj.op1()    # Op1 with factor 100...\n",
    "obj.op2(42)  # Op2 with factor 42... \n",
    "obj.op1()    # Op1 with factor 100... <- Wohoo! Now it's GOOD!\n",
    "print(\"This is what expected\")"
   ]
  },
  {
   "cell_type": "markdown",
   "id": "2cbb7482",
   "metadata": {},
   "source": [
    "Wow, look at that! Now it's working as desired. Python is kind of magic and in this case, what is happening is that the name-mangling mechanism has kicked in.\n",
    "\n",
    "Name mangling means that any attribute name that has at least two leading underscores and at most one trailing underscore, such as __my_attr, is replaced with a name that includes an underscore and the class name before the actual name, such as _ClassName__my_attr.\n",
    "\n",
    "This means that when you inherit from a class, the mangling mechanism gives your private attribute two different names in the base and child classes so that name collision is avoided. Every class and instance object stores references to their attributes in a special attribute called __dict__, so let's inspect obj.__dict__ to see name mangling in action:"
   ]
  },
  {
   "cell_type": "markdown",
   "id": "a1a78a30",
   "metadata": {},
   "source": [
    "This is the _factor attribute that we find in the problematic version of this example, but look at the one that is using __factor:"
   ]
  },
  {
   "cell_type": "code",
   "execution_count": null,
   "id": "1f6937f6",
   "metadata": {},
   "outputs": [],
   "source": [
    "# oop/private.attrs.fixed.py\n",
    "print(obj.__dict__.keys())\n",
    "# dict_keys(['_A__factor', '_B__factor'])\n"
   ]
  },
  {
   "cell_type": "markdown",
   "id": "6badb5c8",
   "metadata": {},
   "source": [
    "ตอนนี้ obj มีสองfactor attribute, _A__factor (mangled within the A class), and _B__factor (mangled within the B class). นี่คือกาลไกที่ทำให้  obj.__factor = 42, __factor ใน A ไม่เปลี่ยนเพราะเรากำลังทำงานกับ  _B__factor, และไม่ได้ยุ่งกับ  _A__factor\n"
   ]
  },
  {
   "cell_type": "code",
   "execution_count": null,
   "id": "f9200363",
   "metadata": {},
   "outputs": [],
   "source": [
    "dir(obj)"
   ]
  },
  {
   "cell_type": "markdown",
   "id": "534813f4",
   "metadata": {},
   "source": [
    "โปรดสังเกตุ _A__factor, _B__factor ใน dir(obj)"
   ]
  },
  {
   "cell_type": "markdown",
   "id": "bf331c7e",
   "metadata": {},
   "source": [
    "# Todays's Lecture\n",
    "- Class Variable and Instance variable again\n",
    "- function definition with arrow\n",
    "- Example of Inheritance with Class method\n",
    "- Example of Multiple inheritance \n",
    "- Decorators\n",
    "- Property Decorators"
   ]
  },
  {
   "cell_type": "markdown",
   "id": "d3618e9e",
   "metadata": {},
   "source": [
    "# Class Variable and Instance Variable\n",
    "ตำแหน่งของการประกาศชื่อ Variable มีความสำคัญ  มันบอกว่าเป็นตัวแปรของคลาสหรือตัวแปรของวัตถุ  เวลาเรียกClass Variableจะเรียกชื่อคลาสจุดชื่อตัวแปรคลาส  ทั้งจากในคลาสและจากนอกคลาส"
   ]
  },
  {
   "attachments": {
    "ClassVariable.png": {
     "image/png": "[encoded data removed]"
    }
   },
   "cell_type": "markdown",
   "id": "9c0327e0",
   "metadata": {},
   "source": [
    "![ClassVariable.png](attachment:ClassVariable.png)"
   ]
  },
  {
   "cell_type": "code",
   "execution_count": null,
   "id": "0931a74b",
   "metadata": {},
   "outputs": [],
   "source": [
    "class Weight:\n",
    "    xchange_kg_baht = 65.6\n",
    "    def __init__(self, kg):\n",
    "        self.kg = kg\n",
    "        print(id(self.xchange_kg_baht))\n",
    "        print(id(Weight.xchange_kg_baht))\n",
    "        \n",
    "    def to_baht(self):\n",
    "        self.baht = Weight.xchange_kg_baht*self.kg\n",
    "        print(id(self.xchange_kg_baht))\n",
    "        print(id(Weight.xchange_kg_baht))\n",
    "        return Weight.xchange_kg_baht*self.kg #สังเกตุการเรียกClass Variable จากในคลาส"
   ]
  },
  {
   "cell_type": "markdown",
   "id": "416eac3c",
   "metadata": {},
   "source": [
    "ข้างล่างแสดงการใช้ตัวแปรคลาสตามปกติ"
   ]
  },
  {
   "cell_type": "code",
   "execution_count": null,
   "id": "18692121",
   "metadata": {},
   "outputs": [],
   "source": [
    "myGold = Weight(0.1)\n",
    "BahtMyGold = myGold.to_baht()\n",
    "print(myGold.baht)\n",
    "print(BahtMyGold)\n",
    "#print('Weight',Weight.xchange_kg_baht)\n",
    "#print('Weight',id(Weight.xchange_kg_baht))\n",
    "#print('my',id(myGold.xchange_kg_baht))"
   ]
  },
  {
   "cell_type": "markdown",
   "id": "2b98fc06",
   "metadata": {},
   "source": [
    "แสดงให้เห็นว่าตัวแปรคลาสเป็นobjectเดียวกันสำหรับทุกinstanceของคลาส"
   ]
  },
  {
   "cell_type": "code",
   "execution_count": null,
   "id": "ce3bf5ea",
   "metadata": {},
   "outputs": [],
   "source": [
    "Weight.xchange_kg_baht =1\n",
    "print('Weight',id(Weight.xchange_kg_baht))\n",
    "herGold = Weight(3.)\n",
    "print(herGold.to_baht())\n",
    "print('my',myGold.to_baht())\n",
    "print('my',id(myGold.xchange_kg_baht))\n",
    "print('her',id(herGold.xchange_kg_baht))"
   ]
  },
  {
   "cell_type": "markdown",
   "id": "806de2eb",
   "metadata": {},
   "source": [
    "การเขียนxchange_kg_baht  แบบด้านล่างไม่ได้เปลี่ยนตัวแปรคลาส แต่เป็นการสร้าง object variableตัวใหม่ขึ้นมา  ที่เรียกว่าAttribute Shadowing"
   ]
  },
  {
   "cell_type": "code",
   "execution_count": null,
   "id": "130ed108",
   "metadata": {},
   "outputs": [],
   "source": [
    "myGold.xchange_kg_baht = 2\n",
    "print('my',myGold.to_baht())\n",
    "print('my',id(myGold.xchange_kg_baht))\n",
    "print('her',herGold.to_baht())\n",
    "print('her',id(herGold.xchange_kg_baht))"
   ]
  },
  {
   "cell_type": "markdown",
   "id": "de229606",
   "metadata": {},
   "source": [
    "นิยามตัวแปรเฉพาะobjectตัวนี้ตัวเดียว"
   ]
  },
  {
   "cell_type": "code",
   "execution_count": null,
   "id": "e91ee80a",
   "metadata": {},
   "outputs": [],
   "source": [
    "Weight.xchange_kg_baht = 65.6\n",
    "myDogGold = Weight(10)\n",
    "myDogGold.purity = 1.1 #1.1 percent gold\n",
    "print('my',myGold.to_baht())\n",
    "print('my',id(myGold.xchange_kg_baht))\n",
    "print('her',herGold.to_baht())\n",
    "print('her',id(herGold.xchange_kg_baht))\n",
    "print('myDog',myDogGold.to_baht())\n",
    "print('myDog',id(myDogGold.xchange_kg_baht))\n",
    "print(myDogGold.purity)\n",
    "print(myGold.purity)"
   ]
  },
  {
   "cell_type": "markdown",
   "id": "b85be68e",
   "metadata": {},
   "source": [
    "การใช้Class Variableมักจะใช้กรณีที่ทั้งคลาสใช้ร่วมกัน  เช่นจำนวนประชากรของคลาสสัตว์ชนิดหนึ่ง   จำนวนตัวเลขของบัตรประชาชนไทย "
   ]
  },
  {
   "cell_type": "markdown",
   "id": "9d55043d",
   "metadata": {},
   "source": [
    "# Arrow in Python 3 function definition\n",
    "อันนี้แค่บอกกับมนุษย์คนอื่นว่ามันreturn typeอะไร  แต่ว่าสำหรับpython interpreter, มันคือdocumentation ไม่ได้ประมวลผลอะไร"
   ]
  },
  {
   "cell_type": "code",
   "execution_count": null,
   "id": "25d0d5c2",
   "metadata": {},
   "outputs": [],
   "source": [
    "def foo(i) -> float:\n",
    "    return i*3.0"
   ]
  },
  {
   "cell_type": "code",
   "execution_count": null,
   "id": "40e11ff2",
   "metadata": {},
   "outputs": [],
   "source": [
    "foo(2)"
   ]
  },
  {
   "cell_type": "code",
   "execution_count": null,
   "id": "5efd08a9",
   "metadata": {},
   "outputs": [],
   "source": [
    "foo('test')"
   ]
  },
  {
   "cell_type": "code",
   "execution_count": null,
   "id": "8ad0f5b8",
   "metadata": {},
   "outputs": [],
   "source": [
    "def foo2(i) -> float:\n",
    "    return i"
   ]
  },
  {
   "cell_type": "code",
   "execution_count": null,
   "id": "e1a46511",
   "metadata": {},
   "outputs": [],
   "source": [
    "foo2('test')"
   ]
  },
  {
   "cell_type": "code",
   "execution_count": null,
   "id": "47e2ec52",
   "metadata": {},
   "outputs": [],
   "source": [
    "def foo3(i) -> str:\n",
    "    return i"
   ]
  },
  {
   "cell_type": "code",
   "execution_count": null,
   "id": "5eb8b0bd",
   "metadata": {},
   "outputs": [],
   "source": [
    "foo3('test')"
   ]
  },
  {
   "cell_type": "code",
   "execution_count": null,
   "id": "70ac8752",
   "metadata": {},
   "outputs": [],
   "source": [
    "def foo4(i) -> wfwfwf:\n",
    "    return i"
   ]
  },
  {
   "cell_type": "markdown",
   "id": "21e3b4db",
   "metadata": {},
   "source": [
    "# OOP Case Study\n",
    "\n",
    "TODO list\n",
    "\n",
    "- Client must connect to server through TCP/IP\n",
    "- Once TCP connected, the database connection should follow\n",
    "- Following parameters \n",
    "   - Local side: IP address, Mac Address or Host name (If Host name, must lookup local Host to IP table)\n",
    "   - Remote side: IP address \n",
    "   - Connection param: Status, Protocol Name according to the layer, Protocol Version\n",
    "   - Buffer memory which provide serialization of protocols\n",
    "- DB Clinet must be able to do Query, Insert\n"
   ]
  },
  {
   "cell_type": "code",
   "execution_count": null,
   "id": "904e0a21",
   "metadata": {},
   "outputs": [],
   "source": [
    "class ClientTcpConnect:\n",
    "    protocolName = 'TCP/IP'\n",
    "    protocolVersion = 'Version 4'\n",
    "    def __init__(self, ipAddr):\n",
    "        self.macAddr = self.getMacAddr()\n",
    "        self.ipAddr = ipAddr\n",
    "        self.status = 'idle'\n",
    "    \n",
    "    @staticmethod\n",
    "    def getMacAddr():\n",
    "        pass\n",
    "    \n",
    "    @staticmethod\n",
    "    def hostNameLookup(hostName):\n",
    "        pass\n",
    "        \n",
    "    @classmethod\n",
    "    def init_with_hostName(cls, hostName):\n",
    "        pass\n",
    "        \n",
    "        \n",
    "    def initializeHandShake(self,remoteIpAddr):\n",
    "        pass\n",
    "            \n",
    "    def disconnection(self):\n",
    "        pass\n",
    "            \n",
    "    \n",
    "class ClientDbConnect(ClientTcpConnect):\n",
    "    dbProtocol = 'Oracle'\n",
    "    \n",
    "    def __init__(self,user,passwd,ip,remoteIp):\n",
    "        self.user = user\n",
    "        self.passwd = passwd\n",
    "        super().__init__(ip)\n",
    "        \n",
    "        \n",
    "    @classmethod\n",
    "    def init_with_hostName(cls, user,passwd, hostName,remoteIP):\n",
    "        pass\n",
    "           \n",
    "        \n",
    "    def queryDb(self,sql):\n",
    "        pass  \n",
    "    \n",
    "    \n",
    "    def insertDb(self, sql):\n",
    "        pass\n",
    "    \n"
   ]
  },
  {
   "cell_type": "code",
   "execution_count": null,
   "id": "6a5cc7c8",
   "metadata": {},
   "outputs": [],
   "source": [
    "import random\n",
    "\n",
    "\n",
    "class ClientTcpConnect:\n",
    "    protocolName = 'TCP/IP'\n",
    "    protocolVersion = 'Version 4'\n",
    "    def __init__(self, ipAddr):\n",
    "        self.macAddr = self.getMacAddr()\n",
    "        self.ipAddr = ipAddr\n",
    "        self.status = 'idle'\n",
    "    \n",
    "    @staticmethod\n",
    "    def getMacAddr():\n",
    "        return 'A1212-B3434'\n",
    "    \n",
    "    @staticmethod\n",
    "    def hostNameLookup(hostName):\n",
    "        if hostName == 'mySelf':\n",
    "            return '127.0.0.1'\n",
    "        elif hostName == 'hisHome':\n",
    "            return '314.10.100.12'\n",
    "        \n",
    "    @classmethod\n",
    "    def init_with_hostName(cls, hostName):\n",
    "        ip = self.hostNameLookup(hostName)\n",
    "        return cls(ip)\n",
    "        \n",
    "        \n",
    "    def initializeHandShake(self,remoteIpAddr):\n",
    "        self.remoteIpAddr = remoteIpAddr\n",
    "        chance = random.randint(0,9)\n",
    "        if chance<8:\n",
    "            print('Connected')\n",
    "            self.status = 'connected'\n",
    "        else:\n",
    "            print('Error Connecting')\n",
    "            \n",
    "    def disconnection(self):\n",
    "        if not self.remoteIpAddr or not self.status=='connected' :\n",
    "            print('Error: There is no connection yet')\n",
    "            return -1\n",
    "        else:\n",
    "            self.status = 'idle'\n",
    "            del self.remoteIpAddr\n",
    "            print('Disconnected')\n",
    "            \n",
    "    \n",
    "class ClientDbConnect(ClientTcpConnect):\n",
    "    dbProtocol = 'Oracle'\n",
    "    \n",
    "    def __init__(self,user,passwd,ip,remoteIp):\n",
    "        self.user = user\n",
    "        self.passwd = passwd\n",
    "        super().__init__(ip)\n",
    "        super().initializeHandShake(remoteIp)\n",
    "        \n",
    "    @classmethod\n",
    "    def init_with_hostName(cls, user,passwd, hostName,remoteIP):\n",
    "        ip = super().hostNameLookup(hostName)\n",
    "        return cls(user,passwd,ip,remoteIP)\n",
    "           \n",
    "        \n",
    "    def queryDb(self,sql):\n",
    "        if self.status != 'connected':\n",
    "            return -1        \n",
    "        if 'SELECT' in sql:\n",
    "            return 'name addr job_desc position'\n",
    "        else:\n",
    "            print('SQL error: missing SELECT')\n",
    "            return -1       \n",
    "    \n",
    "    \n",
    "    def insertDb(self, sql):\n",
    "        if self.status != 'connected':\n",
    "            return -1\n",
    "        if 'INSERT' in sql:\n",
    "            return 0\n",
    "        else:\n",
    "            print('SQL error: missing INSERT')\n",
    "            return -1\n",
    "    \n",
    "\n",
    "        \n",
    "        \n",
    "        "
   ]
  },
  {
   "cell_type": "code",
   "execution_count": null,
   "id": "66cec713",
   "metadata": {},
   "outputs": [],
   "source": [
    "officeDbCon =  ClientDbConnect.init_with_hostName('admin','1234',hostName='hisHome',remoteIP='182.182.182.182')"
   ]
  },
  {
   "cell_type": "code",
   "execution_count": null,
   "id": "8f70b5a4",
   "metadata": {},
   "outputs": [],
   "source": [
    "officeDbCon.status\n",
    "officeDbCon.remoteIpAddr\n"
   ]
  },
  {
   "cell_type": "code",
   "execution_count": null,
   "id": "bf20587a",
   "metadata": {},
   "outputs": [],
   "source": [
    "officeDbCon2 =  ClientDbConnect('admin2','12345','12.19.12.19','192.192.192.192')"
   ]
  },
  {
   "cell_type": "code",
   "execution_count": null,
   "id": "38d5313e",
   "metadata": {},
   "outputs": [],
   "source": [
    "for i in range(5):\n",
    "    print(ClientDbConnect.init_with_hostName('admin','1234',hostName='hisHome',remoteIP='182.182.182.182').status)"
   ]
  },
  {
   "cell_type": "code",
   "execution_count": null,
   "id": "868ab2c6",
   "metadata": {},
   "outputs": [],
   "source": [
    "print(officeDbCon.queryDb('from myTable;'))# จงใจผิด\n",
    "print(officeDbCon.queryDb('SELECT * from myTable;'))\n",
    "print(officeDbCon.insertDb('SELECT * from myTable;'))# จงใจผิด\n",
    "print(officeDbCon.insertDb('INSERT into myTable blabla;'))\n",
    "#Polymorphism here\n",
    "officeDbCon.disconnection()"
   ]
  },
  {
   "cell_type": "code",
   "execution_count": null,
   "id": "e5348c86",
   "metadata": {},
   "outputs": [],
   "source": [
    "print(officeDbCon2.queryDb('from myTable;'))# จงใจผิด\n",
    "print(officeDbCon2.queryDb('SELECT * from myTable;'))\n",
    "print(officeDbCon2.insertDb('SELECT * from myTable;'))# จงใจผิด\n",
    "print(officeDbCon2.insertDb('INSERT into myTable blabla;'))\n",
    "#Polymorphism here\n",
    "officeDbCon2.disconnection()"
   ]
  },
  {
   "cell_type": "markdown",
   "id": "de957ac2",
   "metadata": {},
   "source": [
    "- เราควรใช้ ENUM ในการเรียกชื่อConstantที่นิยามสถานะ\n",
    "- เราต้องการสร้งคลาส DB connect ให้มี buffer สำหรับส่งข้อมูลผ่าน tcp/ip (serialization) \n",
    "   - has_a relationship"
   ]
  },
  {
   "cell_type": "code",
   "execution_count": null,
   "id": "fa900297",
   "metadata": {},
   "outputs": [],
   "source": [
    "import random\n",
    "import enum\n",
    "\n",
    "class ConnectionStatus(enum.Enum):\n",
    "    CONNECTED = 1\n",
    "    IDLE = 0\n",
    "\n",
    "class DbProtocol:\n",
    "    \n",
    "    def __init__(self, protocolVersion,myMacAddr, remoteIp, handshakeStr):\n",
    "        self.protocolVersion = protocolVersion   \n",
    "        self.buffer = protocolVersion + '|'+ myMacAddr + '|'+ remoteIp + '|'+ handshakeStr \n",
    "\n",
    "        \n",
    "\n",
    "class ClientTcpConnect:\n",
    "    protocolName = 'TCP/IP'\n",
    "    protocolVersion = 'Version 4'\n",
    "    def __init__(self, ipAddr):\n",
    "        self.macAddr = self.getMacAddr()\n",
    "        self.ipAddr = ipAddr\n",
    "        self.status = 'idle'\n",
    "    \n",
    "    @staticmethod\n",
    "    def getMacAddr():\n",
    "        return 'A1212-B3434'\n",
    "    \n",
    "    @staticmethod\n",
    "    def hostNameLookup(hostName):\n",
    "        if hostName == 'mySelf':\n",
    "            return '127.0.0.1'\n",
    "        elif hostName == 'hisHome':\n",
    "            return '314.10.100.12'\n",
    "        \n",
    "    @classmethod\n",
    "    def init_with_hostName(cls, hostName):\n",
    "        ip = self.hostNameLookup(hostName)\n",
    "        return cls(ip)\n",
    "        \n",
    "        \n",
    "    def initializeHandShake(self,remoteIpAddr)->str:\n",
    "        self.remoteIpAddr = remoteIpAddr\n",
    "        chance = random.randint(0,9)\n",
    "        if chance<8:\n",
    "            print('Connected')\n",
    "            self.status = ConnectionStatus.CONNECTED\n",
    "            return 'AABBAABBA'\n",
    "        else:\n",
    "            print('Error Connecting')\n",
    "            return 'ERRORCODE'\n",
    "            \n",
    "    def disconnection(self):\n",
    "        if not self.remoteIpAddr or not self.status==ConnectionStatus.CONNECTED:\n",
    "            print('Error: There is no connection yet')\n",
    "            return -1\n",
    "        else:\n",
    "            self.status = ConnectionStatus.IDLE\n",
    "            del self.remoteIpAddr\n",
    "            print('Disconnected')\n",
    "            \n",
    "    \n",
    "class ClientDbConnect(ClientTcpConnect):\n",
    "    protocolVersion = '3.2'\n",
    "    \n",
    "    \n",
    "    def __init__(self,user,passwd,ip,remoteIp):\n",
    "        self.user = user\n",
    "        self.passwd = passwd\n",
    "        super().__init__(ip)\n",
    "        self.handshakeStr = super().initializeHandShake(remoteIp)\n",
    "        self.dbProtocol = DbProtocol(ClientDbConnect.protocolVersion, self.macAddr,\\\n",
    "                                                            self.remoteIpAddr,self.handshakeStr)\n",
    "        \n",
    "    @classmethod\n",
    "    def init_with_hostName(cls, user,passwd, hostName,remoteIP):\n",
    "        ip = super().hostNameLookup(hostName)        \n",
    "        return cls(user,passwd,ip,remoteIP)\n",
    "           \n",
    "        \n",
    "    def queryDb(self,sql):\n",
    "        if self.status != ConnectionStatus.CONNECTED:\n",
    "            return -1        \n",
    "        if 'SELECT' in sql:\n",
    "            return 'name addr job_desc position'\n",
    "        else:\n",
    "            print('SQL error: missing SELECT')\n",
    "            return -1       \n",
    "    \n",
    "    \n",
    "    def insertDb(self, sql):\n",
    "        if self.status != ConnectionStatus.CONNECTED:\n",
    "            return -1\n",
    "        if 'INSERT' in sql:\n",
    "            return 0\n",
    "        else:\n",
    "            print('SQL error: missing INSERT')\n",
    "            return -1\n",
    "    \n",
    "\n",
    "        \n",
    "        \n",
    "        "
   ]
  },
  {
   "cell_type": "code",
   "execution_count": null,
   "id": "76c3e77a",
   "metadata": {},
   "outputs": [],
   "source": [
    "officeDbCon =  ClientDbConnect.init_with_hostName('admin','1234',hostName='hisHome',remoteIP='182.182.182.182')"
   ]
  },
  {
   "cell_type": "code",
   "execution_count": null,
   "id": "ef1b3c1d",
   "metadata": {},
   "outputs": [],
   "source": [
    "print(officeDbCon.dbProtocol.buffer)"
   ]
  },
  {
   "cell_type": "code",
   "execution_count": null,
   "id": "7c992915",
   "metadata": {},
   "outputs": [],
   "source": [
    "def randomIp():\n",
    "    ips = (str(random.randint(0,255)),str(random.randint(0,255))\\\n",
    "           ,str(random.randint(0,255)),str(random.randint(0,255)))  \n",
    "    return '.'.join(ips)\n",
    "\n",
    "print(randomIp())"
   ]
  },
  {
   "cell_type": "code",
   "execution_count": null,
   "id": "a98e06fc",
   "metadata": {},
   "outputs": [],
   "source": [
    "for i in range(5):\n",
    "    remoteIP = randomIp()\n",
    "    con = ClientDbConnect.init_with_hostName('admin','1234','hisHome',remoteIP)\n",
    "    print(con.status)\n",
    "    print(con.dbProtocol.buffer)"
   ]
  },
  {
   "cell_type": "code",
   "execution_count": null,
   "id": "a6061800",
   "metadata": {},
   "outputs": [],
   "source": [
    "print(officeDbCon.queryDb('from myTable;'))# จงใจผิด\n",
    "print(officeDbCon.queryDb('SELECT * from myTable;'))\n",
    "print(officeDbCon.insertDb('SELECT * from myTable;'))# จงใจผิด\n",
    "print(officeDbCon.insertDb('INSERT into myTable blabla;'))\n",
    "\n",
    "officeDbCon.disconnection()  "
   ]
  },
  {
   "cell_type": "markdown",
   "id": "a7a3b721",
   "metadata": {},
   "source": [
    "เราสร้าง connect() ชื่อเดียวกันทั้งในพ่อแม่ class ClientTcpConnect และคลาสลูก class ClientDbConnect  โดยคลาสลูกเรียกconnect()ของคลาสพ่อแม่"
   ]
  },
  {
   "cell_type": "code",
   "execution_count": null,
   "id": "96903c41",
   "metadata": {},
   "outputs": [],
   "source": [
    "import random\n",
    "import enum\n",
    "\n",
    "class ConnectionStatus(enum.Enum):\n",
    "    CONNECTED = 1\n",
    "    IDLE = 0\n",
    "\n",
    "class DbProtocol:\n",
    "    \n",
    "    def __init__(self, protocolVersion,myMacAddr, remoteIp, handshakeStr):\n",
    "        self.protocolVersion = protocolVersion   \n",
    "        self.buffer = protocolVersion + '|'+ myMacAddr + '|'+ remoteIp + '|'+ handshakeStr \n",
    "\n",
    "        \n",
    "\n",
    "class ClientTcpConnect:\n",
    "    protocolName = 'TCP/IP'\n",
    "    protocolVersion = 'Version 4'\n",
    "    def __init__(self, ipAddr,remoteIpAddr):\n",
    "        self.macAddr = self.getMacAddr()\n",
    "        self.ipAddr = ipAddr\n",
    "        self.status = 'idle'\n",
    "        self.remoteIpAddr = remoteIpAddr\n",
    "    \n",
    "    @staticmethod\n",
    "    def getMacAddr():\n",
    "        return 'A1212-B3434'\n",
    "    \n",
    "    @staticmethod\n",
    "    def hostNameLookup(hostName):\n",
    "        if hostName == 'mySelf':\n",
    "            return '127.0.0.1'\n",
    "        elif hostName == 'hisHome':\n",
    "            return '314.10.100.12'\n",
    "        \n",
    "    @classmethod\n",
    "    def init_with_hostName(cls, hostName):\n",
    "        ip = self.hostNameLookup(hostName)\n",
    "        return cls(ip)\n",
    "        \n",
    "        \n",
    "    def connect(self)->str:\n",
    "        \n",
    "        chance = random.randint(0,9)\n",
    "        if chance<8:\n",
    "            print('Connected')\n",
    "            self.status = ConnectionStatus.CONNECTED\n",
    "            return 'AABBAABBA'\n",
    "        else:\n",
    "            print('Error Connecting')\n",
    "            return 'ERRORCODE'\n",
    "            \n",
    "    def disconnection(self):\n",
    "        if not self.remoteIpAddr or not self.status==ConnectionStatus.CONNECTED:\n",
    "            print('Error: There is no connection yet')\n",
    "            return -1\n",
    "        else:\n",
    "            self.status = ConnectionStatus.IDLE\n",
    "            del self.remoteIpAddr\n",
    "            print('Disconnected')\n",
    "            \n",
    "    \n",
    "class ClientDbConnect(ClientTcpConnect):\n",
    "    protocolVersion = '3.2'\n",
    "    \n",
    "    \n",
    "    def __init__(self,user,passwd,ip,remoteIp):\n",
    "        self.user = user\n",
    "        self.passwd = passwd\n",
    "        super().__init__(ip,remoteIp)\n",
    "        \n",
    "        \n",
    "    def connect(self)->int:\n",
    "        self.handshakeStr = super().connect()\n",
    "        if self.handshakeStr == 'ERRORCODE': \n",
    "            return -1\n",
    "        self.dbProtocol = DbProtocol(ClientDbConnect.protocolVersion, self.macAddr,\\\n",
    "                                                            self.remoteIpAddr,self.handshakeStr)\n",
    "        return 0\n",
    "        \n",
    "    @classmethod\n",
    "    def init_with_hostName(cls, user,passwd, hostName,remoteIP):\n",
    "        ip = super().hostNameLookup(hostName)        \n",
    "        return cls(user,passwd,ip,remoteIP)\n",
    "           \n",
    "        \n",
    "    def queryDb(self,sql):\n",
    "        if self.status != ConnectionStatus.CONNECTED:\n",
    "            return -1        \n",
    "        if 'SELECT' in sql:\n",
    "            return 'name addr job_desc position'\n",
    "        else:\n",
    "            print('SQL error: missing SELECT')\n",
    "            return -1       \n",
    "    \n",
    "    \n",
    "    def insertDb(self, sql):\n",
    "        if self.status != ConnectionStatus.CONNECTED:\n",
    "            return -1\n",
    "        if 'INSERT' in sql:\n",
    "            return 0\n",
    "        else:\n",
    "            print('SQL error: missing INSERT')\n",
    "            return -1\n",
    "    \n",
    "\n",
    "        \n",
    "        \n",
    "        "
   ]
  },
  {
   "cell_type": "code",
   "execution_count": null,
   "id": "1dec90eb",
   "metadata": {},
   "outputs": [],
   "source": [
    "officeDbCon =  ClientDbConnect.init_with_hostName('admin','1234',hostName='hisHome',remoteIP='182.182.182.182')\n",
    "officeDbCon.connect()\n"
   ]
  },
  {
   "cell_type": "code",
   "execution_count": null,
   "id": "299b12ff",
   "metadata": {},
   "outputs": [],
   "source": [
    "print(officeDbCon.dbProtocol.buffer)"
   ]
  },
  {
   "cell_type": "code",
   "execution_count": null,
   "id": "03395db5",
   "metadata": {},
   "outputs": [],
   "source": [
    "import sys\n",
    "for i in range(20):\n",
    "    remoteIP = randomIp()\n",
    "    con = ClientDbConnect.init_with_hostName('admin','1234','hisHome',remoteIP)\n",
    "    con.connect()\n",
    "    try:\n",
    "        print(con.status)\n",
    "        print(con.dbProtocol.buffer)\n",
    "    except Exception as e:\n",
    "        print(\"error occured: \"+str(e))\n",
    "    \n",
    "    "
   ]
  },
  {
   "cell_type": "markdown",
   "id": "43813a78",
   "metadata": {},
   "source": []
  },
  {
   "cell_type": "code",
   "execution_count": null,
   "id": "4c76e215",
   "metadata": {},
   "outputs": [],
   "source": [
    "print(officeDbCon.queryDb('from myTable;'))# จงใจผิด\n",
    "print(officeDbCon.queryDb('SELECT * from myTable;'))\n",
    "print(officeDbCon.insertDb('SELECT * from myTable;'))# จงใจผิด\n",
    "print(officeDbCon.insertDb('INSERT into myTable blabla;'))\n",
    "\n",
    "    "
   ]
  },
  {
   "cell_type": "markdown",
   "id": "4eba05e7",
   "metadata": {},
   "source": [
    "# Multple inheritance"
   ]
  },
  {
   "cell_type": "code",
   "execution_count": null,
   "id": "f2273587",
   "metadata": {},
   "outputs": [],
   "source": [
    "import random\n",
    "import enum\n",
    "\n",
    "class ConnectionStatus(enum.Enum):\n",
    "    CONNECTED = 1\n",
    "    IDLE = 0\n",
    "\n",
    "class DbProtocol:\n",
    "    \n",
    "    def __init__(self, protocolVersion,myMacAddr, remoteIp, handshakeStr):\n",
    "        self.protocolVersion = protocolVersion   \n",
    "        self.buffer = protocolVersion + '|'+ myMacAddr + '|'+ remoteIp + '|'+ handshakeStr \n",
    "\n",
    "        \n",
    "\n",
    "class ClientTcpConnect:\n",
    "    protocolName = 'TCP/IP'\n",
    "    protocolVersion = 'Version 4'\n",
    "    def __init__(self, ipAddr,remoteIpAddr):\n",
    "        self.macAddr = self.getMacAddr()\n",
    "        self.ipAddr = ipAddr\n",
    "        self.status = 'idle'\n",
    "        self.remoteIpAddr = remoteIpAddr\n",
    "    \n",
    "    @staticmethod\n",
    "    def getMacAddr():\n",
    "        return 'A1212-B3434'\n",
    "    \n",
    "    @staticmethod\n",
    "    def hostNameLookup(hostName):\n",
    "        if hostName == 'mySelf':\n",
    "            return '127.0.0.1'\n",
    "        elif hostName == 'hisHome':\n",
    "            return '314.10.100.12'\n",
    "        \n",
    "    @classmethod\n",
    "    def init_with_hostName(cls, hostName):\n",
    "        ip = self.hostNameLookup(hostName)\n",
    "        return cls(ip)\n",
    "        \n",
    "        \n",
    "    def connect(self)->str:\n",
    "        \n",
    "        chance = random.randint(0,9)\n",
    "        if chance<8:\n",
    "            print('Connected')\n",
    "            self.status = ConnectionStatus.CONNECTED\n",
    "            return 'AABBAABBA'\n",
    "        else:\n",
    "            print('Error Connecting')\n",
    "            return 'ERRORCODE'\n",
    "            \n",
    "    def disconnection(self):\n",
    "        if not self.remoteIpAddr or not self.status==ConnectionStatus.CONNECTED:\n",
    "            print('Error: There is no connection yet')\n",
    "            return -1\n",
    "        else:\n",
    "            self.status = ConnectionStatus.IDLE\n",
    "            del self.remoteIpAddr\n",
    "            print('Disconnected')\n",
    "\n",
    "class SQLDatabase:\n",
    "    def queryDb(self,sql):\n",
    "        if self.status != ConnectionStatus.CONNECTED:\n",
    "            return -1        \n",
    "        if 'SELECT' in sql:\n",
    "            return 'name addr job_desc position'\n",
    "        else:\n",
    "            print('SQL error: missing SELECT')\n",
    "            return -1       \n",
    "    \n",
    "    \n",
    "    def insertDb(self, sql):\n",
    "        if self.status != ConnectionStatus.CONNECTED:\n",
    "            return -1\n",
    "        if 'INSERT' in sql:\n",
    "            return 0\n",
    "        else:\n",
    "            print('SQL error: missing INSERT')\n",
    "            return -1\n",
    "    \n",
    "    \n",
    "    \n",
    "class ClientDb(ClientTcpConnect,SQLDatabase):\n",
    "    protocolVersion = '3.2'\n",
    "    \n",
    "    \n",
    "    def __init__(self,user,passwd,ip,remoteIp):\n",
    "        self.user = user\n",
    "        self.passwd = passwd\n",
    "        super().__init__(ip,remoteIp)\n",
    "        \n",
    "        \n",
    "    def connect(self)->int:\n",
    "        self.handshakeStr = super().connect()\n",
    "        if self.handshakeStr == 'ERRORCODE': \n",
    "            return -1\n",
    "        self.dbProtocol = DbProtocol(ClientDb.protocolVersion, self.macAddr,\\\n",
    "                                                            self.remoteIpAddr,self.handshakeStr)\n",
    "        return 0\n",
    "        \n",
    "    @classmethod\n",
    "    def init_with_hostName(cls, user,passwd, hostName,remoteIP):\n",
    "        ip = super().hostNameLookup(hostName)        \n",
    "        return cls(user,passwd,ip,remoteIP)\n",
    "           \n",
    "        \n",
    "\n",
    "\n",
    "        \n",
    "        \n",
    "        "
   ]
  },
  {
   "cell_type": "code",
   "execution_count": null,
   "id": "f76d9d3f",
   "metadata": {},
   "outputs": [],
   "source": [
    "officeDbCon =  ClientDb.init_with_hostName('admin','1234',hostName='hisHome',remoteIP='182.182.182.182')\n",
    "officeDbCon.connect()"
   ]
  },
  {
   "cell_type": "code",
   "execution_count": null,
   "id": "e57d656b",
   "metadata": {},
   "outputs": [],
   "source": [
    "print(officeDbCon.dbProtocol.buffer)"
   ]
  },
  {
   "cell_type": "code",
   "execution_count": null,
   "id": "95b6599d",
   "metadata": {},
   "outputs": [],
   "source": [
    "import sys\n",
    "\n",
    "cons = []\n",
    "for i in range(5):\n",
    "    remoteIP = randomIp()\n",
    "    con = ClientDb.init_with_hostName('admin','1234','hisHome',remoteIP)\n",
    "    con.connect()\n",
    "    try:\n",
    "        print(con.status)\n",
    "        print(con.dbProtocol.buffer)         \n",
    "    except Exception as e:\n",
    "        print(\"error occured: \"+str(e))\n",
    "    else:\n",
    "        cons.append(con)\n",
    "        \n",
    "        \n",
    "print(cons)\n",
    "print(len(cons))\n",
    "for i in cons:\n",
    "    print(i.remoteIpAddr, i.status)"
   ]
  },
  {
   "cell_type": "code",
   "execution_count": null,
   "id": "0a1e80e9",
   "metadata": {},
   "outputs": [],
   "source": [
    "print(officeDbCon.queryDb('from myTable;'))# จงใจผิด\n",
    "print(officeDbCon.queryDb('SELECT * from myTable;'))\n",
    "print(officeDbCon.insertDb('SELECT * from myTable;'))# จงใจผิด\n",
    "print(officeDbCon.insertDb('INSERT into myTable blabla;'))\n",
    "\n",
    "officeDbCon.disconnection()     "
   ]
  },
  {
   "cell_type": "markdown",
   "id": "b8902486",
   "metadata": {},
   "source": [
    "# Try to create your own class\n",
    "Present your own implementation of Multiple inheritance during Lab time with @classmethod and @staticmethod\n",
    "- Use your base class's method, variable\n",
    "- Use class variable\n",
    "- Use cls, self"
   ]
  },
  {
   "cell_type": "markdown",
   "id": "e35183e3",
   "metadata": {},
   "source": [
    "# Decorator\n",
    "ที่มา https://www.programiz.com/python-programming/decorator\n",
    "\n",
    "Python has an interesting feature called decorators to add functionality to an existing code.\n",
    "\n",
    "This is also called metaprogramming because a part of the program tries to modify another part of the program at compile time\n",
    "\n",
    "คิดถึงมันว่าเป็นฟังก์ชันที่เรียกอีกฟังก์ชันเพื่อทำตัวเป็น Generic\n",
    "ไอเดียของคำว่า Generic คือสำหรับทั่วไป  ไม่ใช่สำหรับเฉพาะเจาะจง"
   ]
  },
  {
   "cell_type": "code",
   "execution_count": null,
   "id": "0f5a685d",
   "metadata": {},
   "outputs": [],
   "source": [
    "def first(msg):\n",
    "    print(msg)\n",
    "\n",
    "\n",
    "first(\"Hello\")\n",
    "\n",
    "second = first\n",
    "second(\"Hello2\")\n",
    "print(type(first),type(second))\n",
    "print(id(first),id(second))"
   ]
  },
  {
   "cell_type": "markdown",
   "id": "6d05d58a",
   "metadata": {},
   "source": [
    "ทั้งสองชื่อ first, second ชี้ไปที่object ตัวเดียวกัน   ซึ่งบางครั้งไม่ใช่สิ่งที่เราต้องการ\n",
    "\n",
    "ฟังก์ชั่นสามารถถูกผ่่านในฐานะargumentsของอีกฟังก์ชัน\n",
    "เช่นที่เราเคยใช้ map, reduce, filter\n",
    "ฟังก์ชันที่ใช้ฟังก์ชันอื่นเรียกว่า higher order function ยกตัวอย่าง\n"
   ]
  },
  {
   "cell_type": "code",
   "execution_count": null,
   "id": "c5aa5e08",
   "metadata": {},
   "outputs": [],
   "source": [
    "def inc(x):\n",
    "    return x + 1\n",
    "\n",
    "\n",
    "def dec(x):\n",
    "    return x - 1\n",
    "\n",
    "\n",
    "def operate(func, x):\n",
    "    result = func(x)\n",
    "    return result"
   ]
  },
  {
   "cell_type": "code",
   "execution_count": null,
   "id": "7e574b41",
   "metadata": {},
   "outputs": [],
   "source": [
    "operate(inc,3)"
   ]
  },
  {
   "cell_type": "code",
   "execution_count": null,
   "id": "24c962ed",
   "metadata": {},
   "outputs": [],
   "source": [
    "operate(dec,3)"
   ]
  },
  {
   "cell_type": "code",
   "execution_count": null,
   "id": "815dfd54",
   "metadata": {},
   "outputs": [],
   "source": [
    "def is_called():\n",
    "    def is_returned():\n",
    "        print(\"Hello\")\n",
    "    return is_returned\n",
    "\n",
    "\n",
    "new = is_called()\n",
    "\n",
    "# Outputs \"Hello\"\n",
    "new()\n",
    "type(new)\n",
    "print(new.__class__.__name__)\n"
   ]
  },
  {
   "cell_type": "markdown",
   "id": "d56c58a6",
   "metadata": {},
   "source": [
    "ฟังก์ชันด้านบน return function is_returned กลับมา"
   ]
  },
  {
   "cell_type": "code",
   "execution_count": null,
   "id": "69f15519",
   "metadata": {},
   "outputs": [],
   "source": [
    "def make_pretty(func):\n",
    "    def inner():\n",
    "        print(\"I got decorated\")\n",
    "        func()\n",
    "    return inner\n",
    "\n",
    "\n",
    "def ordinary():\n",
    "    print(\"I am ordinary\")"
   ]
  },
  {
   "cell_type": "code",
   "execution_count": null,
   "id": "46da86ee",
   "metadata": {},
   "outputs": [],
   "source": [
    "ordinary()"
   ]
  },
  {
   "cell_type": "code",
   "execution_count": null,
   "id": "d5aa8fa7",
   "metadata": {},
   "outputs": [],
   "source": [
    "pretty = make_pretty(ordinary)\n",
    "pretty()"
   ]
  },
  {
   "cell_type": "markdown",
   "id": "a5c3f302",
   "metadata": {},
   "source": [
    "ตัวอย่างด้านบน, make_pretty() คือ decorator (ผู้ตกแต่ง). โดยการเขียนassignment:\n",
    "``` Python\n",
    "pretty = make_pretty(ordinary)\n",
    "```\n",
    "function ordinary() ถูกตกแต่ง (decorated) แล้วก็คืนค่าเป็น function ที่ชื่อว่า pretty.\n",
    "\n",
    "เราจะเห็นได้ว่าฟังก์ชันผู้ตกแต่ง(decorator fn) เพิ่มฟังก์ชัน(หมายถึงความสามารถ)ให้กับฟังก์ชันตั้งต้น  มันทำให้ deoorator เหมือนกับการห่อของขวัญโดยที่ decorator ก็คือห่อ  ลักษณะของของขวัญที่ถูกห่อ(ฟังก์ชันดั้งเดิม)ไม่ได้เปลี่ยนไป  แต่มันสวยขึ้น\n",
    "\n",
    "โดยทั่วไปเราจะใช้ชื่อเดิมหลังการห่อ\n",
    "``` Python\n",
    "ordinary = make_pretty(ordinary).\n",
    "```\n",
    "ถ้าเราเลือกจะทำแบบนี้ Python มี Syntax ที่จะทำสิ่งนี้โดยเฉพาะนั่นคือเครื่องหมาย @ \n",
    "\n",
    "\n",
    "\n"
   ]
  },
  {
   "cell_type": "code",
   "execution_count": null,
   "id": "6c2fbc40",
   "metadata": {},
   "outputs": [],
   "source": [
    "ordinary = make_pretty(ordinary)\n",
    "ordinary()"
   ]
  },
  {
   "cell_type": "code",
   "execution_count": null,
   "id": "5a7e3dcf",
   "metadata": {},
   "outputs": [],
   "source": [
    "ordinary()"
   ]
  },
  {
   "cell_type": "code",
   "execution_count": null,
   "id": "137feb3b",
   "metadata": {},
   "outputs": [],
   "source": [
    "@make_pretty\n",
    "def ordinary():\n",
    "    print(\"I am ordinary\")"
   ]
  },
  {
   "cell_type": "code",
   "execution_count": null,
   "id": "f7222be0",
   "metadata": {},
   "outputs": [],
   "source": [
    "ordinary()"
   ]
  },
  {
   "cell_type": "markdown",
   "id": "f72e2d7c",
   "metadata": {},
   "source": [
    "is equivalent to "
   ]
  },
  {
   "cell_type": "code",
   "execution_count": null,
   "id": "3bea516c",
   "metadata": {},
   "outputs": [],
   "source": [
    "def ordinary():\n",
    "    print(\"I am ordinary\")\n",
    "ordinary = make_pretty(ordinary)"
   ]
  },
  {
   "cell_type": "code",
   "execution_count": null,
   "id": "510c3902",
   "metadata": {},
   "outputs": [],
   "source": [
    "ordinary()"
   ]
  },
  {
   "cell_type": "markdown",
   "id": "db4750e8",
   "metadata": {},
   "source": [
    "# Decorating Functions with Parameters"
   ]
  },
  {
   "cell_type": "code",
   "execution_count": null,
   "id": "3db69103",
   "metadata": {},
   "outputs": [],
   "source": [
    "def divide(a, b):\n",
    "    return a/b"
   ]
  },
  {
   "cell_type": "code",
   "execution_count": null,
   "id": "5f00fad9",
   "metadata": {},
   "outputs": [],
   "source": [
    "divide(2,5)"
   ]
  },
  {
   "cell_type": "code",
   "execution_count": null,
   "id": "246c24d4",
   "metadata": {},
   "outputs": [],
   "source": [
    "divide(2,0) #จงใจผิด division by zero"
   ]
  },
  {
   "cell_type": "code",
   "execution_count": null,
   "id": "48d1636b",
   "metadata": {},
   "outputs": [],
   "source": [
    "def smart_divide(func):\n",
    "    def inner(a, b):\n",
    "        print(\"I am going to divide\", a, \"and\", b)\n",
    "        if b == 0:\n",
    "            print(\"Whoops! cannot divide\")\n",
    "            return\n",
    "\n",
    "        return func(a, b)# Try to comment out this line\n",
    "    return inner\n",
    "\n",
    "\n",
    "@smart_divide\n",
    "def divide(a, b):\n",
    "    print(a/b)"
   ]
  },
  {
   "cell_type": "code",
   "execution_count": null,
   "id": "3f33dd71",
   "metadata": {},
   "outputs": [],
   "source": [
    "divide(2,5)"
   ]
  },
  {
   "cell_type": "code",
   "execution_count": null,
   "id": "ba683573",
   "metadata": {},
   "outputs": [],
   "source": [
    "divide(2,0)"
   ]
  },
  {
   "cell_type": "code",
   "execution_count": null,
   "id": "b433ba6a",
   "metadata": {},
   "outputs": [],
   "source": [
    "def divide2(a,b):\n",
    "    return a/b\n",
    "\n",
    "print(divide2.__name__)\n",
    "divide2 = smart_divide(divide2)\n",
    "print(type(divide2))\n",
    "print(divide2.__name__)"
   ]
  },
  {
   "cell_type": "code",
   "execution_count": null,
   "id": "90fb25d1",
   "metadata": {},
   "outputs": [],
   "source": [
    "print(divide2(2,5))\n",
    "print(divide2(2,0))"
   ]
  },
  {
   "cell_type": "markdown",
   "id": "c8f6781a",
   "metadata": {},
   "source": [
    "จากตัวอย่างด้านบน  มีจุดสังเกตุสองอย่าง  อย่างที่หนึ่งคือ inner function ควรreturn original function  \n",
    "อย่างที่สองคือ จำนวน arguments ของinner function ควรจะต้องมีเท่ากับ original function. ถ้าเราไม่รู้ว่าจำนวน original function จะเป็นเท่าไหร่  หรือเรารู้แน่ๆว่า original function หลายแบบจะถูกใช้ซึ่งมีปริมาณ arguments ไม่เ่ท่ากันจะทำอย่างไร\n",
    "\n",
    "เราใช้ฟังก์ชัน function(\\*args, \\*\\*kwargs).  \\*args หมายถึง all positional arguments, \\*\\*kwargs หมายถึง all keyword arguemnts"
   ]
  },
  {
   "cell_type": "code",
   "execution_count": null,
   "id": "bfe944d4",
   "metadata": {},
   "outputs": [],
   "source": [
    "def works_for_all(func):\n",
    "    def inner(*args, **kwargs):\n",
    "        print(\"I can decorate any function\")\n",
    "        return func(*args, **kwargs)\n",
    "    return inner"
   ]
  },
  {
   "cell_type": "code",
   "execution_count": null,
   "id": "4c346fb2",
   "metadata": {},
   "outputs": [],
   "source": [
    "def star(func):\n",
    "    def inner(*args, **kwargs):\n",
    "        print(\"*\" * 10)\n",
    "        func(*args, **kwargs)\n",
    "        print(\"*\" * 10)\n",
    "    return inner\n",
    "\n",
    "\n",
    "def percent(func):\n",
    "    def inner(*args, **kwargs):\n",
    "        print(\"%\" * 30)\n",
    "        func(*args, **kwargs)\n",
    "        print(\"%\" * 30)\n",
    "    return inner\n",
    "\n",
    "\n",
    "@star\n",
    "@percent\n",
    "def printer(msg):\n",
    "    print(msg)\n",
    "\n",
    "\n",
    "printer(\"AAAAA\")"
   ]
  },
  {
   "cell_type": "code",
   "execution_count": null,
   "id": "72ac03b7",
   "metadata": {},
   "outputs": [],
   "source": [
    "@star\n",
    "@percent\n",
    "def printer(msg):\n",
    "    print(msg)"
   ]
  },
  {
   "cell_type": "markdown",
   "id": "e314a553",
   "metadata": {},
   "source": [
    "is equivalent to"
   ]
  },
  {
   "cell_type": "code",
   "execution_count": null,
   "id": "64ef566d",
   "metadata": {},
   "outputs": [],
   "source": [
    "def printer(msg):\n",
    "    print(msg)\n",
    "printer = star(percent(printer))"
   ]
  },
  {
   "cell_type": "code",
   "execution_count": null,
   "id": "58a4639b",
   "metadata": {},
   "outputs": [],
   "source": [
    "printer(\"CAAAA\")"
   ]
  },
  {
   "cell_type": "markdown",
   "id": "db1ef40f",
   "metadata": {},
   "source": [
    "If reverse order"
   ]
  },
  {
   "cell_type": "code",
   "execution_count": null,
   "id": "c1ba5695",
   "metadata": {},
   "outputs": [],
   "source": [
    "@percent\n",
    "@star\n",
    "def printer(msg):\n",
    "    print(msg)\n",
    "    \n",
    "printer(\"Hello\")"
   ]
  },
  {
   "cell_type": "code",
   "execution_count": null,
   "id": "ece8bb6a",
   "metadata": {},
   "outputs": [],
   "source": [
    "# decorators/time.measure.deco1.py\n",
    "from time import sleep, time\n",
    "def f(sleep_time=0.1):\n",
    "    sleep(sleep_time)\n",
    "def measure(func):\n",
    "    def wrapper(*args, **kwargs):\n",
    "        t = time()\n",
    "        func(*args, **kwargs)\n",
    "        took = time() - t\n",
    "        print(func.__name__, 'took:', took)\n",
    "        return took\n",
    "    return wrapper\n",
    "\n",
    "\n",
    "f = measure(f)  # decoration point\n",
    "\n",
    "\n",
    "f(0.2)  # f took: 0.20372915267944336\n",
    "f(sleep_time=0.3)  # f took: 0.30455899238586426\n",
    "print(f.__name__)  # wrapper <- ouch!\n"
   ]
  },
  {
   "cell_type": "code",
   "execution_count": null,
   "id": "86cc2ec7",
   "metadata": {},
   "outputs": [],
   "source": [
    "# decorators/time.measure.deco1.py\n",
    "from time import sleep, time\n",
    "\n",
    "def measure(func):\n",
    "    def wrapper(*args, **kwargs):\n",
    "        t = time()\n",
    "        func(*args, **kwargs)\n",
    "        took = time() - t\n",
    "        print(func.__name__, 'took:', took)\n",
    "        return took\n",
    "    return wrapper\n",
    "\n",
    "@measure\n",
    "def f(a,b,c,sleep_time=0.1): #Add number of params\n",
    "    sleep(sleep_time)\n",
    "\n",
    "\n",
    "k=f(9,99,999,0.2)  # f took: 0.20372915267944336\n",
    "print('k',k)\n",
    "f(9,99,999,sleep_time=0.3)  # f took: 0.30455899238586426\n",
    "print(f.__name__)  # wrapper <- ouch!"
   ]
  },
  {
   "cell_type": "markdown",
   "id": "cadb6a57",
   "metadata": {},
   "source": [
    "เราไม่ต้องการเสียชื่อเดิมและdocstringของฟังก์ชันไป  เราสามารถใช้decoratorของfunctools moduleที่ชื่อ@wraps    "
   ]
  },
  {
   "cell_type": "code",
   "execution_count": null,
   "id": "0cf10bd1",
   "metadata": {},
   "outputs": [],
   "source": [
    "# decorators/time.measure.deco2.py\n",
    "from time import sleep, time\n",
    "from functools import wraps\n",
    "def measure(func):\n",
    "    @wraps(func)\n",
    "    def srapper(*args, **kwargs):\n",
    "        t = time()\n",
    "        func(*args, **kwargs)\n",
    "        took = time() - t\n",
    "        print(func.__name__, 'took:', took)\n",
    "        return took\n",
    "        \n",
    "    return srapper\n",
    "@measure\n",
    "def f(sleep_time=0.1):\n",
    "    \"\"\"I'm a cat. I love to sleep! \"\"\"\n",
    "    sleep(sleep_time)\n",
    "kk=f(sleep_time=0.3)  # f took: 0.3010902404785156\n",
    "print(f.__name__, ':', f.__doc__)  # f : I'm a cat. I love to sleep!\n",
    "print(kk)\n"
   ]
  },
  {
   "cell_type": "markdown",
   "id": "28d52961",
   "metadata": {},
   "source": [
    "# The property decorator\n",
    "# Class Without Getters and Setters\n",
    "Let us assume that we decide to make a class that stores the temperature in degrees Celsius. It would also implement a method to convert the temperature into degrees Fahrenheit. One way of doing this is as follows"
   ]
  },
  {
   "cell_type": "code",
   "execution_count": null,
   "id": "004caaf8",
   "metadata": {},
   "outputs": [],
   "source": [
    "class Celsius:\n",
    "    def __init__(self, temperature = 0):\n",
    "        self.temperature = temperature\n",
    "\n",
    "    def to_fahrenheit(self):\n",
    "        return (self.temperature * 1.8) + 32\n"
   ]
  },
  {
   "cell_type": "code",
   "execution_count": null,
   "id": "19a4753b",
   "metadata": {},
   "outputs": [],
   "source": [
    "# Basic method of setting and getting attributes in Python\n",
    "class Celsius:\n",
    "    def __init__(self, temperature=0):\n",
    "        self.temperature = temperature\n",
    "\n",
    "    def to_fahrenheit(self):\n",
    "        return (self.temperature * 1.8) + 32\n",
    "\n",
    "\n",
    "# Create a new object\n",
    "human = Celsius()\n",
    "\n",
    "# Set the temperature\n",
    "human.temperature = 37\n",
    "\n",
    "# Get the temperature attribute\n",
    "print(human.temperature)\n",
    "\n",
    "# Get the to_fahrenheit method\n",
    "print(human.to_fahrenheit())"
   ]
  },
  {
   "cell_type": "code",
   "execution_count": null,
   "id": "8676b9dc",
   "metadata": {},
   "outputs": [],
   "source": [
    "human.__dict__"
   ]
  },
  {
   "cell_type": "markdown",
   "id": "c93e8847",
   "metadata": {},
   "source": [
    "# Using Getters and Setters\n",
    "สมมุติว่าเราต้องการจะใช้class Celsius. อุณหภูมิไม่สามารถมีค่าต่ำกว่า -273.15 degrees Celsius ได้\n",
    "\n",
    "เราจะใส่เงื่อนไขนี้ลงไปในโค้ด\n",
    "\n",
    "วิธีตรงๆก็คือ"
   ]
  },
  {
   "cell_type": "code",
   "execution_count": null,
   "id": "fbe527e1",
   "metadata": {},
   "outputs": [],
   "source": [
    "# Making Getters and Setter methods\n",
    "class Celsius:\n",
    "    def __init__(self, temperature=0):\n",
    "        self.set_temperature(temperature)\n",
    "\n",
    "    def to_fahrenheit(self):\n",
    "        return (self.get_temperature() * 1.8) + 32\n",
    "\n",
    "    # getter method\n",
    "    def get_temperature(self):\n",
    "        return self._temperature\n",
    "\n",
    "    # setter method\n",
    "    def set_temperature(self, value):\n",
    "        if value < -273.15:\n",
    "            raise ValueError(\"Temperature below -273.15 is not possible.\")\n",
    "        self._temperature = value"
   ]
  },
  {
   "cell_type": "code",
   "execution_count": null,
   "id": "ffb2a95c",
   "metadata": {},
   "outputs": [],
   "source": [
    "# Making Getters and Setter methods\n",
    "class Celsius:\n",
    "    def __init__(self, temperature=0):\n",
    "        self.set_temperature(temperature)\n",
    "\n",
    "    def to_fahrenheit(self):\n",
    "        return (self.get_temperature() * 1.8) + 32\n",
    "\n",
    "    # getter method\n",
    "    def get_temperature(self):\n",
    "        return self._temperature\n",
    "\n",
    "    # setter method\n",
    "    def set_temperature(self, value):\n",
    "        if value < -273.15:\n",
    "            raise ValueError(\"Temperature below -273.15 is not possible.\")\n",
    "        self._temperature = value\n",
    "\n",
    "\n",
    "# Create a new object, set_temperature() internally called by __init__\n",
    "human = Celsius(37)\n",
    "\n",
    "# Get the temperature attribute via a getter\n",
    "print(human.get_temperature())#37\n",
    "\n",
    "# Get the to_fahrenheit method, get_temperature() called by the method itself\n",
    "print(human.to_fahrenheit())#98.6\n",
    "\n",
    "# new constraint implementation\n",
    "human.set_temperature(-300)#จงใจError\n",
    "\n",
    "# Get the to_fahreheit method\n",
    "print(human.to_fahrenheit())"
   ]
  },
  {
   "cell_type": "markdown",
   "id": "d468a1b7",
   "metadata": {},
   "source": [
    "เราทำสำเร็จตามต้องการ  เราไม่สามารถตั้งค่าอุณหภูมิต่ำกว่า -273.15 degrees Celsius."
   ]
  },
  {
   "cell_type": "markdown",
   "id": "574e12ea",
   "metadata": {},
   "source": [
    " ตอนนี้เรามี  obj.get_temperature() แต่เดิมเรามีแค่ obj.temperature นั่่นหมายความว่าโค้ดต่างๆที่เรียกใช้คลาสนี้ต้องเปลี่ยนโค้ดตามทั้งหมด. กรณีเดียวกันก็ต้องกล่าวสำหรับ obj.set_temperature()\n",
    " \n",
    "แล้วถ้าโค้ดที่เรียกคลาสนี้มี100,000บรรทัดหรือมากกว่าล่ะ?\n",
    "\n",
    "วิธีแก้คือใช้Decorator: @property \n",
    "\n"
   ]
  },
  {
   "cell_type": "markdown",
   "id": "a35c7428",
   "metadata": {},
   "source": [
    "The property Class\n",
    "วิธีทำ ดูบรรทัดสุดท้ายของโค้ดด้านล่าง"
   ]
  },
  {
   "cell_type": "code",
   "execution_count": null,
   "id": "44ad14b6",
   "metadata": {},
   "outputs": [],
   "source": [
    "# using property class\n",
    "class Celsius:\n",
    "    def __init__(self, temperature=0):\n",
    "        self.temperature = temperature\n",
    "\n",
    "    def to_fahrenheit(self):\n",
    "        return (self.temperature * 1.8) + 32\n",
    "\n",
    "    # getter\n",
    "    def get_temperature(self):\n",
    "        print(\"Getting value...\")\n",
    "        return self._temperature\n",
    "\n",
    "    # setter\n",
    "    def set_temperature(self, value):\n",
    "        print(\"Setting value...\")\n",
    "        if value < -273.15:\n",
    "            raise ValueError(\"Temperature below -273.15 is not possible\")\n",
    "        self._temperature = value\n",
    "\n",
    "    # creating a property object ในคลาส\n",
    "    temperature = property(get_temperature, set_temperature)"
   ]
  },
  {
   "cell_type": "markdown",
   "id": "e20e4ce4",
   "metadata": {},
   "source": [
    "เราใส่print() เพื่อตรวจสอบการเข้าถึงฟังก์ชั่น get_temperature() and set_temperature() เพื่อเห็นชัดๆว่าฟังก์ชันเหล่านี้ถูกเรียก\n",
    "บรรทัดสุดท้ายคือการสร้างobject propertyชื่อ temperature. คิดราวกับแปะpropertyของฟังก์ชัน get_temperature and set_temperature ลง member attribute ที่ชือ temperature"
   ]
  },
  {
   "cell_type": "code",
   "execution_count": null,
   "id": "8f215823",
   "metadata": {},
   "outputs": [],
   "source": [
    "# using property class\n",
    "class Celsius:\n",
    "    def __init__(self, temperature=0):\n",
    "        self.temperature = temperature\n",
    "\n",
    "    def to_fahrenheit(self):\n",
    "        return (self.temperature * 1.8) + 32\n",
    "\n",
    "    # getter\n",
    "    def get_temperature(self):\n",
    "        print(\"Getting value...\")\n",
    "        return self._temperature\n",
    "\n",
    "    # setter\n",
    "    def set_temperature(self, value):\n",
    "        print(\"Setting value...\")\n",
    "        if value < -273.15:\n",
    "            raise ValueError(\"Temperature below -273.15 is not possible\")\n",
    "        self._temperature = value\n",
    "\n",
    "    # creating a property object\n",
    "    temperature = property(get_temperature, set_temperature)\n",
    "\n",
    "\n",
    "human = Celsius(37)\n",
    "\n",
    "print(human.temperature)\n",
    "\n",
    "print(human.to_fahrenheit())\n",
    "\n",
    "human.temperature = -300"
   ]
  },
  {
   "cell_type": "markdown",
   "id": "ba2fd1ba",
   "metadata": {},
   "source": [
    "As we can see, any code that retrieves the value of temperature will automatically call get_temperature() instead of a dictionary (__dict__) look-up. Similarly, any code that assigns a value to temperature will automatically call set_temperature().\n",
    "\n",
    "We can even see above that set_temperature() was called even when we created an object.\n",
    "\n"
   ]
  },
  {
   "cell_type": "code",
   "execution_count": null,
   "id": "23567805",
   "metadata": {},
   "outputs": [],
   "source": [
    "human = Celsius(37)"
   ]
  },
  {
   "cell_type": "code",
   "execution_count": null,
   "id": "d4f149d3",
   "metadata": {},
   "outputs": [],
   "source": [
    "# using property class\n",
    "class Celsius:\n",
    "    def __init__(self, temperature=0):\n",
    "        self.temperature = temperature\n",
    "\n",
    "    def to_fahrenheit(self):\n",
    "        return (self.temperature * 1.8) + 32\n",
    "\n",
    "    # getter\n",
    "    def get_temperature(self):\n",
    "        print(\"Getting value...\")\n",
    "        return self._tttemperature\n",
    "\n",
    "    # setter\n",
    "    def set_temperature(self, value):\n",
    "        print(\"Setting value...\")\n",
    "        if value < -273.15:\n",
    "            raise ValueError(\"Temperature below -273.15 is not possible\")\n",
    "        self._tttemperature = value\n",
    "\n",
    "    # creating a property object\n",
    "    temperature = property(get_temperature, set_temperature)\n",
    "\n",
    "\n",
    "human = Celsius(37)\n",
    "\n",
    "print(human.temperature)\n",
    "\n",
    "print(human.to_fahrenheit())\n",
    "\n",
    "human.temperature = -300"
   ]
  },
  {
   "cell_type": "markdown",
   "id": "573ba690",
   "metadata": {},
   "source": [
    "คือเรามี self._tttemperature  ไว้เก็บข้อมูลจริงๆ  ซึ่งข้อมูลนี้จะถูกเรียกผ่าน get_temperature(),set_temperature() ซึ่งสองฟังก์ชันนี้ถูกเรียกผ่านproperty object temperature"
   ]
  },
  {
   "cell_type": "code",
   "execution_count": null,
   "id": "fd2efa0d",
   "metadata": {},
   "outputs": [],
   "source": [
    "human.temperature"
   ]
  },
  {
   "cell_type": "code",
   "execution_count": null,
   "id": "ed6813d0",
   "metadata": {},
   "outputs": [],
   "source": [
    "human.temperature = 37"
   ]
  },
  {
   "cell_type": "code",
   "execution_count": null,
   "id": "f443f0ed",
   "metadata": {},
   "outputs": [],
   "source": [
    "human.to_fahrenheit()"
   ]
  },
  {
   "cell_type": "markdown",
   "id": "83950fb1",
   "metadata": {},
   "source": [
    "By using property, we can see that no modification is required in the implementation of the value constraint. Thus, our implementation is backward compatible.\n",
    "โดยการใช้ Property เราเห็นได้ว่าไม่มีความจำเป็นต้องแก้ไขโค้ดที่เรียกคลาสนี้  ดังนั้นจึงกล่าวว่าการแก้โค้ดClass Celsius ของเรามัน Backward Compatible (ใช้ได้ย้อนหลัง)"
   ]
  },
  {
   "cell_type": "markdown",
   "id": "37af358f",
   "metadata": {},
   "source": [
    "The @property Decorator\n",
    "In Python, property() is a built-in function that creates and returns a property object. The syntax of this function is:\n"
   ]
  },
  {
   "cell_type": "code",
   "execution_count": null,
   "id": "198cd7bd",
   "metadata": {},
   "outputs": [],
   "source": [
    "property(fget=None, fset=None, fdel=None, doc=None)"
   ]
  },
  {
   "cell_type": "markdown",
   "id": "d5919e3d",
   "metadata": {},
   "source": [
    "where,\n",
    "\n",
    "- fget is function to get value of the attribute\n",
    "- fset is function to set value of the attribute\n",
    "- fdel is function to delete the attribute\n",
    "- doc is a string (like a comment)\n",
    "\n",
    "As seen from the implementation, these function arguments are optional. So, a property object can simply be created as follows."
   ]
  },
  {
   "cell_type": "markdown",
   "id": "b4748f5c",
   "metadata": {},
   "source": [
    "``` Python\n",
    "temperature = property(get_temperature,set_temperature)\n",
    "```"
   ]
  },
  {
   "cell_type": "code",
   "execution_count": null,
   "id": "53348eb9",
   "metadata": {},
   "outputs": [],
   "source": [
    "# make empty property\n",
    "temperature = property()"
   ]
  },
  {
   "cell_type": "markdown",
   "id": "e4eb5852",
   "metadata": {},
   "source": [
    "# assign fget\n",
    "```Python\n",
    "temperature = temperature.getter(get_temperature)\n",
    "```"
   ]
  },
  {
   "cell_type": "markdown",
   "id": "74a659d3",
   "metadata": {},
   "source": [
    "# assign fset\n",
    "``` Python\n",
    "temperature = temperature.setter(set_temperature)\n",
    "```"
   ]
  },
  {
   "cell_type": "markdown",
   "id": "26b47ea2",
   "metadata": {},
   "source": [
    "แต่การเรียกด้านบนมันคือการเรียก decorator"
   ]
  },
  {
   "cell_type": "markdown",
   "id": "00c4b2c3",
   "metadata": {},
   "source": [
    "เรานิยามโดยใช้ @property ดังนี้"
   ]
  },
  {
   "cell_type": "code",
   "execution_count": null,
   "id": "a244aec6",
   "metadata": {},
   "outputs": [],
   "source": [
    "# Using @property decorator\n",
    "class Celsius:\n",
    "    def __init__(self, temperature=0):\n",
    "        self.temperature = temperature\n",
    "\n",
    "    def to_fahrenheit(self):\n",
    "        return (self.temperature * 1.8) + 32\n",
    "\n",
    "    @property\n",
    "    def temperature(self):\n",
    "        print(\"Getting value...\")\n",
    "        return self._tttemperature\n",
    "\n",
    "    @temperature.setter\n",
    "    def temperature(self, value):\n",
    "        print(\"Setting value...\")\n",
    "        if value < -273.15:\n",
    "            raise ValueError(\"Temperature below -273 is not possible\")\n",
    "        self._tttemperature = value\n",
    "\n",
    "\n",
    "# create an object\n",
    "human = Celsius(37)\n",
    "\n",
    "print(human.temperature)\n",
    "\n",
    "print(human.to_fahrenheit())\n",
    "\n",
    "coldest_thing = Celsius(-300)"
   ]
  },
  {
   "cell_type": "markdown",
   "id": "9f316653",
   "metadata": {},
   "source": [
    "# Example Polymorphism and Composition"
   ]
  },
  {
   "cell_type": "code",
   "execution_count": null,
   "id": "78cabff3",
   "metadata": {},
   "outputs": [],
   "source": [
    "\n",
    "        \n",
    "class Item:\n",
    "    def __init__(self,hitPower):\n",
    "        self.hitPower =hitPower\n",
    "    \n",
    "class GamePeice:\n",
    "   \n",
    "    def fight(self):\n",
    "        print(\"fight with {} Hit Power is {} \".format(self.item.__class__.__name__,self.item.hitPower))\n",
    "\n",
    "class Sword(Item):\n",
    "    def __init__(self,hitPower,length):\n",
    "        super().__init__(hitPower)\n",
    "        self.length = length\n",
    "        \n",
    "class Fist(Item):\n",
    "    pass\n",
    "   \n",
    "    \n",
    "class Human(GamePeice):\n",
    "    \n",
    "    def __init__(self,height):\n",
    "        self.height = height\n",
    "        self.item = Fist(3.0)\n",
    "\n",
    "\n",
    "\n",
    "class Swordman(Human):\n",
    "    \n",
    "    def __init__(self,height,swardHitPower,length):        \n",
    "        super().__init__(height)\n",
    "        self.item = Sword(swardHitPower,length)\n",
    "        \n",
    "        \n",
    "aMan = Human(180)\n",
    "aMan.fight()\n",
    "\n",
    "aSwordMan = Swordman(170,213,1.0)\n",
    "aSwordMan.fight()"
   ]
  },
  {
   "cell_type": "code",
   "execution_count": null,
   "id": "89db69c1",
   "metadata": {},
   "outputs": [],
   "source": []
  }
 ],
 "metadata": {
  "kernelspec": {
   "display_name": "Python 3",
   "language": "python",
   "name": "python3"
  },
  "language_info": {
   "codemirror_mode": {
    "name": "ipython",
    "version": 3
   },
   "file_extension": ".py",
   "mimetype": "text/x-python",
   "name": "python",
   "nbconvert_exporter": "python",
   "pygments_lexer": "ipython3",
   "version": "3.10.8 (main, Oct 21 2022, 22:22:30) [Clang 14.0.0 (clang-1400.0.29.202)]"
  },
  "vscode": {
   "interpreter": {
    "hash": "b0fa6594d8f4cbf19f97940f81e996739fb7646882a419484c72d19e05852a7e"
   }
  }
 },
 "nbformat": 4,
 "nbformat_minor": 5
}
