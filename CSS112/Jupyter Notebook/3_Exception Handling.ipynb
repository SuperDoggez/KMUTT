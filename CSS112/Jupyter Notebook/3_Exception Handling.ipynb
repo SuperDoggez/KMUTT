{
 "cells": [
  {
   "cell_type": "markdown",
   "id": "d1813691",
   "metadata": {},
   "source": [
    "# Exception handling\n",
    "https://www.programiz.com/python-programming/exception-handling"
   ]
  },
  {
   "cell_type": "code",
   "execution_count": 1,
   "id": "e83448ec",
   "metadata": {},
   "outputs": [
    {
     "ename": "ZeroDivisionError",
     "evalue": "division by zero",
     "output_type": "error",
     "traceback": [
      "\u001b[0;31m---------------------------------------------------------------------------\u001b[0m",
      "\u001b[0;31mZeroDivisionError\u001b[0m                         Traceback (most recent call last)",
      "Input \u001b[0;32mIn [1]\u001b[0m, in \u001b[0;36m<cell line: 1>\u001b[0;34m()\u001b[0m\n\u001b[0;32m----> 1\u001b[0m a\u001b[38;5;241m=\u001b[39m\u001b[38;5;241;43m3\u001b[39;49m\u001b[38;5;241;43m/\u001b[39;49m\u001b[38;5;241;43m0\u001b[39;49m\n",
      "\u001b[0;31mZeroDivisionError\u001b[0m: division by zero"
     ]
    }
   ],
   "source": [
    "a=3/0"
   ]
  },
  {
   "cell_type": "code",
   "execution_count": 4,
   "id": "087d674c",
   "metadata": {},
   "outputs": [
    {
     "name": "stdout",
     "output_type": "stream",
     "text": [
      "error\n",
      "end\n"
     ]
    }
   ],
   "source": [
    "try:\n",
    "    a=3/0\n",
    "except:\n",
    "    print(\"error\")\n",
    "\n",
    "print(\"end\")"
   ]
  },
  {
   "cell_type": "code",
   "execution_count": 6,
   "id": "9e5479d4",
   "metadata": {},
   "outputs": [
    {
     "name": "stdout",
     "output_type": "stream",
     "text": [
      "The entry is a\n",
      "Oops! <class 'ValueError'> occurred.\n",
      "Next entry.\n",
      "\n",
      "The entry is 0\n",
      "Oops! <class 'ZeroDivisionError'> occurred.\n",
      "Next entry.\n",
      "\n",
      "The entry is 2\n",
      "The reciprocal of 2 is 0.5\n"
     ]
    }
   ],
   "source": [
    "# import module sys to get the type of exception\n",
    "import sys\n",
    "\n",
    "randomList = ['a', 0, 2]\n",
    "\n",
    "for entry in randomList:\n",
    "    try:\n",
    "        print(\"The entry is\", entry)\n",
    "        r = 1/int(entry)\n",
    "    except:\n",
    "        print(\"Oops!\", sys.exc_info()[0], \"occurred.\")\n",
    "        print(\"Next entry.\")\n",
    "        print()\n",
    "print(\"The reciprocal of\", entry, \"is\", r)"
   ]
  },
  {
   "cell_type": "code",
   "execution_count": 7,
   "id": "4ff8b78b",
   "metadata": {},
   "outputs": [
    {
     "name": "stdout",
     "output_type": "stream",
     "text": [
      "The entry is a\n",
      "Oops! invalid literal for int() with base 10: 'a' occurred.\n",
      "Next entry.\n",
      "The entry is 0\n",
      "Oops! division by zero occurred.\n",
      "Next entry.\n",
      "The entry is 2\n",
      "The reciprocal of 2 is 0.5\n"
     ]
    }
   ],
   "source": [
    "# import module sys to get the type of exception\n",
    "\n",
    "\n",
    "randomList = ['a', 0, 2]\n",
    "\n",
    "for entry in randomList:\n",
    "    try:\n",
    "        print(\"The entry is\", entry)\n",
    "        r = 1/int(entry)\n",
    "        break\n",
    "    except Exception as e:\n",
    "        print(\"Oops!\", str(e), \"occurred.\")\n",
    "        print(\"Next entry.\")\n",
    "\n",
    "        \n",
    "print(\"The reciprocal of\", entry, \"is\", r)\n",
    "\n"
   ]
  },
  {
   "cell_type": "markdown",
   "id": "89a72619",
   "metadata": {},
   "source": [
    "# Raising exception"
   ]
  },
  {
   "cell_type": "code",
   "execution_count": 8,
   "id": "0d682a6a",
   "metadata": {},
   "outputs": [
    {
     "ename": "KeyboardInterrupt",
     "evalue": "",
     "output_type": "error",
     "traceback": [
      "\u001b[0;31m---------------------------------------------------------------------------\u001b[0m",
      "\u001b[0;31mKeyboardInterrupt\u001b[0m                         Traceback (most recent call last)",
      "Input \u001b[0;32mIn [8]\u001b[0m, in \u001b[0;36m<cell line: 1>\u001b[0;34m()\u001b[0m\n\u001b[0;32m----> 1\u001b[0m \u001b[38;5;28;01mraise\u001b[39;00m \u001b[38;5;167;01mKeyboardInterrupt\u001b[39;00m\n",
      "\u001b[0;31mKeyboardInterrupt\u001b[0m: "
     ]
    }
   ],
   "source": [
    "raise KeyboardInterrupt"
   ]
  },
  {
   "cell_type": "code",
   "execution_count": 9,
   "id": "5aefe35b",
   "metadata": {},
   "outputs": [
    {
     "ename": "MemoryError",
     "evalue": "This is an argument",
     "output_type": "error",
     "traceback": [
      "\u001b[0;31m---------------------------------------------------------------------------\u001b[0m",
      "\u001b[0;31mMemoryError\u001b[0m                               Traceback (most recent call last)",
      "Input \u001b[0;32mIn [9]\u001b[0m, in \u001b[0;36m<cell line: 1>\u001b[0;34m()\u001b[0m\n\u001b[0;32m----> 1\u001b[0m \u001b[38;5;28;01mraise\u001b[39;00m \u001b[38;5;167;01mMemoryError\u001b[39;00m(\u001b[38;5;124m\"\u001b[39m\u001b[38;5;124mThis is an argument\u001b[39m\u001b[38;5;124m\"\u001b[39m)\n",
      "\u001b[0;31mMemoryError\u001b[0m: This is an argument"
     ]
    }
   ],
   "source": [
    "raise MemoryError(\"This is an argument\")"
   ]
  },
  {
   "cell_type": "code",
   "execution_count": 11,
   "id": "a6aab946",
   "metadata": {},
   "outputs": [
    {
     "name": "stdout",
     "output_type": "stream",
     "text": [
      "Enter a positive integer: 1\n"
     ]
    }
   ],
   "source": [
    "try:\n",
    "    a = int(input(\"Enter a positive integer: \"))\n",
    "    if a <= 0:\n",
    "        raise ValueError(\"That is not a positive number!\")\n",
    "except ValueError as ve:\n",
    "    print(ve)\n",
    "   "
   ]
  },
  {
   "cell_type": "markdown",
   "id": "e988dad8",
   "metadata": {},
   "source": [
    "# assert Boolean_statement\n",
    "if Boolean_statement returns False, exception will occur"
   ]
  },
  {
   "cell_type": "code",
   "execution_count": 12,
   "id": "11a2a73a",
   "metadata": {},
   "outputs": [
    {
     "ename": "AssertionError",
     "evalue": "number greater than 0 expected, got: -42",
     "output_type": "error",
     "traceback": [
      "\u001b[0;31m---------------------------------------------------------------------------\u001b[0m",
      "\u001b[0;31mAssertionError\u001b[0m                            Traceback (most recent call last)",
      "Input \u001b[0;32mIn [12]\u001b[0m, in \u001b[0;36m<cell line: 2>\u001b[0;34m()\u001b[0m\n\u001b[1;32m      1\u001b[0m number \u001b[38;5;241m=\u001b[39m \u001b[38;5;241m-\u001b[39m\u001b[38;5;241m42\u001b[39m\n\u001b[0;32m----> 2\u001b[0m \u001b[38;5;28;01massert\u001b[39;00m number \u001b[38;5;241m>\u001b[39m \u001b[38;5;241m0\u001b[39m, \u001b[38;5;124mf\u001b[39m\u001b[38;5;124m\"\u001b[39m\u001b[38;5;124mnumber greater than 0 expected, got: \u001b[39m\u001b[38;5;132;01m{\u001b[39;00mnumber\u001b[38;5;132;01m}\u001b[39;00m\u001b[38;5;124m\"\u001b[39m\n",
      "\u001b[0;31mAssertionError\u001b[0m: number greater than 0 expected, got: -42"
     ]
    }
   ],
   "source": [
    "number = -42\n",
    "assert number > 0, f\"number greater than 0 expected, got: {number}\""
   ]
  },
  {
   "cell_type": "markdown",
   "id": "d0f17385",
   "metadata": {},
   "source": [
    "# Disable Python assertion"
   ]
  },
  {
   "cell_type": "code",
   "execution_count": 13,
   "id": "b6b14cbb",
   "metadata": {},
   "outputs": [
    {
     "ename": "AssertionError",
     "evalue": "number greater than 0 expected, got: -42",
     "output_type": "error",
     "traceback": [
      "\u001b[0;31m---------------------------------------------------------------------------\u001b[0m",
      "\u001b[0;31mAssertionError\u001b[0m                            Traceback (most recent call last)",
      "Input \u001b[0;32mIn [13]\u001b[0m, in \u001b[0;36m<cell line: 4>\u001b[0;34m()\u001b[0m\n\u001b[1;32m      1\u001b[0m \u001b[38;5;66;03m# Invoke python -O (captial O and try this again)\u001b[39;00m\n\u001b[1;32m      3\u001b[0m number \u001b[38;5;241m=\u001b[39m \u001b[38;5;241m-\u001b[39m\u001b[38;5;241m42\u001b[39m\n\u001b[0;32m----> 4\u001b[0m \u001b[38;5;28;01massert\u001b[39;00m number \u001b[38;5;241m>\u001b[39m \u001b[38;5;241m0\u001b[39m, \u001b[38;5;124mf\u001b[39m\u001b[38;5;124m\"\u001b[39m\u001b[38;5;124mnumber greater than 0 expected, got: \u001b[39m\u001b[38;5;132;01m{\u001b[39;00mnumber\u001b[38;5;132;01m}\u001b[39;00m\u001b[38;5;124m\"\u001b[39m\n",
      "\u001b[0;31mAssertionError\u001b[0m: number greater than 0 expected, got: -42"
     ]
    }
   ],
   "source": [
    "# Invoke python -O (captial O and try this again)\n",
    "\n",
    "number = -42\n",
    "assert number > 0, f\"number greater than 0 expected, got: {number}\""
   ]
  },
  {
   "cell_type": "markdown",
   "id": "acaaffc6",
   "metadata": {},
   "source": [
    "# Structure of try.. Except\n",
    "```python\n",
    "try:\n",
    "   # do something\n",
    "   pass\n",
    "\n",
    "except ValueError:\n",
    "   # handle ValueError exception\n",
    "   pass\n",
    "\n",
    "except (TypeError, ZeroDivisionError):\n",
    "   # handle multiple exceptions\n",
    "   # TypeError and ZeroDivisionError\n",
    "   pass\n",
    "\n",
    "except:\n",
    "   # handle all other exceptions\n",
    "   pass\n",
    "```"
   ]
  },
  {
   "cell_type": "code",
   "execution_count": 17,
   "id": "f1034b06",
   "metadata": {},
   "outputs": [
    {
     "name": "stdout",
     "output_type": "stream",
     "text": [
      "Enter a number: aa\n",
      "Not an even number! Zero not allowed. invalid literal for int() with base 10: 'aa'\n"
     ]
    }
   ],
   "source": [
    "# program to print the reciprocal of even numbers\n",
    "# Test with 4,5,0,k\n",
    "try:\n",
    "    num = int(input(\"Enter a number: \"))\n",
    "    assert num % 2 == 0 and num != 0\n",
    "except ValueError as ve:\n",
    "    print(\"Not an even number! Zero not allowed. \"+str(ve))\n",
    "except AssertionError:\n",
    "    print(\"Assertion error\")\n",
    "else:\n",
    "    reciprocal = 1/num\n",
    "    print(reciprocal)"
   ]
  },
  {
   "cell_type": "markdown",
   "id": "1e8696c4",
   "metadata": {},
   "source": [
    "# Try finally"
   ]
  },
  {
   "cell_type": "markdown",
   "id": "083ad8df",
   "metadata": {},
   "source": [
    "The try statement in Python can have an optional finally clause. This clause is executed no matter what, and is generally used to release external resources.\n",
    "\n",
    "For example, we may be connected to a remote data center through the network or working with a file or a Graphical User Interface (GUI).\n",
    "\n",
    "In all these circumstances, we must clean up the resource before the program comes to a halt whether it successfully ran or not. These actions (closing a file, GUI or disconnecting from network) are performed in the finally clause to guarantee the execution."
   ]
  },
  {
   "cell_type": "code",
   "execution_count": 18,
   "id": "5d15ad55",
   "metadata": {},
   "outputs": [
    {
     "name": "stdout",
     "output_type": "stream",
     "text": [
      "Enter a number: 0\n",
      "Not an even number! Zero not allowed\n",
      "all exceptions handled\n",
      "end\n"
     ]
    }
   ],
   "source": [
    "# program to print the reciprocal of even numbers\n",
    "# Test with 4,5,0\n",
    "try:\n",
    "    num = int(input(\"Enter a number: \"))\n",
    "    assert num % 2 == 0 and num != 0\n",
    "except:\n",
    "     print(\"Not an even number! Zero not allowed\")\n",
    "else:\n",
    "    reciprocal = 1/num\n",
    "    print(reciprocal)\n",
    "finally:\n",
    "    print(\"all exceptions handled\")\n",
    "print(\"end\")"
   ]
  },
  {
   "cell_type": "code",
   "execution_count": 19,
   "id": "cbcd55e9",
   "metadata": {},
   "outputs": [
    {
     "name": "stdout",
     "output_type": "stream",
     "text": [
      "not writable\n",
      "Going to close the file\n"
     ]
    }
   ],
   "source": [
    "# Test by change w mode to r, or a mode\n",
    "try:\n",
    "    fh = open(\"testfile\", \"r\") #r:if error: No such file or directory: 'testfile'\n",
    "    try:\n",
    "        fh.write(\"This is my test file for exception handling!!\\n\")\n",
    "    except Exception as ef:\n",
    "        print(str(ef))# not writable\n",
    "    finally:\n",
    "        print(\"Going to close the file\")\n",
    "        fh.close()\n",
    "except IOError as e:\n",
    "    print(str(e))"
   ]
  },
  {
   "cell_type": "markdown",
   "id": "8cf645ef",
   "metadata": {},
   "source": [
    "# Catching many type of exceptions"
   ]
  },
  {
   "cell_type": "markdown",
   "id": "d35f770f",
   "metadata": {},
   "source": [
    "- Catch each type of exception separately"
   ]
  },
  {
   "cell_type": "code",
   "execution_count": 20,
   "id": "0a7fc359",
   "metadata": {},
   "outputs": [
    {
     "name": "stdout",
     "output_type": "stream",
     "text": [
      "Enter a number: 11\n",
      "Not an even number!\n"
     ]
    }
   ],
   "source": [
    "# program to print the reciprocal of even numbers\n",
    "# Test with 4,5,0,a\n",
    "try:\n",
    "    num = int(input(\"Enter a number: \"))\n",
    "    if num % 2 != 0:\n",
    "        raise ValueError(\"Not an even number!\")\n",
    "    reciprocal = 1/num\n",
    "except ValueError as ve:\n",
    "    print(str(ve))\n",
    "except ZeroDivisionError as ze:\n",
    "    print(\"Error \"+str(ze),ze.__class__)\n",
    "else:    \n",
    "    print(reciprocal)"
   ]
  },
  {
   "cell_type": "markdown",
   "id": "9deb15da",
   "metadata": {},
   "source": [
    "- Catch many type of exceptions together"
   ]
  },
  {
   "cell_type": "code",
   "execution_count": 21,
   "id": "f6b19f0e",
   "metadata": {},
   "outputs": [
    {
     "name": "stdout",
     "output_type": "stream",
     "text": [
      "Enter a number: w2\n",
      "Error invalid literal for int() with base 10: 'w2' <class 'ValueError'>\n"
     ]
    }
   ],
   "source": [
    "# program to print the reciprocal of even numbers\n",
    "# Test with 4,5,0,a\n",
    "try:\n",
    "    num = int(input(\"Enter a number: \"))\n",
    "    if num % 2 != 0:\n",
    "        raise ValueError(\"Not an even number!\")\n",
    "    reciprocal = 1/num\n",
    "except (ValueError , ZeroDivisionError) as e:\n",
    "    print(\"Error \"+str(e),e.__class__)\n",
    "else:    \n",
    "    print(reciprocal)"
   ]
  },
  {
   "cell_type": "markdown",
   "id": "08eb68e2",
   "metadata": {},
   "source": [
    "# Catching exceptions with arguments"
   ]
  },
  {
   "cell_type": "markdown",
   "id": "367da630",
   "metadata": {},
   "source": [
    "Some exceptions has arguments."
   ]
  },
  {
   "cell_type": "code",
   "execution_count": 22,
   "id": "b61b766c",
   "metadata": {},
   "outputs": [
    {
     "name": "stdout",
     "output_type": "stream",
     "text": [
      "OSError no. 12 caught\n"
     ]
    }
   ],
   "source": [
    "try:\n",
    "    raise OSError(12, 'Some Error')\n",
    "except OSError as e:\n",
    "    if e.errno == 12:\n",
    "        print('OSError no. 12 caught')\n",
    "    else:\n",
    "        raise"
   ]
  },
  {
   "cell_type": "code",
   "execution_count": 23,
   "id": "49ebcc76",
   "metadata": {},
   "outputs": [
    {
     "name": "stdout",
     "output_type": "stream",
     "text": [
      "(1)\n",
      "(2)\n",
      "('Test2', {'filename': 'test.py', 'lineno': 1000, 'offset': 1, 'text': 'My text ...'})\n",
      "(3) Get filename test.py\n",
      "(4) Traceback\n"
     ]
    }
   ],
   "source": [
    "try:\n",
    "    print(\"(1)\")\n",
    "    raise SyntaxError('Test2', {'filename': \"test.py\", 'lineno': 1000, 'offset': 1, 'text': \"My text ...\"})\n",
    "except SyntaxError as inst:\n",
    "    print(\"(2)\")\n",
    "    print(inst.args)\n",
    "    print(\"(3) Get filename %s\" % inst.args[1]['filename'])\n",
    "    print(\"(4) Traceback\")"
   ]
  },
  {
   "cell_type": "markdown",
   "id": "77384932",
   "metadata": {},
   "source": [
    "# Built in exceptions\n",
    "https://docs.python.org/3/library/exceptions.html"
   ]
  },
  {
   "cell_type": "markdown",
   "id": "58489781",
   "metadata": {},
   "source": [
    "# User defined exception"
   ]
  },
  {
   "cell_type": "code",
   "execution_count": 24,
   "id": "4b8f4924",
   "metadata": {},
   "outputs": [],
   "source": [
    "class MyError(Exception):\n",
    " \n",
    "    # Constructor or Initializer\n",
    "    def __init__(self, value):\n",
    "        self.value = value\n",
    " \n",
    "    # __str__ is to print() the value\n",
    "    def __str__(self):\n",
    "        return(repr(self.value))\n",
    " \n"
   ]
  },
  {
   "cell_type": "code",
   "execution_count": 25,
   "id": "c77c01df",
   "metadata": {},
   "outputs": [
    {
     "name": "stdout",
     "output_type": "stream",
     "text": [
      "A New Exception occured:  6\n"
     ]
    }
   ],
   "source": [
    "try:\n",
    "    raise(MyError(3*2))\n",
    "    \n",
    "except MyError as error:\n",
    "    print('A New Exception occured: ',error.value)"
   ]
  },
  {
   "cell_type": "markdown",
   "id": "0ed086a8",
   "metadata": {},
   "source": [
    "# Files and Exception"
   ]
  },
  {
   "cell_type": "code",
   "execution_count": null,
   "id": "522659bb",
   "metadata": {},
   "outputs": [],
   "source": []
  },
  {
   "cell_type": "code",
   "execution_count": 26,
   "id": "6daffabe",
   "metadata": {},
   "outputs": [
    {
     "name": "stdout",
     "output_type": "stream",
     "text": [
      "Everything is half here,\n",
      "like the marble head\n",
      "of the Roman emperor\n",
      "and the lean torso\n",
      "of his favorite.\n",
      "The way the funnel cloud\n",
      "which doesn't seem\n",
      "to touch ground does—\n",
      "flips a few cars, a semi—\n",
      "we learn to...\n"
     ]
    }
   ],
   "source": [
    "# files/open_try.py\n",
    "fh = open('fear.txt', 'rt')  # r: read, t: text\n",
    "\n",
    "for line in fh.readlines():\n",
    "    print(line.strip())  # remove whitespace and print\n",
    "\n",
    "fh.close()"
   ]
  },
  {
   "cell_type": "code",
   "execution_count": 29,
   "id": "e4a9b8f5",
   "metadata": {},
   "outputs": [
    {
     "name": "stdout",
     "output_type": "stream",
     "text": [
      "Everything is half here,\n",
      "like the marble head\n",
      "of the Roman emperor\n",
      "and the lean torso\n",
      "of his favorite.\n",
      "The way the funnel cloud\n",
      "which doesn't seem\n",
      "to touch ground does—\n",
      "flips a few cars, a semi—\n",
      "we learn to...\n"
     ]
    }
   ],
   "source": [
    "# files/open_try.py\n",
    "try:\n",
    "    fh = open('fear.txt', 'rt')\n",
    "    for line in fh.readlines():\n",
    "        print(line.strip())\n",
    "except FileNotFoundError:\n",
    "    print(\"Please touch the fear.txt\")\n",
    "else:\n",
    "    fh.close()"
   ]
  },
  {
   "cell_type": "code",
   "execution_count": 30,
   "id": "8e1f6b75",
   "metadata": {},
   "outputs": [
    {
     "name": "stdout",
     "output_type": "stream",
     "text": [
      "Everything is half here,\n",
      "like the marble head\n",
      "of the Roman emperor\n",
      "and the lean torso\n",
      "of his favorite.\n",
      "The way the funnel cloud\n",
      "which doesn't seem\n",
      "to touch ground does—\n",
      "flips a few cars, a semi—\n",
      "we learn to...\n"
     ]
    }
   ],
   "source": [
    "# files/open_try.py\n",
    "try:\n",
    "    fh = open('fear.txt')  # rt is default\n",
    "    for line in fh:  # we can iterate directly on fh\n",
    "        print(line.strip())\n",
    "finally:\n",
    "    fh.close()"
   ]
  },
  {
   "cell_type": "markdown",
   "id": "82560006",
   "metadata": {},
   "source": [
    "Let's admit it: the prospect of having to disseminate our code with try/finally blocks is not one of the best. As usual, Python gives us a much nicer way to open a file in a secure fashion: by using a context manager. Let's see the code first:"
   ]
  },
  {
   "cell_type": "code",
   "execution_count": 35,
   "id": "5aa32ba2",
   "metadata": {},
   "outputs": [
    {
     "ename": "SyntaxError",
     "evalue": "invalid syntax (437158546.py, line 1)",
     "output_type": "error",
     "traceback": [
      "\u001b[0;36m  Input \u001b[0;32mIn [35]\u001b[0;36m\u001b[0m\n\u001b[0;31m    คือ block try...finally f.close() สามารถเปลี่ยนเป้น with ได้\u001b[0m\n\u001b[0m        ^\u001b[0m\n\u001b[0;31mSyntaxError\u001b[0m\u001b[0;31m:\u001b[0m invalid syntax\n"
     ]
    }
   ],
   "source": [
    "คือ block try...finally f.close() สามารถเปลี่ยนเป้น with ได้"
   ]
  },
  {
   "cell_type": "code",
   "execution_count": 36,
   "id": "d07aea3b",
   "metadata": {},
   "outputs": [
    {
     "name": "stdout",
     "output_type": "stream",
     "text": [
      "Everything is half here,\n",
      "like the marble head\n",
      "of the Roman emperor\n",
      "and the lean torso\n",
      "of his favorite.\n",
      "The way the funnel cloud\n",
      "which doesn't seem\n",
      "to touch ground does—\n",
      "flips a few cars, a semi—\n",
      "we learn to...\n"
     ]
    }
   ],
   "source": [
    "# files/open_with.py\n",
    "# Remove fear.txt and retry\n",
    "with open('fear.txt') as fh:\n",
    "    for line in fh:\n",
    "        print(line.strip())"
   ]
  },
  {
   "cell_type": "markdown",
   "id": "b9b3c5ab",
   "metadata": {},
   "source": [
    "The previous example is equivalent to the one before it, but reads so much better. The with statement supports the concept of a runtime context defined by a context manager. This is implemented using a pair of methods, __enter__ and __exit__, that allow user-defined classes to define a runtime context that is entered before the statement body is executed and exited when the statement ends. The open function is capable of producing a file object when invoked by a context manager, but the true beauty of it lies in the fact that fh.close() will be called automatically for us, even in case of errors.\n",
    "\n",
    "Context managers are used in several different scenarios, such as thread synchronization, closure of files or other objects, and management of network and database connections. You can find information about them in the contextlib documentation page (https://docs.python.org/3.7/library/contextlib.html)."
   ]
  },
  {
   "cell_type": "code",
   "execution_count": 37,
   "id": "8c252460",
   "metadata": {},
   "outputs": [
    {
     "name": "stdout",
     "output_type": "stream",
     "text": [
      "Everything is half here,\n",
      "like the marble head\n",
      "of the Roman emperor\n",
      "and the lean torso\n",
      "of his favorite.\n",
      "The way the funnel cloud\n",
      "which doesn't seem\n",
      "to touch ground does—\n",
      "flips a few cars, a semi—\n",
      "we learn to...\n"
     ]
    }
   ],
   "source": [
    "try:\n",
    "    with open('fear.txt') as fh:\n",
    "        for line in fh:\n",
    "            print(line.strip())\n",
    "except FileNotFoundError:\n",
    "    print(\"Please touch the fear.txt\")"
   ]
  },
  {
   "cell_type": "markdown",
   "id": "0c8fda85",
   "metadata": {},
   "source": [
    "# Reading and writing to a file"
   ]
  },
  {
   "cell_type": "code",
   "execution_count": 38,
   "id": "2253ca16",
   "metadata": {},
   "outputs": [],
   "source": [
    "# files/print_file.py\n",
    "with open('print_example.txt', 'w') as fw:\n",
    "    print('Hey I am printing into a file!!!', file=fw)"
   ]
  },
  {
   "cell_type": "markdown",
   "id": "2c2fb841",
   "metadata": {},
   "source": [
    "mode w ไม่เขียนต่อจากบรรทัดสุดท้าย  เริ่มต้นเขียนใหม่ทุกครั้ง"
   ]
  },
  {
   "cell_type": "code",
   "execution_count": 39,
   "id": "c1b31cb3",
   "metadata": {},
   "outputs": [],
   "source": [
    "# files/read_write.py\n",
    "with open('fear.txt') as f:\n",
    "    lines = [line.rstrip() for line in f]\n",
    "\n",
    "with open('fear_copy.txt', 'w') as fw:\n",
    "    fw.write('\\n'.join(lines))"
   ]
  },
  {
   "cell_type": "markdown",
   "id": "c008d9d0",
   "metadata": {},
   "source": [
    "In the previous example, we first open fear.txt and collect its content into a list, line by line. Notice that this time, I'm calling a more precise method, rstrip(), as an example, to make sure I only strip the whitespace on the right-hand side of every line.\n",
    "\n",
    "In the second part of the snippet, we create a new file, fear_copy.txt, and we write to it all the lines from the original file, joined by a newline, \\n. Python is gracious and works by default with universal newlines, which means that even though the original file might have a newline that is different than \\n, it will be translated automatically for us before the line is returned. This behavior is, of course, customizable, but normally it is exactly what you want. Speaking of newlines, can you think of one of them that might be missing in the copy?"
   ]
  },
  {
   "cell_type": "markdown",
   "id": "bf9fec51",
   "metadata": {},
   "source": [
    "# Reading and writing in binary mode"
   ]
  },
  {
   "cell_type": "markdown",
   "id": "189ae44e",
   "metadata": {},
   "source": [
    "บางครั้ง  ค่าบางอย่างเราควรเก็บเป็น binary file เช่น เก็บตัวแปรของเมทริกซ์ใน numpy วิธีการเก็บเป็น binary mode คือ"
   ]
  },
  {
   "cell_type": "code",
   "execution_count": 40,
   "id": "60598c2e",
   "metadata": {},
   "outputs": [
    {
     "name": "stdout",
     "output_type": "stream",
     "text": [
      "b'This is binary data...'\n"
     ]
    }
   ],
   "source": [
    "# files/read_write_bin.py\n",
    "with open('example.bin', 'wb') as fw:\n",
    "    fw.write(b'This is binary data...')\n",
    "\n",
    "with open('example.bin', 'rb') as f:\n",
    "    print(f.read())  # prints: b'This is binary data...'"
   ]
  },
  {
   "cell_type": "markdown",
   "id": "661611f0",
   "metadata": {},
   "source": [
    "In this example, I'm still using text as binary data, but it could be anything you want. You can see it's treated as a binary by the fact that you get the b'This ...' prefix in the output."
   ]
  },
  {
   "cell_type": "markdown",
   "id": "d1acd5dc",
   "metadata": {},
   "source": [
    "# Protecting against overriding an existing file"
   ]
  },
  {
   "cell_type": "markdown",
   "id": "cf4d53c7",
   "metadata": {},
   "source": [
    "ถ้าเราใช้โหมด w แล้วชื่อไฟล์นั้นมีข้อมูลเก่าอยู่  มันจะลบข้อมูลเก่าทั้งหมดแล้วเขียนข้อมูลใหม่ลงไป  เพื่อป้องกันการเขียนทับ  เราใช้โหมด x มันจะraise exception ถ้าไฟล์นั้นมีอยู่แล้ว"
   ]
  },
  {
   "cell_type": "code",
   "execution_count": 41,
   "id": "89a3e2ef",
   "metadata": {},
   "outputs": [
    {
     "ename": "FileExistsError",
     "evalue": "[Errno 17] File exists: 'write_x.txt'",
     "output_type": "error",
     "traceback": [
      "\u001b[0;31m---------------------------------------------------------------------------\u001b[0m",
      "\u001b[0;31mFileExistsError\u001b[0m                           Traceback (most recent call last)",
      "Input \u001b[0;32mIn [41]\u001b[0m, in \u001b[0;36m<cell line: 2>\u001b[0;34m()\u001b[0m\n\u001b[1;32m      1\u001b[0m \u001b[38;5;66;03m# files/write_not_exists.py\u001b[39;00m\n\u001b[0;32m----> 2\u001b[0m \u001b[38;5;28;01mwith\u001b[39;00m \u001b[38;5;28;43mopen\u001b[39;49m\u001b[43m(\u001b[49m\u001b[38;5;124;43m'\u001b[39;49m\u001b[38;5;124;43mwrite_x.txt\u001b[39;49m\u001b[38;5;124;43m'\u001b[39;49m\u001b[43m,\u001b[49m\u001b[43m \u001b[49m\u001b[38;5;124;43m'\u001b[39;49m\u001b[38;5;124;43mx\u001b[39;49m\u001b[38;5;124;43m'\u001b[39;49m\u001b[43m)\u001b[49m \u001b[38;5;28;01mas\u001b[39;00m fw:\n\u001b[1;32m      3\u001b[0m     fw\u001b[38;5;241m.\u001b[39mwrite(\u001b[38;5;124m'\u001b[39m\u001b[38;5;124mWriting line 1\u001b[39m\u001b[38;5;130;01m\\n\u001b[39;00m\u001b[38;5;124m'\u001b[39m)  \u001b[38;5;66;03m# this succeeds\u001b[39;00m\n\u001b[1;32m      5\u001b[0m \u001b[38;5;28;01mwith\u001b[39;00m \u001b[38;5;28mopen\u001b[39m(\u001b[38;5;124m'\u001b[39m\u001b[38;5;124mwrite_x.txt\u001b[39m\u001b[38;5;124m'\u001b[39m, \u001b[38;5;124m'\u001b[39m\u001b[38;5;124mx\u001b[39m\u001b[38;5;124m'\u001b[39m) \u001b[38;5;28;01mas\u001b[39;00m fw:\n",
      "\u001b[0;31mFileExistsError\u001b[0m: [Errno 17] File exists: 'write_x.txt'"
     ]
    }
   ],
   "source": [
    "# files/write_not_exists.py\n",
    "with open('write_x.txt', 'x') as fw:\n",
    "    fw.write('Writing line 1\\n')  # this succeeds\n",
    "\n",
    "with open('write_x.txt', 'x') as fw:\n",
    "    fw.write('Writing line 2\\n')  # this fails"
   ]
  },
  {
   "cell_type": "markdown",
   "id": "97d9695c",
   "metadata": {},
   "source": [
    "แต่ถ้าเป้นโหมด a จะเขียนต่อจากบรรทัดสุดท้ายทำให้ไม่มีปัญหา"
   ]
  },
  {
   "cell_type": "code",
   "execution_count": 42,
   "id": "71d44fab",
   "metadata": {},
   "outputs": [],
   "source": [
    "with open('write_x.txt', 'a') as fw:\n",
    "    fw.write('Writing line 3 append\\n')  "
   ]
  },
  {
   "cell_type": "markdown",
   "id": "aa2207b4",
   "metadata": {},
   "source": [
    "If you run the previous snippet, you will find a file called write_x.txt in your directory, containing only one line of text. The second part of the snippet, in fact, fails to execute. This is the output I get on my console:"
   ]
  },
  {
   "cell_type": "markdown",
   "id": "495fcdc3",
   "metadata": {},
   "source": [
    "```python\n",
    "$ python write_not_exists.py\n",
    "\n",
    "Traceback (most recent call last):\n",
    "  File \"write_not_exists.py\", line 6, in <module>\n",
    "    with open('write_x.txt', 'x') as fw:\n",
    "FileExistsError: [Errno 17] File exists: 'write_x.txt'\n",
    "```"
   ]
  },
  {
   "cell_type": "code",
   "execution_count": 43,
   "id": "18baa803",
   "metadata": {},
   "outputs": [
    {
     "name": "stdout",
     "output_type": "stream",
     "text": [
      "[Errno 17] File exists: 'write_x.txt'\n"
     ]
    }
   ],
   "source": [
    "try:\n",
    "    # files/write_not_exists.py\n",
    "    with open('write_x.txt', 'x') as fw:\n",
    "        fw.write('Writing line 1\\n')  # this succeeds\n",
    "\n",
    "    with open('write_x.txt', 'x') as fw:\n",
    "        fw.write('Writing line 2\\n')  # this fails\n",
    "except FileExistsError as e:\n",
    "    print(str(e))"
   ]
  },
  {
   "cell_type": "markdown",
   "id": "395586fd",
   "metadata": {},
   "source": [
    "# Checking for file and directory existence"
   ]
  },
  {
   "cell_type": "code",
   "execution_count": 44,
   "id": "8dcad2d2",
   "metadata": {},
   "outputs": [
    {
     "name": "stdout",
     "output_type": "stream",
     "text": [
      "True\n",
      "True\n",
      "/home/peerajak/aprof/cs112_64_2/tex/ipynb\n"
     ]
    }
   ],
   "source": [
    "# files/existence.py\n",
    "import os\n",
    "\n",
    "filename = 'fear.txt'\n",
    "path = os.path.dirname(os.path.abspath(filename))\n",
    "\n",
    "print(os.path.isfile(filename))  # True\n",
    "print(os.path.isdir(path))  # True\n",
    "print(path)  # /Users/fab/srv/lpp/ch7/files"
   ]
  },
  {
   "cell_type": "markdown",
   "id": "022f7cdd",
   "metadata": {},
   "source": [
    "# Manipulating files and directories"
   ]
  },
  {
   "cell_type": "code",
   "execution_count": 45,
   "id": "27814b58",
   "metadata": {
    "scrolled": true
   },
   "outputs": [
    {
     "name": "stdout",
     "output_type": "stream",
     "text": [
      "[('the', 5), ('of', 2), ('to', 2)]\n"
     ]
    }
   ],
   "source": [
    "# files/manipulation.py\n",
    "from collections import Counter\n",
    "from string import ascii_letters\n",
    "\n",
    "chars = ascii_letters + ' '\n",
    "\n",
    "def sanitize(s, chars):\n",
    "    return ''.join(c for c in s if c in chars)\n",
    "\n",
    "def reverse(s):\n",
    "    return s[::-1]\n",
    "\n",
    "with open('fear.txt') as fw:\n",
    "    lines = [line.rstrip() for line in fw]\n",
    "\n",
    "with open('raef.txt', 'w') as fw:\n",
    "    fw.write('\\n'.join(reverse(line) for line in lines))\n",
    "\n",
    "# now we can calculate some statistics\n",
    "lines = [sanitize(line, chars) for line in lines]\n",
    "whole = ' '.join(lines)\n",
    "cnt = Counter(whole.lower().split())\n",
    "print(cnt.most_common(3))"
   ]
  },
  {
   "cell_type": "markdown",
   "id": "8d1dac62",
   "metadata": {},
   "source": [
    "The previous example defines two functions: sanitize and reverse. They are simple functions whose purpose is to remove anything that is not a letter or space from a string, and produce the reversed copy of a string, respectively.\n",
    "\n",
    "We open fear.txt and we read its content into a list. Then we create a new file, raef.txt, which will contain the horizontally-mirrored version of the original one. We write all the content of lines with a single operation, using join on a new line character. Maybe more interesting, is the bit in the end. First, we reassign lines to a sanitized version of itself, by means of list comprehension. Then we put them together in the whole string, and finally, we pass the result to Counter. Notice that we split the string and put it in lowercase. This way, each word will be counted correctly, regardless of its case, and, thanks to split, we don't need to worry about extra spaces anywhere. When we print the three most common words, we realize that truly Thich Nhat Hanh's focus is on others, as we is the most common word in the text:"
   ]
  },
  {
   "cell_type": "code",
   "execution_count": 47,
   "id": "1aadd648",
   "metadata": {},
   "outputs": [
    {
     "data": {
      "text/plain": [
       "'ops_example1/A/D'"
      ]
     },
     "execution_count": 47,
     "metadata": {},
     "output_type": "execute_result"
    }
   ],
   "source": [
    "# files/ops_create.py\n",
    "import shutil\n",
    "import os\n",
    "\n",
    "BASE_PATH = 'ops_example1'  # this will be our base path\n",
    "os.mkdir(BASE_PATH)\n",
    "\n",
    "path_b = os.path.join(BASE_PATH, 'A', 'B')\n",
    "path_c = os.path.join(BASE_PATH, 'A', 'C')\n",
    "path_d = os.path.join(BASE_PATH, 'A', 'D')\n",
    "\n",
    "os.makedirs(path_b)\n",
    "os.makedirs(path_c)\n",
    "\n",
    "for filename in ('ex1.txt', 'ex2.txt', 'ex3.txt'):\n",
    "    with open(os.path.join(path_b, filename), 'w') as stream:\n",
    "        stream.write(f'Some content here in {filename}\\n')\n",
    "\n",
    "shutil.move(path_b, path_d)\n",
    "\n",
    "#shutil.move(\n",
    "#    os.path.join(path_d, 'ex1.txt'),\n",
    "#    os.path.join(path_d, 'ex1d.txt')\n",
    "#)"
   ]
  },
  {
   "cell_type": "markdown",
   "id": "7962f3fa",
   "metadata": {},
   "source": [
    "OS module in Python provides functions for interacting with the operating system. OS comes under Python’s standard utility modules. This module provides a portable way of using operating system dependent functionality. os.path module is sub-module of OS module in Python used for common pathname manipulation.\n",
    "os.path.join() method in Python join one or more path components intelligently. This method concatenates various path components with exactly one directory separator (‘/’) following each non-empty part except the last path component. If the last path component to be joined is empty then a directory separator (‘/’) is put at the end. \n",
    "If a path component represents an absolute path, then all previous components joined are discarded and joining continues from the absolute path component.\n",
    " "
   ]
  },
  {
   "cell_type": "markdown",
   "id": "e89d9c47",
   "metadata": {},
   "source": [
    "Linux \n",
    "```python \n",
    "$ tree ops_example/\n",
    "ops_example/\n",
    "└── A\n",
    "    ├── C\n",
    "    └── D\n",
    "        ├── ex1d.txt\n",
    "        ├── ex2.txt\n",
    "        └── ex3.txt\n",
    "```"
   ]
  },
  {
   "cell_type": "markdown",
   "id": "a8aec3dd",
   "metadata": {},
   "source": [
    " Windows\n",
    "```python \n",
    "$ tree /f ops_example/\n",
    "ops_example/\n",
    "└── A\n",
    "    ├── C\n",
    "    └── D\n",
    "        ├── ex1d.txt\n",
    "        ├── ex2.txt\n",
    "        └── ex3.txt\n",
    "```"
   ]
  },
  {
   "cell_type": "code",
   "execution_count": null,
   "id": "ac256f04",
   "metadata": {},
   "outputs": [],
   "source": [
    "# files/paths.py\n",
    "import os\n",
    "\n",
    "filename = 'fear.txt'\n",
    "path = os.path.abspath(filename)\n",
    "\n",
    "print(path)\n",
    "print(os.path.basename(path))\n",
    "print(os.path.dirname(path))\n",
    "print(os.path.splitext(path))\n",
    "print(os.path.split(path))\n",
    "\n",
    "readme_path = os.path.join(\n",
    "    os.path.dirname(path), '..', '..', 'README.rst')\n",
    "\n",
    "\n",
    "print(readme_path)\n",
    "print(os.path.normpath(readme_path))"
   ]
  },
  {
   "cell_type": "markdown",
   "id": "7d6c136f",
   "metadata": {},
   "source": [
    "# Directory Content"
   ]
  },
  {
   "cell_type": "code",
   "execution_count": null,
   "id": "3743672a",
   "metadata": {},
   "outputs": [],
   "source": [
    "# files/listing.py\n",
    "import os\n",
    "\n",
    "with os.scandir('.') as it:\n",
    "    for entry in it:\n",
    "        print(\n",
    "            entry.name, entry.path,\n",
    "            'File' if entry.is_file() else 'Folder'\n",
    "        )"
   ]
  },
  {
   "cell_type": "code",
   "execution_count": null,
   "id": "99de3c00",
   "metadata": {},
   "outputs": [],
   "source": [
    "# files/walking.py\n",
    "import os\n",
    "\n",
    "for root, dirs, files in os.walk('.'):\n",
    "    print(os.path.abspath(root))\n",
    "    if dirs:\n",
    "        print('Directories:')\n",
    "        for dir_ in dirs:\n",
    "            print(dir_)\n",
    "        print()\n",
    "    if files:\n",
    "        print('Files:')\n",
    "        for filename in files:\n",
    "            print(filename)\n",
    "        print()"
   ]
  },
  {
   "cell_type": "code",
   "execution_count": null,
   "id": "5244088b",
   "metadata": {},
   "outputs": [],
   "source": []
  }
 ],
 "metadata": {
  "kernelspec": {
   "display_name": "Python 3",
   "language": "python",
   "name": "python3"
  },
  "language_info": {
   "codemirror_mode": {
    "name": "ipython",
    "version": 3
   },
   "file_extension": ".py",
   "mimetype": "text/x-python",
   "name": "python",
   "nbconvert_exporter": "python",
   "pygments_lexer": "ipython3",
   "version": "3.10.8 (main, Oct 21 2022, 22:22:30) [Clang 14.0.0 (clang-1400.0.29.202)]"
  },
  "vscode": {
   "interpreter": {
    "hash": "b0fa6594d8f4cbf19f97940f81e996739fb7646882a419484c72d19e05852a7e"
   }
  }
 },
 "nbformat": 4,
 "nbformat_minor": 5
}
